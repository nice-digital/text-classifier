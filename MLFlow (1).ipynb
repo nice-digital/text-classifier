{
 "cells": [
  {
   "cell_type": "markdown",
   "id": "01e9f263-8f98-473a-b02d-b6f506741e3d",
   "metadata": {},
   "source": [
    "## Create Conda environment"
   ]
  },
  {
   "cell_type": "markdown",
   "id": "1120d3f2-67b7-46ee-a41a-067f24acfc20",
   "metadata": {},
   "source": [
    "#### Run the below commands in terminal but ensure conda is installed or use ananconda prompt which is installed alongside the anaconda package installation.\n",
    "\n",
    "--> *conda create -n mlflow_env python=3.9 ipykernel -y*; This creates a conda environment named mlfow_env (or whatever environment name is chosen) and installs python version 3.9 and an ipykernel inside this environment. Care must be taken when selecting a python version, otherwise, it could impede the import of MLFlow.\n",
    "\n",
    "--> Activate the conda environment created in the previous step by running *conda activate mlfow_env* (or whatever environment name is chosen).\n",
    "\n",
    "--> Add the newly created environment to the notebook as a **kernel** by running *python -m ipykernel install --user --name=mlfow_env* (or whatever environment name is chosen).\n",
    "\n",
    "--> Create a notebook within the created environment by running *pip install notebook*\n",
    "\n",
    "--> Install all required dependencies required for the project:\n",
    "\n",
    "-  *pip install mlflow*\n",
    "-  *pip install pandas*\n",
    "-  *pip install numpy*\n",
    "-  *pip install scikit-learn*\n",
    "-  *pip install imblearn*\n",
    "-  *pip install matplotlib*\n",
    "\n",
    "--> Finally! open notebook running the command: *jupyter notebook*.\n",
    "\n",
    "--> Click on *New* and choose the MLFlow **environment** you've just created."
   ]
  },
  {
   "cell_type": "code",
   "execution_count": 219,
   "id": "f9f8d87d-535e-4e38-a19d-fa9fe4e5eec0",
   "metadata": {},
   "outputs": [
    {
     "name": "stdout",
     "output_type": "stream",
     "text": [
      "Python 3.9.19\n"
     ]
    }
   ],
   "source": [
    "!python --version"
   ]
  },
  {
   "cell_type": "code",
   "execution_count": 220,
   "id": "c8577513-99f4-4c30-a416-87840c17b44c",
   "metadata": {},
   "outputs": [
    {
     "name": "stdout",
     "output_type": "stream",
     "text": [
      "C:\\Users\\TFakorede\\AppData\\Local\\anaconda3\\envs\\envname\\python.exe\n"
     ]
    }
   ],
   "source": [
    "import sys\n",
    "print(sys.executable)"
   ]
  },
  {
   "cell_type": "markdown",
   "id": "98573030-8b0c-4044-bff1-1e83f6feb601",
   "metadata": {},
   "source": [
    "## Using Logistic Regression"
   ]
  },
  {
   "cell_type": "markdown",
   "id": "7123d7db-271e-4a17-afa0-a7b4dea046a5",
   "metadata": {},
   "source": [
    "#### Install all required dependencies required for the project"
   ]
  },
  {
   "cell_type": "code",
   "execution_count": 359,
   "id": "a3c67c82-1a84-41c3-badf-4f8b0a225e01",
   "metadata": {},
   "outputs": [],
   "source": [
    "import spacy\n",
    "import pandas as pd\n",
    "import numpy as np\n",
    "import os\n",
    "import matplotlib.pyplot as plt\n",
    "from sklearn.model_selection import (train_test_split,RandomizedSearchCV,GridSearchCV)\n",
    "from sklearn import metrics\n",
    "from sklearn.metrics import (accuracy_score,precision_score,recall_score,\n",
    "log_loss,f1_score,roc_auc_score,confusion_matrix,ConfusionMatrixDisplay,classification_report)\n",
    "from sklearn.pipeline import Pipeline\n",
    "from sklearn.feature_extraction.text import TfidfVectorizer\n",
    "from sklearn.linear_model import LogisticRegression\n",
    "from sklearn.ensemble import RandomForestClassifier\n",
    "from pathlib import Path"
   ]
  },
  {
   "cell_type": "code",
   "execution_count": 223,
   "id": "28c4fee6-2f68-459f-a78b-1d85dedb9498",
   "metadata": {},
   "outputs": [
    {
     "name": "stdout",
     "output_type": "stream",
     "text": [
      "\u001b[1m\n",
      "============================== Info about spaCy ==============================\u001b[0m\n",
      "\n",
      "spaCy version    3.7.5                         \n",
      "Location         C:\\Users\\TFakorede\\AppData\\Local\\anaconda3\\envs\\envname\\lib\\site-packages\\spacy\n",
      "Platform         Windows-10-10.0.19045-SP0     \n",
      "Python version   3.9.19                        \n",
      "Pipelines        en_core_web_sm (3.7.1)        \n",
      "\n"
     ]
    }
   ],
   "source": [
    "!python -m spacy info"
   ]
  },
  {
   "cell_type": "markdown",
   "id": "1f0663a8-6215-43a6-b7bb-d8540051848d",
   "metadata": {},
   "source": [
    "#### Create train/test datasets from human/animal datasets"
   ]
  },
  {
   "cell_type": "code",
   "execution_count": 224,
   "id": "a6d2f164-168b-4b7e-82d7-1e2cf1169fe4",
   "metadata": {},
   "outputs": [
    {
     "name": "stdout",
     "output_type": "stream",
     "text": [
      "Index(['Title', 'Abstract', 'Primary Author', 'Journal', 'Year', 'Volume',\n",
      "       'Issue', 'Pages', 'Comments', 'Eppi ID', 'target'],\n",
      "      dtype='object')\n",
      "Index(['Title', 'Abstract', 'Primary Author', 'Journal', 'Year', 'Volume',\n",
      "       'Issue', 'Pages', 'Comments', 'Eppi ID', 'target'],\n",
      "      dtype='object')\n"
     ]
    }
   ],
   "source": [
    "#@title Create train/test datasets from human/animal datasets { form-width: \"20%\" }\n",
    "animal = pd.read_csv('excludes_Animal_2200.csv')\n",
    "human = pd.read_csv('includes_human_2400.csv')\n",
    "\n",
    "#add target variable\n",
    "animal['target'] = 0\n",
    "human['target'] = 1\n",
    "\n",
    "print(animal.columns)\n",
    "print(human.columns)\n",
    "\n",
    "#combine & shuffle the datasets\n",
    "combined_data = pd.concat([animal, human], axis=0)\n",
    "shuffled_combined_df = combined_data.sample(frac=1).reset_index(drop=True)\n",
    "\n",
    "#create a 80-20 split from it\n",
    "training, testing = train_test_split(shuffled_combined_df, test_size=0.2, random_state=42)"
   ]
  },
  {
   "cell_type": "markdown",
   "id": "c05c5bb4-ae51-4d1b-8237-45f741b88308",
   "metadata": {},
   "source": [
    "#### File settings to get started"
   ]
  },
  {
   "cell_type": "code",
   "execution_count": 225,
   "id": "caf108d3-9b95-4894-97bd-297cdb76fa1c",
   "metadata": {},
   "outputs": [],
   "source": [
    "#@title File settings to get started  { form-width: \"20%\" }\n",
    "\n",
    "#@markdown Please ensure the training.csv and testing.csv are uploaded and execute this cell by pressing the _Play_ button\n",
    "#@markdown on the left\n",
    "\n",
    "#@markdown The training.csv and testing.csv files should have 'title', optional 'abstract' fields. Additionally the file should have a 'target' field\n",
    "#@markdown which indicates whether the title/abstract is an include (coded as 1) or exclude (coded as 0)\n",
    "TRAIN_PATH = 'training.csv'\n",
    "TEST_PATH = 'testing.csv'\n",
    "\n",
    "results_folder = 'RESULTS'\n",
    "RESULTS_FOLDER = results_folder     #***user input\n",
    "if not os.path.isdir(RESULTS_FOLDER):\n",
    "    os.makedirs(RESULTS_FOLDER)\n",
    "RESULTS_PATH = Path(RESULTS_FOLDER)"
   ]
  },
  {
   "cell_type": "markdown",
   "id": "2b23f728-e867-4662-9c3a-bf267b89e7b9",
   "metadata": {},
   "source": [
    "#### Read in input data as separate training.csv and testing.csv. Ignore this block if human/animal data was uploaded above."
   ]
  },
  {
   "cell_type": "code",
   "execution_count": null,
   "id": "16f8ce9b-ab15-4cf6-a30d-af1ed43858c0",
   "metadata": {},
   "outputs": [],
   "source": [
    "#@title Read in input data as separate training.csv and testing.csv. **Ignore** this block if human/animal data was uploaded above { form-width: \"20%\" }\n",
    "try:\n",
    "    training = pd.read_csv(TRAIN_PATH)\n",
    "    orig_colnames = training.columns\n",
    "    print(orig_colnames)\n",
    "\n",
    "    testing = pd.read_csv(TEST_PATH)\n",
    "\n",
    "except Exception as e:\n",
    "    print(e)\n",
    "    raise"
   ]
  },
  {
   "cell_type": "markdown",
   "id": "bfcde094-d937-4807-ab21-3d62a4fbf755",
   "metadata": {},
   "source": [
    "#### Read in input data"
   ]
  },
  {
   "cell_type": "code",
   "execution_count": 227,
   "id": "0c93e422-10e5-4e93-808f-ee2cdce7c5db",
   "metadata": {},
   "outputs": [
    {
     "name": "stdout",
     "output_type": "stream",
     "text": [
      "Number of studies in the training dataset: 3698\n",
      "Number of studies in the training dataset: 925\n",
      "Number of studies in the training dataset after de-dupe: 3692\n",
      "Number of studies in the testing dataset after de-dupe: 925\n"
     ]
    }
   ],
   "source": [
    "#@title Read in input data { form-width: \"20%\" }\n",
    "rename_map = {'Title': 'title', 'Abstract': 'abstract'}\n",
    "training.rename(columns = rename_map, inplace = True)\n",
    "testing.rename(columns = rename_map, inplace = True)\n",
    "print(\"Number of studies in the training dataset: \" + str(training.shape[0]))\n",
    "print(\"Number of studies in the training dataset: \" + str(testing.shape[0]))\n",
    "\n",
    "#rename the columns so that the relevant column names are 'title' and 'abstract'\n",
    "\n",
    "try:\n",
    "  training['title_orig'] = training['title']\n",
    "  testing['title_orig'] = testing['title']\n",
    "except Exception as e:\n",
    "  print(e)\n",
    "  print(\"Error- No title detected! Title is needed!\")\n",
    "  raise\n",
    "\n",
    "# drop any duplicates based on 'title'\n",
    "training.drop_duplicates(subset=['title'], inplace=True)\n",
    "testing.drop_duplicates(subset=['title'], inplace=True)\n",
    "print(\"Number of studies in the training dataset after de-dupe: \" + str(training.shape[0]))\n",
    "print(\"Number of studies in the testing dataset after de-dupe: \" + str(testing.shape[0]))\n",
    "\n",
    "training['titleabstract'] = training['title'] + \" \" + training['abstract']\n",
    "training['titleabstract'] = training['titleabstract'].str.lower()\n",
    "\n",
    "testing['titleabstract'] = testing['title'] + \" \" + testing['abstract']\n",
    "testing['titleabstract'] = testing['titleabstract'].str.lower()"
   ]
  },
  {
   "cell_type": "markdown",
   "id": "861a86d7-40c9-4a6b-ae03-5eb11aa2e731",
   "metadata": {},
   "source": [
    "#### Fit logistic regression model (in progress)"
   ]
  },
  {
   "cell_type": "code",
   "execution_count": 228,
   "id": "f8618251-b246-4f73-b5a3-ae4ab613ad43",
   "metadata": {},
   "outputs": [],
   "source": [
    "#@title Fit logistic regression model (in progress) { form-width: \"20%\" }\n",
    "\n",
    "#A sklearn pipeline comprising of tf-idf vectorizer (using tri-gram) and logistic regression model. The parameters for logistic regression\n",
    "#are taken from prior hyper-parameter tuning.\n",
    "text_clf = Pipeline([\n",
    "                ('tfidfvect', TfidfVectorizer(ngram_range = (3,3), stop_words = 'english')),\n",
    "                ('clf', LogisticRegression(C=100, max_iter = 5000, solver = 'liblinear', penalty = 'l2', class_weight = 'balanced')),\n",
    "               ])\n",
    "y_train = training['target']\n",
    "model = text_clf.fit(training['titleabstract'].astype(str),y_train)"
   ]
  },
  {
   "cell_type": "markdown",
   "id": "208c4d2b-c8ef-4d91-b059-c438e5393980",
   "metadata": {},
   "source": [
    "#### Predict category and evaluate performance (in progress)"
   ]
  },
  {
   "cell_type": "code",
   "execution_count": 229,
   "id": "b6588aa0-1e9d-4c30-80a7-8bb5e26cf216",
   "metadata": {},
   "outputs": [
    {
     "name": "stdout",
     "output_type": "stream",
     "text": [
      "Classification report:\n",
      "{'Accuracy': 0.806, 'Precision': 0.736, 'Recall': 0.979, 'F1-Score': 0.841, 'ROC_AUC': 0.799, 'FPR': 0.381, 'FNR': 0.021, 'Specificity': 0.619}\n"
     ]
    }
   ],
   "source": [
    "#@title Predict category and evaluate performance (in progress) { form-width: \"20%\" }\n",
    "\n",
    "#Using the model that was fit to the training data above, evaluate the model's performance on test data.\n",
    "data = testing['titleabstract'].astype(str)\n",
    "y_test = testing['target']\n",
    "yhat = model.predict(data)\n",
    "yhat_probs = model.predict_proba(data)[:,1]\n",
    "yhat_adjusted = np.zeros(data.shape[0], dtype=int)\n",
    "THRESHOLD = 0.4\n",
    "yhat_adjusted[yhat_probs >= THRESHOLD] = 1\n",
    "\n",
    "report_dict = {}\n",
    "decimal_places = 3\n",
    "report_dict['Accuracy'] = round(accuracy_score(y_test, yhat_adjusted), decimal_places)\n",
    "report_dict['Precision'] = precision_score(y_test,yhat_adjusted).round(decimal_places)\n",
    "report_dict['Recall'] = recall_score(y_test, yhat_adjusted, average = 'binary').round(decimal_places)\n",
    "report_dict['F1-Score'] = f1_score(y_test, yhat_adjusted).round(decimal_places)\n",
    "report_dict['ROC_AUC'] = roc_auc_score(y_test, yhat_adjusted).round(decimal_places)\n",
    "cm = confusion_matrix(y_test, yhat_adjusted)\n",
    "FP = cm[0][1]\n",
    "TN = cm[0][0]\n",
    "FN = cm[1][0]\n",
    "TP = cm[1][1]\n",
    "specificity = (TN / (TN+FP)).round(decimal_places)\n",
    "FPR = (FP/(FP+TN)).round(decimal_places)\n",
    "FNR = (FN/(FN+TP)).round(decimal_places)\n",
    "report_dict['FPR'] = FPR\n",
    "report_dict['FNR'] = FNR\n",
    "report_dict['Specificity'] = specificity\n",
    "\n",
    "print('Classification report:\\n{}'.format(report_dict))\n"
   ]
  },
  {
   "cell_type": "markdown",
   "id": "0569cba9-78d7-4562-965d-c916f85faa2c",
   "metadata": {},
   "source": [
    "## Using Random Forest Classifer."
   ]
  },
  {
   "cell_type": "markdown",
   "id": "bfafaf85-ff21-4dd8-980b-89011ac0d7d4",
   "metadata": {},
   "source": [
    "#### Data Preprocessing"
   ]
  },
  {
   "cell_type": "code",
   "execution_count": 350,
   "id": "9f6214a2-4215-4410-a8b9-d3d96441f0f1",
   "metadata": {},
   "outputs": [],
   "source": [
    "#@title Basic Preprocessing { form-width: \"20%\" }\n",
    "\n",
    "# Load dataset\n",
    "animal = pd.read_csv('excludes_Animal_2200.csv')\n",
    "human = pd.read_csv('includes_human_2400.csv')\n",
    "\n",
    "# prompt: shape of the df\n",
    "(animal.shape), (human.shape)\n",
    "#add target variable\n",
    "animal['target'] = 0\n",
    "human['target'] = 1"
   ]
  },
  {
   "cell_type": "code",
   "execution_count": 232,
   "id": "3769f400-d396-4f98-8c8b-3e80d3860a56",
   "metadata": {},
   "outputs": [
    {
     "data": {
      "text/plain": [
       "(Title                0\n",
       " Abstract            61\n",
       " Primary Author       4\n",
       " Journal              0\n",
       " Year                 0\n",
       " Volume              30\n",
       " Issue              687\n",
       " Pages              190\n",
       " Comments          2212\n",
       " Eppi ID              0\n",
       " target               0\n",
       " dtype: int64,\n",
       " Title                0\n",
       " Abstract           410\n",
       " Primary Author       0\n",
       " Journal              0\n",
       " Year                 2\n",
       " Volume              25\n",
       " Issue              113\n",
       " Pages                6\n",
       " Comments          2411\n",
       " Eppi ID              0\n",
       " target               0\n",
       " dtype: int64)"
      ]
     },
     "execution_count": 232,
     "metadata": {},
     "output_type": "execute_result"
    }
   ],
   "source": [
    "animal.isna().sum(), human.isna().sum()"
   ]
  },
  {
   "cell_type": "code",
   "execution_count": 234,
   "id": "ab7f8eb7-d5ab-4995-9c1a-2967456e3d73",
   "metadata": {},
   "outputs": [
    {
     "data": {
      "text/plain": [
       "(Index(['Title', 'Abstract', 'Primary Author', 'Journal', 'Year', 'Volume',\n",
       "        'Issue', 'Pages', 'Comments', 'Eppi ID', 'target'],\n",
       "       dtype='object'),\n",
       " Index(['Title', 'Abstract', 'Primary Author', 'Journal', 'Year', 'Volume',\n",
       "        'Issue', 'Pages', 'Comments', 'Eppi ID', 'target'],\n",
       "       dtype='object'))"
      ]
     },
     "execution_count": 234,
     "metadata": {},
     "output_type": "execute_result"
    }
   ],
   "source": [
    "animal.columns, human.columns"
   ]
  },
  {
   "cell_type": "code",
   "execution_count": 235,
   "id": "9303dc0b-de94-45d0-bd98-1bcdc48cdf2a",
   "metadata": {},
   "outputs": [
    {
     "data": {
      "text/plain": [
       "Index(['Title', 'Abstract'], dtype='object')"
      ]
     },
     "execution_count": 235,
     "metadata": {},
     "output_type": "execute_result"
    }
   ],
   "source": [
    "# Deleting unwanted columns\n",
    "human.drop(columns=['Primary Author', 'Journal', 'Year', 'Volume',\n",
    "       'Issue', 'Pages', 'Comments', 'Eppi ID', 'target'], inplace=True)\n",
    "animal.drop(columns=['Primary Author', 'Journal', 'Year', 'Volume',\n",
    "       'Issue', 'Pages', 'Comments', 'Eppi ID', 'target'], inplace=True)\n",
    "human.columns"
   ]
  },
  {
   "cell_type": "code",
   "execution_count": 236,
   "id": "be08a56b-a01a-42a7-95bb-f2b3844ca9b7",
   "metadata": {},
   "outputs": [
    {
     "data": {
      "text/plain": [
       "(2,)"
      ]
     },
     "execution_count": 236,
     "metadata": {},
     "output_type": "execute_result"
    }
   ],
   "source": [
    "animal.columns.shape"
   ]
  },
  {
   "cell_type": "code",
   "execution_count": 237,
   "id": "c265fde7-2e37-406c-be53-cf8fc6c07297",
   "metadata": {},
   "outputs": [
    {
     "data": {
      "text/plain": [
       "Title        0\n",
       "Abstract    61\n",
       "dtype: int64"
      ]
     },
     "execution_count": 237,
     "metadata": {},
     "output_type": "execute_result"
    }
   ],
   "source": [
    "animal.isna().sum()"
   ]
  },
  {
   "cell_type": "code",
   "execution_count": 238,
   "id": "f1596ab9-fa8b-4d4e-b47b-f01f00d5ff49",
   "metadata": {},
   "outputs": [
    {
     "data": {
      "text/plain": [
       "Title         0\n",
       "Abstract    410\n",
       "dtype: int64"
      ]
     },
     "execution_count": 238,
     "metadata": {},
     "output_type": "execute_result"
    }
   ],
   "source": [
    "human.isnull().sum()"
   ]
  },
  {
   "cell_type": "code",
   "execution_count": 239,
   "id": "c71a23f0-ba68-4f43-a6fe-ead18f9ee3a7",
   "metadata": {},
   "outputs": [
    {
     "data": {
      "text/plain": [
       "Title       0\n",
       "Abstract    0\n",
       "dtype: int64"
      ]
     },
     "execution_count": 239,
     "metadata": {},
     "output_type": "execute_result"
    }
   ],
   "source": [
    "animal.dropna(inplace=True)\n",
    "animal.isna().sum()"
   ]
  },
  {
   "cell_type": "code",
   "execution_count": 240,
   "id": "daaceb42-2acc-4114-af15-aae90475a3c6",
   "metadata": {},
   "outputs": [
    {
     "data": {
      "text/plain": [
       "Title       0\n",
       "Abstract    0\n",
       "dtype: int64"
      ]
     },
     "execution_count": 240,
     "metadata": {},
     "output_type": "execute_result"
    }
   ],
   "source": [
    "human.dropna(inplace=True)\n",
    "human.isna().sum()"
   ]
  },
  {
   "cell_type": "code",
   "execution_count": 241,
   "id": "981527ec-44a0-4065-b707-e4a85df89142",
   "metadata": {},
   "outputs": [],
   "source": [
    "animal['label'] = 0\n",
    "human['label'] = 1"
   ]
  },
  {
   "cell_type": "code",
   "execution_count": 242,
   "id": "f7cf4be0-5730-46f1-8c1a-286edffd7093",
   "metadata": {},
   "outputs": [
    {
     "data": {
      "text/plain": [
       "((2151, 3), (2001, 3))"
      ]
     },
     "execution_count": 242,
     "metadata": {},
     "output_type": "execute_result"
    }
   ],
   "source": [
    "#Pretty balanced\n",
    "animal.shape, human.shape"
   ]
  },
  {
   "cell_type": "code",
   "execution_count": 243,
   "id": "fdfd798d-df1b-401e-898c-6a611860ec62",
   "metadata": {},
   "outputs": [
    {
     "name": "stdout",
     "output_type": "stream",
     "text": [
      "(4152, 3)\n"
     ]
    }
   ],
   "source": [
    "#combine & shuffle the datasets\n",
    "combined_df = pd.concat([animal, human], axis=0)\n",
    "shuffled_combined_df = combined_df.sample(frac=1).reset_index(drop=True)\n",
    "\n",
    "print(shuffled_combined_df.shape)\n",
    "# shuffled_combined_df.head()"
   ]
  },
  {
   "cell_type": "markdown",
   "id": "789188f6-dec1-485d-977f-e9426876167e",
   "metadata": {},
   "source": [
    "#### Read in input data"
   ]
  },
  {
   "cell_type": "code",
   "execution_count": 244,
   "id": "d1de2296-387d-4120-adbb-8809db4f0181",
   "metadata": {},
   "outputs": [
    {
     "name": "stdout",
     "output_type": "stream",
     "text": [
      "Number of studies in the training dataset: 4152\n",
      "Number of studies in the training dataset after de-dupe: 4148\n"
     ]
    },
    {
     "data": {
      "text/plain": [
       "Index(['title', 'abstract', 'label', 'title_orig', 'titleabstract'], dtype='object')"
      ]
     },
     "execution_count": 244,
     "metadata": {},
     "output_type": "execute_result"
    }
   ],
   "source": [
    "# rename the columns so that the relevant column names are 'title' and 'abstract'\n",
    "rename_map = {'Title': 'title', 'Abstract': 'abstract'}\n",
    "shuffled_combined_df.rename(columns = rename_map, inplace = True)\n",
    "print(\"Number of studies in the training dataset: \" + str(shuffled_combined_df.shape[0]))\n",
    "\n",
    "\n",
    "try:\n",
    "  shuffled_combined_df['title_orig'] = shuffled_combined_df['title']\n",
    "except Exception as e:\n",
    "  print(e)\n",
    "  print(\"Error- No title detected! Title is needed!\")\n",
    "  raise\n",
    "\n",
    "\n",
    "# drop any duplicates based on 'title'\n",
    "shuffled_combined_df.drop_duplicates(subset=['title'], inplace=True)\n",
    "print(\"Number of studies in the training dataset after de-dupe: \" + str(shuffled_combined_df.shape[0]))\n",
    "\n",
    "shuffled_combined_df['titleabstract'] = shuffled_combined_df['title'] + \" \" + shuffled_combined_df['abstract']\n",
    "shuffled_combined_df['titleabstract'] = shuffled_combined_df['titleabstract'].str.lower()\n",
    "\n",
    "\n",
    "#sanity check\n",
    "shuffled_combined_df.columns"
   ]
  },
  {
   "cell_type": "markdown",
   "id": "68320bb7-edb9-4caf-968a-2dabfb7c9f07",
   "metadata": {},
   "source": [
    "#### Text Preprocessing"
   ]
  },
  {
   "cell_type": "code",
   "execution_count": 245,
   "id": "10da574d-43d0-404e-be44-1bc095dc5c80",
   "metadata": {},
   "outputs": [],
   "source": [
    "# Load English tokenizer, tagger, parser and NER\n",
    "nlp = spacy.load(\"en_core_web_sm\")"
   ]
  },
  {
   "cell_type": "code",
   "execution_count": 246,
   "id": "c12b4f04-f38e-4c83-9996-9c55a6a15c17",
   "metadata": {},
   "outputs": [],
   "source": [
    "#lemmatization\n",
    "def lemmatization(titleabstract):\n",
    "    doc = nlp(titleabstract)\n",
    "    lemmalist = [word.lemma_ for word in doc]\n",
    "    return \" \".join(lemmalist)"
   ]
  },
  {
   "cell_type": "code",
   "execution_count": 247,
   "id": "e3316214-8aed-4611-8649-b8cd298065fe",
   "metadata": {},
   "outputs": [],
   "source": [
    "shuffled_combined_df['lemma'] = shuffled_combined_df['titleabstract'].apply(lemmatization)"
   ]
  },
  {
   "cell_type": "code",
   "execution_count": 248,
   "id": "a8bd6618-d89b-4aac-a225-fa2043a42e26",
   "metadata": {},
   "outputs": [],
   "source": [
    "# shuffled_combined_df.head()"
   ]
  },
  {
   "cell_type": "code",
   "execution_count": 249,
   "id": "ca7b989a-808c-4d11-a85c-b91a5b95d2a9",
   "metadata": {},
   "outputs": [],
   "source": [
    "def remove_stopwords(titleabstract):\n",
    "    doc = nlp(titleabstract)\n",
    "    no_stopwords = [word.text for word in doc if not word.is_stop]\n",
    "    return \" \".join(no_stopwords)"
   ]
  },
  {
   "cell_type": "code",
   "execution_count": 250,
   "id": "ad1058a6-b6fe-48e0-859a-3d58dd2233a9",
   "metadata": {},
   "outputs": [],
   "source": [
    "shuffled_combined_df['stopwords'] = shuffled_combined_df['lemma'].apply(remove_stopwords)"
   ]
  },
  {
   "cell_type": "code",
   "execution_count": 256,
   "id": "0d4101b7-350b-42f5-a4da-099366321038",
   "metadata": {},
   "outputs": [],
   "source": [
    "# shuffled_combined_df.head()"
   ]
  },
  {
   "cell_type": "markdown",
   "id": "aacfb238-7f75-45b3-b0a9-4ed2558f4d9b",
   "metadata": {},
   "source": [
    "#### Train-Test Split: Splits the data into training and test sets."
   ]
  },
  {
   "cell_type": "code",
   "execution_count": 257,
   "id": "e552f1d8-96c3-4f73-b7f5-0c09357c42ed",
   "metadata": {},
   "outputs": [],
   "source": [
    "from sklearn.model_selection import train_test_split\n",
    "\n",
    "# Split the dataset into features (X) and target (y)\n",
    "def custom_train_test_split(shuffled_combined_df):\n",
    "    X = shuffled_combined_df['stopwords']\n",
    "    y = shuffled_combined_df['label']\n",
    "\n",
    "    # X.head()\n",
    "\n",
    "    # Split the dataset into training and test sets\n",
    "    # create a 80-20 split from it\n",
    "    train_X, test_X, train_y, test_y = train_test_split(X, y, test_size = 0.2, random_state = 42) #**stratify = y\n",
    "    return train_X, test_X, train_y, test_y"
   ]
  },
  {
   "cell_type": "code",
   "execution_count": 258,
   "id": "4e98c188-980f-456e-8ba1-8583e107b0dd",
   "metadata": {},
   "outputs": [],
   "source": [
    "train_X, test_X, train_y, test_y = custom_train_test_split(shuffled_combined_df)\n",
    "#train_test_split(shuffled_combined_df)"
   ]
  },
  {
   "cell_type": "markdown",
   "id": "f89fc1d6-dd54-47a2-9403-1d1aef65991a",
   "metadata": {},
   "source": [
    "#### Initialize the Random Forest classifier"
   ]
  },
  {
   "cell_type": "code",
   "execution_count": 259,
   "id": "7dade99d-2ab1-4ee9-8e7c-cc009ae3d431",
   "metadata": {},
   "outputs": [],
   "source": [
    "def training_basic_classifier(train_X, train_y):\n",
    "    from math import pi\n",
    "    basic_classifier = Pipeline([\n",
    "    ('b_vectorizer', TfidfVectorizer()),\n",
    "    ('b_classifier', RandomForestClassifier(n_jobs = 1, random_state = 42)) # n_estimators = 100, max_depth = 10, min_samples_split = 2, min_samples_leaf = 1\n",
    "    ])\n",
    "    # Train the model\n",
    "    basic_classifier.fit(train_X, train_y)\n",
    "\n",
    "    return model"
   ]
  },
  {
   "cell_type": "code",
   "execution_count": 260,
   "id": "ea1e611e-404b-48a8-b0d8-d8f38c88570b",
   "metadata": {},
   "outputs": [],
   "source": [
    "model = training_basic_classifier(train_X,train_y)"
   ]
  },
  {
   "cell_type": "code",
   "execution_count": 261,
   "id": "ceacd0ac-04e0-4d3b-9456-ee1b975323ce",
   "metadata": {},
   "outputs": [],
   "source": [
    "def predict_on_test_data(model, test_X):\n",
    "    pred_y = model.predict(test_X)\n",
    "    # basic_classifier.score(test_X, test_y) * 100\n",
    "    return pred_y"
   ]
  },
  {
   "cell_type": "code",
   "execution_count": 262,
   "id": "f2df0cfb-55ef-4551-bc74-89d0837cc520",
   "metadata": {},
   "outputs": [],
   "source": [
    "pred_y = predict_on_test_data(model,test_X)"
   ]
  },
  {
   "cell_type": "code",
   "execution_count": 263,
   "id": "01f18912-80e7-4a71-ac5f-240fcee315f1",
   "metadata": {},
   "outputs": [],
   "source": [
    "# pred_y"
   ]
  },
  {
   "cell_type": "code",
   "execution_count": 264,
   "id": "3fc9cab6-ad14-4a70-99e3-d2225ae0aced",
   "metadata": {},
   "outputs": [],
   "source": [
    "def predict_prob_on_test_data(model, test_X):\n",
    "    pred_y = model.predict_proba(test_X)\n",
    "    return pred_y"
   ]
  },
  {
   "cell_type": "code",
   "execution_count": 265,
   "id": "fbbe9379-950f-4619-9f86-4406e6c8eb84",
   "metadata": {},
   "outputs": [],
   "source": [
    "pred_prob_y = predict_prob_on_test_data(model,test_X) #model.predict_proba(X_test)"
   ]
  },
  {
   "cell_type": "code",
   "execution_count": 266,
   "id": "59eacc72-04ae-4778-bf21-9e7a757256ac",
   "metadata": {},
   "outputs": [
    {
     "data": {
      "text/plain": [
       "array([[0.03014555, 0.96985445],\n",
       "       [0.04820649, 0.95179351],\n",
       "       [0.26383241, 0.73616759],\n",
       "       ...,\n",
       "       [0.90772237, 0.09227763],\n",
       "       [0.09139147, 0.90860853],\n",
       "       [0.87389207, 0.12610793]])"
      ]
     },
     "execution_count": 266,
     "metadata": {},
     "output_type": "execute_result"
    }
   ],
   "source": [
    "pred_prob_y"
   ]
  },
  {
   "cell_type": "code",
   "execution_count": 267,
   "id": "c399be61-d0ee-4943-8afd-b08e690cd2c6",
   "metadata": {},
   "outputs": [
    {
     "data": {
      "text/plain": [
       "149     1\n",
       "1973    1\n",
       "238     0\n",
       "1052    0\n",
       "308     0\n",
       "Name: label, dtype: int64"
      ]
     },
     "execution_count": 267,
     "metadata": {},
     "output_type": "execute_result"
    }
   ],
   "source": [
    "test_y[:5]"
   ]
  },
  {
   "cell_type": "code",
   "execution_count": 268,
   "id": "b00b6c25-64bd-4fc2-9f27-d5e1a28653cb",
   "metadata": {},
   "outputs": [],
   "source": [
    "def get_metrics(true_y, pred_y, pred_prob_y):\n",
    "    from sklearn.metrics import accuracy_score,precision_score,recall_score,log_loss\n",
    "    acc = accuracy_score(true_y, pred_y)\n",
    "    prec = precision_score(true_y, pred_y)\n",
    "    recall = recall_score(true_y, pred_y)\n",
    "    entropy = log_loss(true_y, pred_prob_y)\n",
    "    return {'accuracy': round(acc, 2), 'precision': round(prec, 2), 'recall': round(recall, 2), 'entropy': round(entropy, 2)}"
   ]
  },
  {
   "cell_type": "code",
   "execution_count": 269,
   "id": "2c529a17-3149-41bb-8e86-0a72f2a3bb3c",
   "metadata": {},
   "outputs": [],
   "source": [
    "run_metrics = get_metrics(test_y, pred_y, pred_prob_y)"
   ]
  },
  {
   "cell_type": "code",
   "execution_count": 270,
   "id": "7cd49a93-cb88-42d8-a405-92f463b9b059",
   "metadata": {},
   "outputs": [
    {
     "name": "stdout",
     "output_type": "stream",
     "text": [
      "{'accuracy': 0.94, 'precision': 0.89, 'recall': 0.99, 'entropy': 0.2}\n"
     ]
    }
   ],
   "source": [
    "print(f'{run_metrics}')"
   ]
  },
  {
   "cell_type": "code",
   "execution_count": 271,
   "id": "fe3afcef-2bfc-468a-a6cf-eddcb0f41288",
   "metadata": {},
   "outputs": [
    {
     "name": "stdout",
     "output_type": "stream",
     "text": [
      "classification Report:               precision    recall  f1-score   support\n",
      "\n",
      "           0       0.53      0.52      0.53       443\n",
      "           1       0.47      0.48      0.47       387\n",
      "\n",
      "    accuracy                           0.50       830\n",
      "   macro avg       0.50      0.50      0.50       830\n",
      "weighted avg       0.50      0.50      0.50       830\n",
      "\n"
     ]
    }
   ],
   "source": [
    "print(f'classification Report: {classification_report(test_y, pred)}')"
   ]
  },
  {
   "cell_type": "code",
   "execution_count": 272,
   "id": "d7ed5c1f-993e-47a8-b4d5-12537fb9b4e8",
   "metadata": {},
   "outputs": [],
   "source": [
    "def create_roc_auc_plot(clf, X_data, y_data):\n",
    "    metrics.RocCurveDisplay.from_estimator(clf, X_data, y_data)\n",
    "    plt.savefig('roc_auc_curve.png')"
   ]
  },
  {
   "cell_type": "code",
   "execution_count": 273,
   "id": "222f703c-b194-4a4a-8537-57653536a967",
   "metadata": {},
   "outputs": [
    {
     "data": {
      "image/png": "[encoded data removed]",
      "text/plain": [
       "<Figure size 640x480 with 1 Axes>"
      ]
     },
     "metadata": {},
     "output_type": "display_data"
    }
   ],
   "source": [
    "create_roc_auc_plot(basic_classifier, test_X, test_y)"
   ]
  },
  {
   "cell_type": "code",
   "execution_count": 274,
   "id": "2cf4b1f4-b6d0-4a40-a4cb-a63c33a8e23b",
   "metadata": {},
   "outputs": [],
   "source": [
    "def create_confusion_matrix_plot(clf, X_data, y_data):\n",
    "    ConfusionMatrixDisplay.from_estimator(clf, X_data, y_data)\n",
    "    plt.savefig('confusion_matrix.png')"
   ]
  },
  {
   "cell_type": "code",
   "execution_count": 275,
   "id": "464a3b73-720b-4eca-a144-2f566c260bba",
   "metadata": {},
   "outputs": [
    {
     "data": {
      "image/png": "[encoded data removed]",
      "text/plain": [
       "<Figure size 640x480 with 2 Axes>"
      ]
     },
     "metadata": {},
     "output_type": "display_data"
    }
   ],
   "source": [
    "create_confusion_matrix_plot(basic_classifier, test_X, test_y)"
   ]
  },
  {
   "cell_type": "code",
   "execution_count": 364,
   "id": "f62bc1c3-aa7a-4846-ada2-330303197dce",
   "metadata": {},
   "outputs": [],
   "source": [
    "def hyper_parameter_tuning(train_X, train_y):    \n",
    "    # Define the pipeline: Creating a pipeline with the preprocessing steps and the classifier.\n",
    "    hyper_classifier = Pipeline([\n",
    "        ('h_vectorizer', TfidfVectorizer()),\n",
    "        ('h_classifier', RandomForestClassifier()) # Added random_state for reproducibility\n",
    "    ])\n",
    "\n",
    "    \n",
    "  # define random parameters grid\n",
    "    n_estimators = [5,21,51,101] # number of trees in the random forest\n",
    "    max_features = ['auto', 'sqrt'] # number of features in consideration at every split\n",
    "    max_depth = [int(x) for x in np.linspace(10, 120, num = 12)] # maximum number of levels allowed in each decision tree\n",
    "    min_samples_split = [2, 6, 10] # minimum sample number to split a node\n",
    "    min_samples_leaf = [1, 3, 4] # minimum sample number that can be stored in a leaf node\n",
    "    bootstrap = [True, False] # method used to sample data points\n",
    "\n",
    "    random_grid = {'n_estimators': n_estimators,\n",
    "                    'max_features': max_features,\n",
    "                    'max_depth': max_depth,\n",
    "                    'min_samples_split': min_samples_split,\n",
    "                    'min_samples_leaf': min_samples_leaf,\n",
    "                    'bootstrap': bootstrap\n",
    "                  }\n",
    "    \n",
    "    classifier = RandomForestClassifier()\n",
    "    model_tuning = RandomizedSearchCV(estimator = classifier, \n",
    "                                      param_distributions = random_grid,\n",
    "                                      n_iter = 100, \n",
    "                                      cv = 5, \n",
    "                                      verbose=2, \n",
    "                                      random_state=35, \n",
    "                                      n_jobs = -1\n",
    "                                     )\n",
    "    \n",
    "    model_tuning.fit(train_X, train_y)\n",
    "\n",
    "    print ('Random grid: ', random_grid, '\\n')\n",
    "    # print the best parameters\n",
    "    print ('Best Parameters: ', model_tuning.best_params_, ' \\n')\n",
    "\n",
    "    best_params = model_tuning.best_params_\n",
    "    \n",
    "    n_estimators = best_params['n_estimators']\n",
    "    min_samples_split = best_params['min_samples_split']\n",
    "    min_samples_leaf = best_params['min_samples_leaf']\n",
    "    max_features = best_params['max_features']\n",
    "    max_depth = best_params['max_depth']\n",
    "    bootstrap = best_params['bootstrap']\n",
    "    \n",
    "    model_tuned = RandomForestClassifier(n_estimators = n_estimators, \n",
    "                                         min_samples_split = min_samples_split,\n",
    "                                         min_samples_leaf= min_samples_leaf, \n",
    "                                         max_features = max_features,\n",
    "                                         max_depth= max_depth, \n",
    "                                         bootstrap=bootstrap\n",
    "                                        ) \n",
    "    \n",
    "    # Fit the tuned model to the training data\n",
    "    model_tuned.fit(train_X, train_y)\n",
    "    \n",
    "    return model_tuned, best_params"
   ]
  },
  {
   "cell_type": "code",
   "execution_count": null,
   "id": "67ecc338-66dc-4510-81cd-4ec7c72cde2c",
   "metadata": {},
   "outputs": [],
   "source": [
    "h_model = hyper_parameter_tuning(train_X, train_y)"
   ]
  },
  {
   "cell_type": "markdown",
   "id": "0a91aa0b-9f4b-4879-937e-4274f1e86a47",
   "metadata": {},
   "source": [
    "## MLFlow"
   ]
  },
  {
   "cell_type": "markdown",
   "id": "db9c130f-af55-4e9f-b053-e442e42fe6f6",
   "metadata": {},
   "source": [
    "#### Create Experiment"
   ]
  },
  {
   "cell_type": "code",
   "execution_count": 292,
   "id": "f3679a4a-5298-424c-a40c-8105f36cac8b",
   "metadata": {},
   "outputs": [
    {
     "name": "stdout",
     "output_type": "stream",
     "text": [
      "{'accuracy': 0.94, 'precision': 0.89, 'recall': 0.99, 'entropy': 0.2}\n"
     ]
    }
   ],
   "source": [
    "experiment_name = \"basic_classifier\" #***basic classifier\n",
    "run_name=\"term_deposit\"\n",
    "run_metrics = get_metrics(test_y, pred_y, pred_prob_y)\n",
    "print(run_metrics)"
   ]
  },
  {
   "cell_type": "code",
   "execution_count": 294,
   "id": "afef52d8-d0f3-4d79-90ef-ed3a76ab6590",
   "metadata": {},
   "outputs": [
    {
     "name": "stderr",
     "output_type": "stream",
     "text": [
      "C:\\Users\\TFakorede\\AppData\\Local\\anaconda3\\envs\\envname\\lib\\site-packages\\_distutils_hack\\__init__.py:11: UserWarning: Distutils was imported before Setuptools, but importing Setuptools also replaces the `distutils` module in `sys.modules`. This may lead to undesirable behaviors or errors. To avoid these issues, avoid using distutils directly, ensure that setuptools is installed in the traditional way (e.g. not an editable install), and/or make sure that setuptools is always imported before distutils.\n",
      "  \n",
      "C:\\Users\\TFakorede\\AppData\\Local\\anaconda3\\envs\\envname\\lib\\site-packages\\_distutils_hack\\__init__.py:26: UserWarning: Setuptools is replacing distutils.\n",
      "  \n"
     ]
    },
    {
     "name": "stdout",
     "output_type": "stream",
     "text": [
      "Run - term_deposit is logged to Experiment - basic_classifier\n"
     ]
    }
   ],
   "source": [
    "create_experiment(experiment_name, run_name, run_metrics, model, 'confusion_matrix.png', 'roc_auc_curve.png')"
   ]
  },
  {
   "cell_type": "markdown",
   "id": "054fc778-e617-465c-a294-68d0d5d5c145",
   "metadata": {},
   "source": [
    "#### Create another experiment after hyperparameter tuning; log the best set of parameters for which model gives the optimal performance."
   ]
  },
  {
   "cell_type": "code",
   "execution_count": 347,
   "id": "e8b75c7e-e37c-43f6-9e7a-04e5d8621ec2",
   "metadata": {},
   "outputs": [
    {
     "name": "stdout",
     "output_type": "stream",
     "text": [
      "Fitting 5 folds for each of 100 candidates, totalling 500 fits\n"
     ]
    },
    {
     "name": "stderr",
     "output_type": "stream",
     "text": [
      "C:\\Users\\TFakorede\\AppData\\Local\\anaconda3\\envs\\envname\\lib\\site-packages\\sklearn\\model_selection\\_validation.py:540: FitFailedWarning: \n",
      "260 fits failed out of a total of 500.\n",
      "The score on these train-test partitions for these parameters will be set to nan.\n",
      "If these failures are not expected, you can try to debug them by setting error_score='raise'.\n",
      "\n",
      "Below are more details about the failures:\n",
      "--------------------------------------------------------------------------------\n",
      "162 fits failed with the following error:\n",
      "Traceback (most recent call last):\n",
      "  File \"C:\\Users\\TFakorede\\AppData\\Local\\anaconda3\\envs\\envname\\lib\\site-packages\\sklearn\\model_selection\\_validation.py\", line 888, in _fit_and_score\n",
      "    estimator.fit(X_train, y_train, **fit_params)\n",
      "  File \"C:\\Users\\TFakorede\\AppData\\Local\\anaconda3\\envs\\envname\\lib\\site-packages\\sklearn\\base.py\", line 1473, in wrapper\n",
      "    return fit_method(estimator, *args, **kwargs)\n",
      "  File \"C:\\Users\\TFakorede\\AppData\\Local\\anaconda3\\envs\\envname\\lib\\site-packages\\sklearn\\pipeline.py\", line 473, in fit\n",
      "    self._final_estimator.fit(Xt, y, **last_step_params[\"fit\"])\n",
      "  File \"C:\\Users\\TFakorede\\AppData\\Local\\anaconda3\\envs\\envname\\lib\\site-packages\\sklearn\\base.py\", line 1466, in wrapper\n",
      "    estimator._validate_params()\n",
      "  File \"C:\\Users\\TFakorede\\AppData\\Local\\anaconda3\\envs\\envname\\lib\\site-packages\\sklearn\\base.py\", line 666, in _validate_params\n",
      "    validate_parameter_constraints(\n",
      "  File \"C:\\Users\\TFakorede\\AppData\\Local\\anaconda3\\envs\\envname\\lib\\site-packages\\sklearn\\utils\\_param_validation.py\", line 95, in validate_parameter_constraints\n",
      "    raise InvalidParameterError(\n",
      "sklearn.utils._param_validation.InvalidParameterError: The 'max_features' parameter of RandomForestClassifier must be an int in the range [1, inf), a float in the range (0.0, 1.0], a str among {'log2', 'sqrt'} or None. Got 'auto' instead.\n",
      "\n",
      "--------------------------------------------------------------------------------\n",
      "98 fits failed with the following error:\n",
      "Traceback (most recent call last):\n",
      "  File \"C:\\Users\\TFakorede\\AppData\\Local\\anaconda3\\envs\\envname\\lib\\site-packages\\sklearn\\model_selection\\_validation.py\", line 888, in _fit_and_score\n",
      "    estimator.fit(X_train, y_train, **fit_params)\n",
      "  File \"C:\\Users\\TFakorede\\AppData\\Local\\anaconda3\\envs\\envname\\lib\\site-packages\\sklearn\\base.py\", line 1473, in wrapper\n",
      "    return fit_method(estimator, *args, **kwargs)\n",
      "  File \"C:\\Users\\TFakorede\\AppData\\Local\\anaconda3\\envs\\envname\\lib\\site-packages\\sklearn\\pipeline.py\", line 473, in fit\n",
      "    self._final_estimator.fit(Xt, y, **last_step_params[\"fit\"])\n",
      "  File \"C:\\Users\\TFakorede\\AppData\\Local\\anaconda3\\envs\\envname\\lib\\site-packages\\sklearn\\base.py\", line 1466, in wrapper\n",
      "    estimator._validate_params()\n",
      "  File \"C:\\Users\\TFakorede\\AppData\\Local\\anaconda3\\envs\\envname\\lib\\site-packages\\sklearn\\base.py\", line 666, in _validate_params\n",
      "    validate_parameter_constraints(\n",
      "  File \"C:\\Users\\TFakorede\\AppData\\Local\\anaconda3\\envs\\envname\\lib\\site-packages\\sklearn\\utils\\_param_validation.py\", line 95, in validate_parameter_constraints\n",
      "    raise InvalidParameterError(\n",
      "sklearn.utils._param_validation.InvalidParameterError: The 'max_features' parameter of RandomForestClassifier must be an int in the range [1, inf), a float in the range (0.0, 1.0], a str among {'sqrt', 'log2'} or None. Got 'auto' instead.\n",
      "\n",
      "  warnings.warn(some_fits_failed_message, FitFailedWarning)\n",
      "C:\\Users\\TFakorede\\AppData\\Local\\anaconda3\\envs\\envname\\lib\\site-packages\\sklearn\\model_selection\\_search.py:1102: UserWarning: One or more of the test scores are non-finite: [       nan 0.94785886        nan 0.93248832        nan        nan\n",
      " 0.90144924        nan 0.95207845        nan 0.97317687 0.93459767\n",
      " 0.88547993 0.75587418 0.96082066        nan 0.90807983        nan\n",
      "        nan 0.9635315         nan        nan 0.95027213        nan\n",
      "        nan        nan        nan        nan        nan        nan\n",
      " 0.91441331        nan        nan 0.89000391        nan 0.88366498\n",
      "        nan        nan        nan 0.95780407 0.96172473 0.9180205\n",
      " 0.93128623        nan        nan 0.94906913        nan 0.93519826\n",
      " 0.97016119 0.96534282 0.80951635 0.81675298 0.95630486        nan\n",
      "        nan 0.87281161 0.92766768        nan        nan        nan\n",
      "        nan 0.91501118 0.89481455        nan 0.9219407         nan\n",
      "        nan 0.96654809        nan 0.96081884 0.95087499 0.87914418\n",
      "        nan        nan 0.96081884        nan        nan        nan\n",
      "        nan 0.96503843        nan 0.93821758        nan        nan\n",
      " 0.95057152        nan 0.93670565        nan        nan 0.95810663\n",
      " 0.95599729        nan        nan 0.94454379 0.95689909        nan\n",
      " 0.84267931 0.87190481 0.84388868 0.95117165]\n",
      "  warnings.warn(\n"
     ]
    },
    {
     "name": "stdout",
     "output_type": "stream",
     "text": [
      "param_distributions: {'h_vectorizer__max_df': [0.75, 1.0], 'h_vectorizer__max_features': [None, 5000, 10000], 'h_vectorizer__ngram_range': [(1, 1), (1, 2)], 'h_classifier__n_estimators': [5, 21, 51, 101], 'h_classifier__max_features': ['auto', 'sqrt'], 'h_classifier__max_depth': [10, 20, 30, 40, 50, 60, 70, 80, 90, 100, 110, 120], 'h_classifier__min_samples_split': [2, 6, 10], 'h_classifier__min_samples_leaf': [1, 3, 4], 'h_classifier__bootstrap': [True, False]}\n",
      "\n",
      "Best Parameters: {'h_vectorizer__ngram_range': (1, 2), 'h_vectorizer__max_features': 5000, 'h_vectorizer__max_df': 0.75, 'h_classifier__n_estimators': 101, 'h_classifier__min_samples_split': 2, 'h_classifier__min_samples_leaf': 1, 'h_classifier__max_features': 'sqrt', 'h_classifier__max_depth': 70, 'h_classifier__bootstrap': False}\n",
      "Best Score: 0.9731768703774375\n"
     ]
    },
    {
     "ename": "ValueError",
     "evalue": "could not convert string to float: 'cellular imaging bactericidal mechanism green - synthesize silver nanoparticle human pathogenic bacteria . recent year , silver nanoparticle ( agnps ) attract significant attention medicinal , biomedical , pharmaceutical research owe valuable physicochemical antibacterial property . leaf sap extract ( lse ) aloe arborescen use active ingredient different biological application , include wound healing . study , investigate use lse a. arborescen reducing , stabilize cap agent produce agnps \" green synthesis \" ( g - agnps ) . objective study prepare , characterize evaluate potential g - agnps human pathogenic bacteria intend use treatment infected wound . mixture silver nitrate solution lse expose direct sunlight yield rapid color change colorless reddish - brown , indicate formation g - agnps . physicochemical characterization single particle inductively couple plasma mass spectrometry , high resolution transmission electron microscopy surface chemistry study ( fouri transform infrared spectroscopy x - ray diffraction ) reveal small size range 38+/-2 nm , smooth surface existence lse g - agnps . g - agnps possess good antibacterial activity pseudomonas aeruginosa staphylococcus aureus . flow cytometry study reveal increase percentage dead cell treat g - agnps cell membrane damage , far confirm confocal laser scan microscopy . , present study reveal novel g - agnps demonstrate effective antibacterial property gram - negative gram - positive bacterial strain great potential use treatment pathogen infected wound . copyright © 2017 elsevi b.v . right reserve .'",
     "output_type": "error",
     "traceback": [
      "\u001b[1;31m---------------------------------------------------------------\u001b[0m",
      "\u001b[1;31mValueError\u001b[0m                    Traceback (most recent call last)",
      "Cell \u001b[1;32mIn[347], line 3\u001b[0m\n\u001b[0;32m      1\u001b[0m experiment_name \u001b[38;5;241m=\u001b[39m \u001b[38;5;124m\"\u001b[39m\u001b[38;5;124moptimized model\u001b[39m\u001b[38;5;124m\"\u001b[39m\n\u001b[0;32m      2\u001b[0m run_name\u001b[38;5;241m=\u001b[39m\u001b[38;5;124m\"\u001b[39m\u001b[38;5;124mRandom_Search_CV_Tuned_Model\u001b[39m\u001b[38;5;124m\"\u001b[39m\n\u001b[1;32m----> 3\u001b[0m model_tuned, best_params \u001b[38;5;241m=\u001b[39m \u001b[43mhyper_parameter_tuning\u001b[49m\u001b[43m(\u001b[49m\u001b[43mtrain_X\u001b[49m\u001b[43m,\u001b[49m\u001b[43m \u001b[49m\u001b[43mtrain_y\u001b[49m\u001b[43m)\u001b[49m\n\u001b[0;32m      4\u001b[0m run_params \u001b[38;5;241m=\u001b[39m best_params\n\u001b[0;32m      6\u001b[0m pred_y \u001b[38;5;241m=\u001b[39m predict_on_test_data(model_tuned, test_X) \u001b[38;5;66;03m#will return the predicted class\u001b[39;00m\n",
      "Cell \u001b[1;32mIn[345], line 60\u001b[0m, in \u001b[0;36mhyper_parameter_tuning\u001b[1;34m(train_X, train_y)\u001b[0m\n\u001b[0;32m     49\u001b[0m model_tuned \u001b[38;5;241m=\u001b[39m RandomForestClassifier(\n\u001b[0;32m     50\u001b[0m     n_estimators\u001b[38;5;241m=\u001b[39mbest_params[\u001b[38;5;124m'\u001b[39m\u001b[38;5;124mh_classifier__n_estimators\u001b[39m\u001b[38;5;124m'\u001b[39m],\n\u001b[0;32m     51\u001b[0m     max_features\u001b[38;5;241m=\u001b[39mbest_params[\u001b[38;5;124m'\u001b[39m\u001b[38;5;124mh_classifier__max_features\u001b[39m\u001b[38;5;124m'\u001b[39m],\n\u001b[1;32m   (...)\u001b[0m\n\u001b[0;32m     56\u001b[0m     random_state\u001b[38;5;241m=\u001b[39m\u001b[38;5;241m42\u001b[39m  \u001b[38;5;66;03m# Added random_state for reproducibility\u001b[39;00m\n\u001b[0;32m     57\u001b[0m )\n\u001b[0;32m     59\u001b[0m \u001b[38;5;66;03m# Fit the tuned model to the training data\u001b[39;00m\n\u001b[1;32m---> 60\u001b[0m \u001b[43mmodel_tuned\u001b[49m\u001b[38;5;241;43m.\u001b[39;49m\u001b[43mfit\u001b[49m\u001b[43m(\u001b[49m\u001b[43mtrain_X\u001b[49m\u001b[43m,\u001b[49m\u001b[43m \u001b[49m\u001b[43mtrain_y\u001b[49m\u001b[43m)\u001b[49m\n\u001b[0;32m     62\u001b[0m \u001b[38;5;28;01mreturn\u001b[39;00m model_tuned, best_params\n",
      "File \u001b[1;32m~\\AppData\\Local\\anaconda3\\envs\\envname\\lib\\site-packages\\sklearn\\base.py:1473\u001b[0m, in \u001b[0;36m_fit_context.<locals>.decorator.<locals>.wrapper\u001b[1;34m(estimator, *args, **kwargs)\u001b[0m\n\u001b[0;32m   1466\u001b[0m     estimator\u001b[38;5;241m.\u001b[39m_validate_params()\n\u001b[0;32m   1468\u001b[0m \u001b[38;5;28;01mwith\u001b[39;00m config_context(\n\u001b[0;32m   1469\u001b[0m     skip_parameter_validation\u001b[38;5;241m=\u001b[39m(\n\u001b[0;32m   1470\u001b[0m         prefer_skip_nested_validation \u001b[38;5;129;01mor\u001b[39;00m global_skip_validation\n\u001b[0;32m   1471\u001b[0m     )\n\u001b[0;32m   1472\u001b[0m ):\n\u001b[1;32m-> 1473\u001b[0m     \u001b[38;5;28;01mreturn\u001b[39;00m fit_method(estimator, \u001b[38;5;241m*\u001b[39margs, \u001b[38;5;241m*\u001b[39m\u001b[38;5;241m*\u001b[39mkwargs)\n",
      "File \u001b[1;32m~\\AppData\\Local\\anaconda3\\envs\\envname\\lib\\site-packages\\sklearn\\ensemble\\_forest.py:363\u001b[0m, in \u001b[0;36mBaseForest.fit\u001b[1;34m(self, X, y, sample_weight)\u001b[0m\n\u001b[0;32m    360\u001b[0m \u001b[38;5;28;01mif\u001b[39;00m issparse(y):\n\u001b[0;32m    361\u001b[0m     \u001b[38;5;28;01mraise\u001b[39;00m \u001b[38;5;167;01mValueError\u001b[39;00m(\u001b[38;5;124m\"\u001b[39m\u001b[38;5;124msparse multilabel-indicator for y is not supported.\u001b[39m\u001b[38;5;124m\"\u001b[39m)\n\u001b[1;32m--> 363\u001b[0m X, y \u001b[38;5;241m=\u001b[39m \u001b[38;5;28;43mself\u001b[39;49m\u001b[38;5;241;43m.\u001b[39;49m\u001b[43m_validate_data\u001b[49m\u001b[43m(\u001b[49m\n\u001b[0;32m    364\u001b[0m \u001b[43m    \u001b[49m\u001b[43mX\u001b[49m\u001b[43m,\u001b[49m\n\u001b[0;32m    365\u001b[0m \u001b[43m    \u001b[49m\u001b[43my\u001b[49m\u001b[43m,\u001b[49m\n\u001b[0;32m    366\u001b[0m \u001b[43m    \u001b[49m\u001b[43mmulti_output\u001b[49m\u001b[38;5;241;43m=\u001b[39;49m\u001b[38;5;28;43;01mTrue\u001b[39;49;00m\u001b[43m,\u001b[49m\n\u001b[0;32m    367\u001b[0m \u001b[43m    \u001b[49m\u001b[43maccept_sparse\u001b[49m\u001b[38;5;241;43m=\u001b[39;49m\u001b[38;5;124;43m\"\u001b[39;49m\u001b[38;5;124;43mcsc\u001b[39;49m\u001b[38;5;124;43m\"\u001b[39;49m\u001b[43m,\u001b[49m\n\u001b[0;32m    368\u001b[0m \u001b[43m    \u001b[49m\u001b[43mdtype\u001b[49m\u001b[38;5;241;43m=\u001b[39;49m\u001b[43mDTYPE\u001b[49m\u001b[43m,\u001b[49m\n\u001b[0;32m    369\u001b[0m \u001b[43m    \u001b[49m\u001b[43mforce_all_finite\u001b[49m\u001b[38;5;241;43m=\u001b[39;49m\u001b[38;5;28;43;01mFalse\u001b[39;49;00m\u001b[43m,\u001b[49m\n\u001b[0;32m    370\u001b[0m \u001b[43m\u001b[49m\u001b[43m)\u001b[49m\n\u001b[0;32m    371\u001b[0m \u001b[38;5;66;03m# _compute_missing_values_in_feature_mask checks if X has missing values and\u001b[39;00m\n\u001b[0;32m    372\u001b[0m \u001b[38;5;66;03m# will raise an error if the underlying tree base estimator can't handle missing\u001b[39;00m\n\u001b[0;32m    373\u001b[0m \u001b[38;5;66;03m# values. Only the criterion is required to determine if the tree supports\u001b[39;00m\n\u001b[0;32m    374\u001b[0m \u001b[38;5;66;03m# missing values.\u001b[39;00m\n\u001b[0;32m    375\u001b[0m estimator \u001b[38;5;241m=\u001b[39m \u001b[38;5;28mtype\u001b[39m(\u001b[38;5;28mself\u001b[39m\u001b[38;5;241m.\u001b[39mestimator)(criterion\u001b[38;5;241m=\u001b[39m\u001b[38;5;28mself\u001b[39m\u001b[38;5;241m.\u001b[39mcriterion)\n",
      "File \u001b[1;32m~\\AppData\\Local\\anaconda3\\envs\\envname\\lib\\site-packages\\sklearn\\base.py:650\u001b[0m, in \u001b[0;36mBaseEstimator._validate_data\u001b[1;34m(self, X, y, reset, validate_separately, cast_to_ndarray, **check_params)\u001b[0m\n\u001b[0;32m    648\u001b[0m         y \u001b[38;5;241m=\u001b[39m check_array(y, input_name\u001b[38;5;241m=\u001b[39m\u001b[38;5;124m\"\u001b[39m\u001b[38;5;124my\u001b[39m\u001b[38;5;124m\"\u001b[39m, \u001b[38;5;241m*\u001b[39m\u001b[38;5;241m*\u001b[39mcheck_y_params)\n\u001b[0;32m    649\u001b[0m     \u001b[38;5;28;01melse\u001b[39;00m:\n\u001b[1;32m--> 650\u001b[0m         X, y \u001b[38;5;241m=\u001b[39m check_X_y(X, y, \u001b[38;5;241m*\u001b[39m\u001b[38;5;241m*\u001b[39mcheck_params)\n\u001b[0;32m    651\u001b[0m     out \u001b[38;5;241m=\u001b[39m X, y\n\u001b[0;32m    653\u001b[0m \u001b[38;5;28;01mif\u001b[39;00m \u001b[38;5;129;01mnot\u001b[39;00m no_val_X \u001b[38;5;129;01mand\u001b[39;00m check_params\u001b[38;5;241m.\u001b[39mget(\u001b[38;5;124m\"\u001b[39m\u001b[38;5;124mensure_2d\u001b[39m\u001b[38;5;124m\"\u001b[39m, \u001b[38;5;28;01mTrue\u001b[39;00m):\n",
      "File \u001b[1;32m~\\AppData\\Local\\anaconda3\\envs\\envname\\lib\\site-packages\\sklearn\\utils\\validation.py:1301\u001b[0m, in \u001b[0;36mcheck_X_y\u001b[1;34m(X, y, accept_sparse, accept_large_sparse, dtype, order, copy, force_writeable, force_all_finite, ensure_2d, allow_nd, multi_output, ensure_min_samples, ensure_min_features, y_numeric, estimator)\u001b[0m\n\u001b[0;32m   1296\u001b[0m         estimator_name \u001b[38;5;241m=\u001b[39m _check_estimator_name(estimator)\n\u001b[0;32m   1297\u001b[0m     \u001b[38;5;28;01mraise\u001b[39;00m \u001b[38;5;167;01mValueError\u001b[39;00m(\n\u001b[0;32m   1298\u001b[0m         \u001b[38;5;124mf\u001b[39m\u001b[38;5;124m\"\u001b[39m\u001b[38;5;132;01m{\u001b[39;00mestimator_name\u001b[38;5;132;01m}\u001b[39;00m\u001b[38;5;124m requires y to be passed, but the target y is None\u001b[39m\u001b[38;5;124m\"\u001b[39m\n\u001b[0;32m   1299\u001b[0m     )\n\u001b[1;32m-> 1301\u001b[0m X \u001b[38;5;241m=\u001b[39m \u001b[43mcheck_array\u001b[49m\u001b[43m(\u001b[49m\n\u001b[0;32m   1302\u001b[0m \u001b[43m    \u001b[49m\u001b[43mX\u001b[49m\u001b[43m,\u001b[49m\n\u001b[0;32m   1303\u001b[0m \u001b[43m    \u001b[49m\u001b[43maccept_sparse\u001b[49m\u001b[38;5;241;43m=\u001b[39;49m\u001b[43maccept_sparse\u001b[49m\u001b[43m,\u001b[49m\n\u001b[0;32m   1304\u001b[0m \u001b[43m    \u001b[49m\u001b[43maccept_large_sparse\u001b[49m\u001b[38;5;241;43m=\u001b[39;49m\u001b[43maccept_large_sparse\u001b[49m\u001b[43m,\u001b[49m\n\u001b[0;32m   1305\u001b[0m \u001b[43m    \u001b[49m\u001b[43mdtype\u001b[49m\u001b[38;5;241;43m=\u001b[39;49m\u001b[43mdtype\u001b[49m\u001b[43m,\u001b[49m\n\u001b[0;32m   1306\u001b[0m \u001b[43m    \u001b[49m\u001b[43morder\u001b[49m\u001b[38;5;241;43m=\u001b[39;49m\u001b[43morder\u001b[49m\u001b[43m,\u001b[49m\n\u001b[0;32m   1307\u001b[0m \u001b[43m    \u001b[49m\u001b[43mcopy\u001b[49m\u001b[38;5;241;43m=\u001b[39;49m\u001b[43mcopy\u001b[49m\u001b[43m,\u001b[49m\n\u001b[0;32m   1308\u001b[0m \u001b[43m    \u001b[49m\u001b[43mforce_writeable\u001b[49m\u001b[38;5;241;43m=\u001b[39;49m\u001b[43mforce_writeable\u001b[49m\u001b[43m,\u001b[49m\n\u001b[0;32m   1309\u001b[0m \u001b[43m    \u001b[49m\u001b[43mforce_all_finite\u001b[49m\u001b[38;5;241;43m=\u001b[39;49m\u001b[43mforce_all_finite\u001b[49m\u001b[43m,\u001b[49m\n\u001b[0;32m   1310\u001b[0m \u001b[43m    \u001b[49m\u001b[43mensure_2d\u001b[49m\u001b[38;5;241;43m=\u001b[39;49m\u001b[43mensure_2d\u001b[49m\u001b[43m,\u001b[49m\n\u001b[0;32m   1311\u001b[0m \u001b[43m    \u001b[49m\u001b[43mallow_nd\u001b[49m\u001b[38;5;241;43m=\u001b[39;49m\u001b[43mallow_nd\u001b[49m\u001b[43m,\u001b[49m\n\u001b[0;32m   1312\u001b[0m \u001b[43m    \u001b[49m\u001b[43mensure_min_samples\u001b[49m\u001b[38;5;241;43m=\u001b[39;49m\u001b[43mensure_min_samples\u001b[49m\u001b[43m,\u001b[49m\n\u001b[0;32m   1313\u001b[0m \u001b[43m    \u001b[49m\u001b[43mensure_min_features\u001b[49m\u001b[38;5;241;43m=\u001b[39;49m\u001b[43mensure_min_features\u001b[49m\u001b[43m,\u001b[49m\n\u001b[0;32m   1314\u001b[0m \u001b[43m    \u001b[49m\u001b[43mestimator\u001b[49m\u001b[38;5;241;43m=\u001b[39;49m\u001b[43mestimator\u001b[49m\u001b[43m,\u001b[49m\n\u001b[0;32m   1315\u001b[0m \u001b[43m    \u001b[49m\u001b[43minput_name\u001b[49m\u001b[38;5;241;43m=\u001b[39;49m\u001b[38;5;124;43m\"\u001b[39;49m\u001b[38;5;124;43mX\u001b[39;49m\u001b[38;5;124;43m\"\u001b[39;49m\u001b[43m,\u001b[49m\n\u001b[0;32m   1316\u001b[0m \u001b[43m\u001b[49m\u001b[43m)\u001b[49m\n\u001b[0;32m   1318\u001b[0m y \u001b[38;5;241m=\u001b[39m _check_y(y, multi_output\u001b[38;5;241m=\u001b[39mmulti_output, y_numeric\u001b[38;5;241m=\u001b[39my_numeric, estimator\u001b[38;5;241m=\u001b[39mestimator)\n\u001b[0;32m   1320\u001b[0m check_consistent_length(X, y)\n",
      "File \u001b[1;32m~\\AppData\\Local\\anaconda3\\envs\\envname\\lib\\site-packages\\sklearn\\utils\\validation.py:1012\u001b[0m, in \u001b[0;36mcheck_array\u001b[1;34m(array, accept_sparse, accept_large_sparse, dtype, order, copy, force_writeable, force_all_finite, ensure_2d, allow_nd, ensure_min_samples, ensure_min_features, estimator, input_name)\u001b[0m\n\u001b[0;32m   1010\u001b[0m         array \u001b[38;5;241m=\u001b[39m xp\u001b[38;5;241m.\u001b[39mastype(array, dtype, copy\u001b[38;5;241m=\u001b[39m\u001b[38;5;28;01mFalse\u001b[39;00m)\n\u001b[0;32m   1011\u001b[0m     \u001b[38;5;28;01melse\u001b[39;00m:\n\u001b[1;32m-> 1012\u001b[0m         array \u001b[38;5;241m=\u001b[39m \u001b[43m_asarray_with_order\u001b[49m\u001b[43m(\u001b[49m\u001b[43marray\u001b[49m\u001b[43m,\u001b[49m\u001b[43m \u001b[49m\u001b[43morder\u001b[49m\u001b[38;5;241;43m=\u001b[39;49m\u001b[43morder\u001b[49m\u001b[43m,\u001b[49m\u001b[43m \u001b[49m\u001b[43mdtype\u001b[49m\u001b[38;5;241;43m=\u001b[39;49m\u001b[43mdtype\u001b[49m\u001b[43m,\u001b[49m\u001b[43m \u001b[49m\u001b[43mxp\u001b[49m\u001b[38;5;241;43m=\u001b[39;49m\u001b[43mxp\u001b[49m\u001b[43m)\u001b[49m\n\u001b[0;32m   1013\u001b[0m \u001b[38;5;28;01mexcept\u001b[39;00m ComplexWarning \u001b[38;5;28;01mas\u001b[39;00m complex_warning:\n\u001b[0;32m   1014\u001b[0m     \u001b[38;5;28;01mraise\u001b[39;00m \u001b[38;5;167;01mValueError\u001b[39;00m(\n\u001b[0;32m   1015\u001b[0m         \u001b[38;5;124m\"\u001b[39m\u001b[38;5;124mComplex data not supported\u001b[39m\u001b[38;5;130;01m\\n\u001b[39;00m\u001b[38;5;132;01m{}\u001b[39;00m\u001b[38;5;130;01m\\n\u001b[39;00m\u001b[38;5;124m\"\u001b[39m\u001b[38;5;241m.\u001b[39mformat(array)\n\u001b[0;32m   1016\u001b[0m     ) \u001b[38;5;28;01mfrom\u001b[39;00m \u001b[38;5;21;01mcomplex_warning\u001b[39;00m\n",
      "File \u001b[1;32m~\\AppData\\Local\\anaconda3\\envs\\envname\\lib\\site-packages\\sklearn\\utils\\_array_api.py:751\u001b[0m, in \u001b[0;36m_asarray_with_order\u001b[1;34m(array, dtype, order, copy, xp, device)\u001b[0m\n\u001b[0;32m    749\u001b[0m     array \u001b[38;5;241m=\u001b[39m numpy\u001b[38;5;241m.\u001b[39marray(array, order\u001b[38;5;241m=\u001b[39morder, dtype\u001b[38;5;241m=\u001b[39mdtype)\n\u001b[0;32m    750\u001b[0m \u001b[38;5;28;01melse\u001b[39;00m:\n\u001b[1;32m--> 751\u001b[0m     array \u001b[38;5;241m=\u001b[39m \u001b[43mnumpy\u001b[49m\u001b[38;5;241;43m.\u001b[39;49m\u001b[43masarray\u001b[49m\u001b[43m(\u001b[49m\u001b[43marray\u001b[49m\u001b[43m,\u001b[49m\u001b[43m \u001b[49m\u001b[43morder\u001b[49m\u001b[38;5;241;43m=\u001b[39;49m\u001b[43morder\u001b[49m\u001b[43m,\u001b[49m\u001b[43m \u001b[49m\u001b[43mdtype\u001b[49m\u001b[38;5;241;43m=\u001b[39;49m\u001b[43mdtype\u001b[49m\u001b[43m)\u001b[49m\n\u001b[0;32m    753\u001b[0m \u001b[38;5;66;03m# At this point array is a NumPy ndarray. We convert it to an array\u001b[39;00m\n\u001b[0;32m    754\u001b[0m \u001b[38;5;66;03m# container that is consistent with the input's namespace.\u001b[39;00m\n\u001b[0;32m    755\u001b[0m \u001b[38;5;28;01mreturn\u001b[39;00m xp\u001b[38;5;241m.\u001b[39masarray(array)\n",
      "File \u001b[1;32m~\\AppData\\Local\\anaconda3\\envs\\envname\\lib\\site-packages\\pandas\\core\\series.py:1031\u001b[0m, in \u001b[0;36mSeries.__array__\u001b[1;34m(self, dtype, copy)\u001b[0m\n\u001b[0;32m    981\u001b[0m \u001b[38;5;250m\u001b[39m\u001b[38;5;124;03m\"\"\"\u001b[39;00m\n\u001b[0;32m    982\u001b[0m \u001b[38;5;124;03mReturn the values as a NumPy array.\u001b[39;00m\n\u001b[0;32m    983\u001b[0m \n\u001b[1;32m   (...)\u001b[0m\n\u001b[0;32m   1028\u001b[0m \u001b[38;5;124;03m      dtype='datetime64[ns]')\u001b[39;00m\n\u001b[0;32m   1029\u001b[0m \u001b[38;5;124;03m\"\"\"\u001b[39;00m\n\u001b[0;32m   1030\u001b[0m values \u001b[38;5;241m=\u001b[39m \u001b[38;5;28mself\u001b[39m\u001b[38;5;241m.\u001b[39m_values\n\u001b[1;32m-> 1031\u001b[0m arr \u001b[38;5;241m=\u001b[39m \u001b[43mnp\u001b[49m\u001b[38;5;241;43m.\u001b[39;49m\u001b[43masarray\u001b[49m\u001b[43m(\u001b[49m\u001b[43mvalues\u001b[49m\u001b[43m,\u001b[49m\u001b[43m \u001b[49m\u001b[43mdtype\u001b[49m\u001b[38;5;241;43m=\u001b[39;49m\u001b[43mdtype\u001b[49m\u001b[43m)\u001b[49m\n\u001b[0;32m   1032\u001b[0m \u001b[38;5;28;01mif\u001b[39;00m using_copy_on_write() \u001b[38;5;129;01mand\u001b[39;00m astype_is_view(values\u001b[38;5;241m.\u001b[39mdtype, arr\u001b[38;5;241m.\u001b[39mdtype):\n\u001b[0;32m   1033\u001b[0m     arr \u001b[38;5;241m=\u001b[39m arr\u001b[38;5;241m.\u001b[39mview()\n",
      "\u001b[1;31mValueError\u001b[0m: could not convert string to float: 'cellular imaging bactericidal mechanism green - synthesize silver nanoparticle human pathogenic bacteria . recent year , silver nanoparticle ( agnps ) attract significant attention medicinal , biomedical , pharmaceutical research owe valuable physicochemical antibacterial property . leaf sap extract ( lse ) aloe arborescen use active ingredient different biological application , include wound healing . study , investigate use lse a. arborescen reducing , stabilize cap agent produce agnps \" green synthesis \" ( g - agnps ) . objective study prepare , characterize evaluate potential g - agnps human pathogenic bacteria intend use treatment infected wound . mixture silver nitrate solution lse expose direct sunlight yield rapid color change colorless reddish - brown , indicate formation g - agnps . physicochemical characterization single particle inductively couple plasma mass spectrometry , high resolution transmission electron microscopy surface chemistry study ( fouri transform infrared spectroscopy x - ray diffraction ) reveal small size range 38+/-2 nm , smooth surface existence lse g - agnps . g - agnps possess good antibacterial activity pseudomonas aeruginosa staphylococcus aureus . flow cytometry study reveal increase percentage dead cell treat g - agnps cell membrane damage , far confirm confocal laser scan microscopy . , present study reveal novel g - agnps demonstrate effective antibacterial property gram - negative gram - positive bacterial strain great potential use treatment pathogen infected wound . copyright © 2017 elsevi b.v . right reserve .'"
     ]
    }
   ],
   "source": [
    "experiment_name = \"optimized model\"\n",
    "run_name=\"Random_Search_CV_Tuned_Model\"\n",
    "model_tuned, best_params = hyper_parameter_tuning(train_X, train_y)\n",
    "run_params = best_params\n",
    "\n",
    "pred_y = predict_on_test_data(model_tuned, test_X) #will return the predicted class\n",
    "pred_prob_y = predict_prob_on_test_data(model_tuned, test_X) #model.predict_proba(X_test)\n",
    "run_metrics = get_metrics(test_y, pred_y,  pred_prob_y)"
   ]
  },
  {
   "cell_type": "code",
   "execution_count": 340,
   "id": "9aa5f0e6-ac00-4eb8-846b-1aec0d2cdcb8",
   "metadata": {},
   "outputs": [
    {
     "ename": "NameError",
     "evalue": "name 'model_tuned' is not defined",
     "output_type": "error",
     "traceback": [
      "\u001b[1;31m---------------------------------------------------------------\u001b[0m",
      "\u001b[1;31mNameError\u001b[0m                     Traceback (most recent call last)",
      "Cell \u001b[1;32mIn[340], line 1\u001b[0m\n\u001b[1;32m----> 1\u001b[0m create_experiment(experiment_name,run_name,run_metrics,\u001b[43mmodel_tuned\u001b[49m,\u001b[38;5;124m'\u001b[39m\u001b[38;5;124mconfusion_matrix.png\u001b[39m\u001b[38;5;124m'\u001b[39m, \u001b[38;5;124m'\u001b[39m\u001b[38;5;124mroc_auc_curve.png\u001b[39m\u001b[38;5;124m'\u001b[39m,run_params)\n",
      "\u001b[1;31mNameError\u001b[0m: name 'model_tuned' is not defined"
     ]
    }
   ],
   "source": [
    "create_experiment(experiment_name,run_name,run_metrics,model_tuned,'confusion_matrix.png', 'roc_auc_curve.png',run_params)"
   ]
  },
  {
   "cell_type": "markdown",
   "id": "d971b270-1c78-44a5-a530-4839cabf681f",
   "metadata": {},
   "source": [
    "#### Function to create an experiment in MLFlow, log parameters, metrics, artifacts and files like images..."
   ]
  },
  {
   "cell_type": "code",
   "execution_count": 293,
   "id": "d4e8998f-a3a4-48c1-adfc-67722b50642c",
   "metadata": {},
   "outputs": [],
   "source": [
    "def create_experiment(experiment_name,run_name, run_metrics,model, confusion_matrix_path = None, \n",
    "                      roc_auc_plot_path = None, run_params=None):\n",
    "    import mlflow\n",
    "    #mlflow.set_tracking_uri(\"http://localhost:5000\") #uncomment this line if you want to use any database like sqlite as backend storage for model\n",
    "    mlflow.set_experiment(experiment_name)\n",
    "    \n",
    "    with mlflow.start_run():\n",
    "        \n",
    "        if not run_params == None:\n",
    "            for param in run_params:\n",
    "                mlflow.log_param(param, run_params[param])\n",
    "            \n",
    "        for metric in run_metrics:\n",
    "            mlflow.log_metric(metric, run_metrics[metric])\n",
    "        \n",
    "        mlflow.sklearn.log_model(model, \"model\")\n",
    "        \n",
    "        if not confusion_matrix_path == None:\n",
    "            mlflow.log_artifact(confusion_matrix_path, 'confusion_materix')\n",
    "            \n",
    "        if not roc_auc_plot_path == None:\n",
    "            mlflow.log_artifact(roc_auc_plot_path, \"roc_auc_plot\")\n",
    "        \n",
    "        mlflow.set_tag(\"tag1\", \"Random Forest\")\n",
    "        mlflow.set_tags({\"tag2\":\"Randomized Search CV\", \"tag3\":\"Production\"})\n",
    "            \n",
    "    print('Run - %s is logged to Experiment - %s' %(run_name, experiment_name))"
   ]
  },
  {
   "cell_type": "code",
   "execution_count": null,
   "id": "8c8ee4b2-e454-43bd-ac97-7fe226dc25a6",
   "metadata": {},
   "outputs": [],
   "source": [
    "#### Another experiment after hyperparameters tuning and log the best set of parameters for which model gives the optimal performance"
   ]
  }
 ],
 "metadata": {
  "kernelspec": {
   "display_name": "envname",
   "language": "python",
   "name": "envname"
  },
  "language_info": {
   "codemirror_mode": {
    "name": "ipython",
    "version": 3
   },
   "file_extension": ".py",
   "mimetype": "text/x-python",
   "name": "python",
   "nbconvert_exporter": "python",
   "pygments_lexer": "ipython3",
   "version": "3.9.19"
  }
 },
 "nbformat": 4,
 "nbformat_minor": 5
}
