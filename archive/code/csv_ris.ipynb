{
  "nbformat": 4,
  "nbformat_minor": 0,
  "metadata": {
    "colab": {
      "provenance": [],
      "include_colab_link": true
    },
    "kernelspec": {
      "name": "python3",
      "display_name": "Python 3"
    },
    "language_info": {
      "name": "python"
    }
  },
  "cells": [
    {
      "cell_type": "markdown",
      "metadata": {
        "id": "view-in-github",
        "colab_type": "text"
      },
      "source": [
        "<a href=\"https://colab.research.google.com/github/nice-digital/text-classifier/blob/main/code/csv_ris.ipynb\" target=\"_parent\"><img src=\"https://colab.research.google.com/assets/colab-badge.svg\" alt=\"Open In Colab\"/></a>"
      ]
    },
    {
      "cell_type": "code",
      "execution_count": null,
      "metadata": {
        "id": "Yat4DZ-dMShd",
        "cellView": "form"
      },
      "outputs": [],
      "source": [
        "#@title Package installs { form-width: \"20%\" }\n",
        "!pip install rpy2==3.5.1"
      ]
    },
    {
      "cell_type": "code",
      "source": [
        "#@title Clone the FileManagementUtilities  GITHub repo to access pre-processing code { form-width: \"20%\" }\n",
        "\n",
        "!git clone https://github.com/reenygeorge/FileManagementUtilities"
      ],
      "metadata": {
        "id": "y8jcrAZ6MUaA"
      },
      "execution_count": null,
      "outputs": []
    },
    {
      "cell_type": "code",
      "source": [
        "#@title Manadatory set up code { form-width: \"20%\" }\n",
        "%load_ext rpy2.ipython\n",
        "%cd /content/"
      ],
      "metadata": {
        "id": "4BW6uNydMWvK"
      },
      "execution_count": null,
      "outputs": []
    },
    {
      "cell_type": "code",
      "source": [
        "#@title Manadatory set up code { form-width: \"20%\" }\n",
        "%%R\n",
        "source('/content/FileManagementUtilities/code/Revtools.R')"
      ],
      "metadata": {
        "id": "ddxeE_NIMYmT"
      },
      "execution_count": null,
      "outputs": []
    },
    {
      "cell_type": "code",
      "source": [
        "#@title Convert RIS to CSV { form-width: \"20%\" }\n",
        "#@markdown **Note:** Please name the input file as 'input_data.ris' and upload. The converted file will be named 'input_converted.csv'\n",
        "\n",
        "%%R\n",
        "convert_ris_csv <- function(inFname, outFname){\n",
        "  df <- read_bibliography(inFname)\n",
        "  print(nrow(df))\n",
        "  write.csv(df, outFname, row.names = FALSE)\n",
        "}\n",
        "convert_ris_csv('input_data.ris', 'input_data.csv')"
      ],
      "metadata": {
        "id": "LfVhZa-8Ma7Q"
      },
      "execution_count": null,
      "outputs": []
    },
    {
      "cell_type": "code",
      "source": [
        "\n",
        "#@title Convert CSV to RIS { form-width: \"20%\" }\n",
        "#@markdown **Note:** Please name the input file as 'input_data.csv' and upload. The converted file will be named 'input_converted.ris'\n",
        "#@markdown **Note:** Column names should be appropriate (e.g. 'title', 'abstract' etc.)\n",
        "#@markdown **Note:** CSV should have valid rows\n",
        "\n",
        "%%R\n",
        "convert_csv_ris <- function(inFname, outFname){\n",
        "  df <- read.csv(inFname, stringsAsFactors = FALSE)\n",
        "  colnames(df) <- tolower(colnames(df)) # Note: colnames should be in small letters!\n",
        "  write_bibliography(df, outFname, format = \"ris\")\n",
        "}\n",
        "\n",
        "convert_csv_ris('input_data.csv', 'input_converted.ris')\n"
      ],
      "metadata": {
        "id": "oDqfNmqbMqBb",
        "cellView": "form"
      },
      "execution_count": null,
      "outputs": []
    },
    {
      "cell_type": "code",
      "source": [],
      "metadata": {
        "id": "0Rcp2I5W_V1W"
      },
      "execution_count": null,
      "outputs": []
    }
  ]
}