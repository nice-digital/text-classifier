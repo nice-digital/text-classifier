{
 "cells": [
  {
   "cell_type": "markdown",
   "id": "53f462a2-88ea-4a74-9262-fec61cc708e5",
   "metadata": {},
   "source": [
    "Run the below commands in terminal but ensure conda is installed or use ananconda prompt which is installed alongside the anaconda package installation.\n",
    "\n",
    "- Environment name = **mlflow_env** \n",
    "\n",
    "--> **conda create -n mlflow_env python=3.9 ipykernel -y**; This creates a conda environment named mlfow_env (or whatever environment name is chosen) and installs python version 3.9 and an ipykernel inside this environment. Care must be taken when selecting a python version, otherwise, it could impede the import of MLFlow.\n",
    "\n",
    "--> Activate the conda environment created in the previous step by running **conda activate mlfow_env**.\n",
    "\n",
    "--> Add the newly created environment to the notebook as a kernel by running **python -m ipykernel install --user --name=mlfow_env**.\n",
    "\n",
    "--> Create a notebook within the created environment by running **pip install notebook**.\n",
    "\n",
    "--> Install all required dependencies required for the project:\n",
    "\n",
    "- pip install mlflow\n",
    "- pip install pandas\n",
    "- pip install numpy\n",
    "- pip install scikit-learn\n",
    "- pip install imblearn\n",
    "- pip install matplotlib\n",
    "\n",
    "--> Finally! open notebook running the command: **jupyter notebook**.\n",
    "\n",
    "--> Click on New and choose the MLFlow environment you've just created."
   ]
  },
  {
   "cell_type": "markdown",
   "id": "3c965a72-158e-4308-b139-3e39507e99b3",
   "metadata": {},
   "source": [
    "# Using Logistic Regression"
   ]
  },
  {
   "cell_type": "markdown",
   "id": "12080a07-cc34-4d20-a8a6-12256de3fb2c",
   "metadata": {},
   "source": [
    "#### Install all required dependencies required for the project"
   ]
  },
  {
   "cell_type": "code",
   "execution_count": 18,
   "id": "f631eb9d-d80c-4fd1-8809-55d758c82e5c",
   "metadata": {},
   "outputs": [],
   "source": [
    "import spacy\n",
    "import pandas as pd\n",
    "import numpy as np\n",
    "import os\n",
    "import matplotlib.pyplot as plt\n",
    "from sklearn.model_selection import (train_test_split,RandomizedSearchCV,GridSearchCV)\n",
    "from sklearn import metrics\n",
    "from sklearn.metrics import (accuracy_score,precision_score,recall_score,\n",
    "log_loss,f1_score,roc_auc_score,confusion_matrix,ConfusionMatrixDisplay,classification_report)\n",
    "from sklearn.pipeline import Pipeline\n",
    "from sklearn.feature_extraction.text import TfidfVectorizer\n",
    "from sklearn.linear_model import LogisticRegression\n",
    "from sklearn.ensemble import RandomForestClassifier\n",
    "from pathlib import Path"
   ]
  },
  {
   "cell_type": "code",
   "execution_count": 19,
   "id": "127eb518-d005-4bc1-a6ab-12556fa58e83",
   "metadata": {},
   "outputs": [
    {
     "name": "stdout",
     "output_type": "stream",
     "text": [
      "Python 3.9.19\n"
     ]
    }
   ],
   "source": [
    "!python --version"
   ]
  },
  {
   "cell_type": "code",
   "execution_count": 20,
   "id": "3bfdf35f-990a-4627-8a1e-290e7a1df7fb",
   "metadata": {},
   "outputs": [
    {
     "name": "stdout",
     "output_type": "stream",
     "text": [
      "C:\\Users\\TFakorede\\AppData\\Local\\anaconda3\\envs\\mlflow_env\\python.exe\n"
     ]
    }
   ],
   "source": [
    "import sys\n",
    "print(sys.executable)"
   ]
  },
  {
   "cell_type": "markdown",
   "id": "fa8e98ca-51f7-4eb8-b892-e1a08ea6fbb9",
   "metadata": {},
   "source": [
    "#### Create train/test datasets from human/animal datasets"
   ]
  },
  {
   "cell_type": "code",
   "execution_count": 21,
   "id": "5cde228f-3cf3-47df-a2fa-9a450cb0447a",
   "metadata": {},
   "outputs": [
    {
     "name": "stdout",
     "output_type": "stream",
     "text": [
      "Index(['Title', 'Abstract', 'Primary Author', 'Journal', 'Year', 'Volume',\n",
      "       'Issue', 'Pages', 'Comments', 'Eppi ID', 'target'],\n",
      "      dtype='object')\n",
      "Index(['Title', 'Abstract', 'Primary Author', 'Journal', 'Year', 'Volume',\n",
      "       'Issue', 'Pages', 'Comments', 'Eppi ID', 'target'],\n",
      "      dtype='object')\n"
     ]
    }
   ],
   "source": [
    "#@title Create train/test datasets from human/animal datasets { form-width: \"20%\" }\n",
    "animal = pd.read_csv('excludes_Animal_2200.csv')\n",
    "human = pd.read_csv('includes_human_2400.csv')\n",
    "\n",
    "#add target variable\n",
    "animal['target'] = 0\n",
    "human['target'] = 1\n",
    "\n",
    "print(animal.columns)\n",
    "print(human.columns)\n",
    "\n",
    "#combine & shuffle the datasets\n",
    "combined_data = pd.concat([animal, human], axis=0)\n",
    "shuffled_combined_df = combined_data.sample(frac=1).reset_index(drop=True)\n",
    "\n",
    "#create a 80-20 split from it\n",
    "training, testing = train_test_split(shuffled_combined_df, test_size=0.2, random_state=42)"
   ]
  },
  {
   "cell_type": "markdown",
   "id": "948536fe-a4df-4438-a9d0-cb5b945e4060",
   "metadata": {},
   "source": [
    "#### File settings to get started"
   ]
  },
  {
   "cell_type": "code",
   "execution_count": 22,
   "id": "3dcff6d7-6464-4fb0-984d-9d563494c19d",
   "metadata": {},
   "outputs": [],
   "source": [
    "#@title File settings to get started  { form-width: \"20%\" }\n",
    "\n",
    "#@markdown Please ensure the training.csv and testing.csv are uploaded and execute this cell by pressing the _Play_ button\n",
    "#@markdown on the left\n",
    "\n",
    "#@markdown The training.csv and testing.csv files should have 'title', optional 'abstract' fields. Additionally the file should have a 'target' field\n",
    "#@markdown which indicates whether the title/abstract is an include (coded as 1) or exclude (coded as 0)\n",
    "TRAIN_PATH = 'training.csv'\n",
    "TEST_PATH = 'testing.csv'\n",
    "\n",
    "results_folder = 'RESULTS'\n",
    "RESULTS_FOLDER = results_folder     #***user input\n",
    "if not os.path.isdir(RESULTS_FOLDER):\n",
    "    os.makedirs(RESULTS_FOLDER)\n",
    "RESULTS_PATH = Path(RESULTS_FOLDER)"
   ]
  },
  {
   "cell_type": "markdown",
   "id": "98355558-e984-4b3a-86e3-8122b5920dcc",
   "metadata": {},
   "source": [
    "#### Read in input data as separate training.csv and testing.csv. Ignore this block if human/animal data was uploaded above."
   ]
  },
  {
   "cell_type": "code",
   "execution_count": null,
   "id": "78efc3ff-a5c7-4621-a19b-0a86865550f4",
   "metadata": {},
   "outputs": [],
   "source": [
    "#@title Read in input data as separate training.csv and testing.csv. **Ignore** this block if human/animal data was uploaded above { form-width: \"20%\" }\n",
    "try:\n",
    "    training = pd.read_csv(TRAIN_PATH)\n",
    "    orig_colnames = training.columns\n",
    "    print(orig_colnames)\n",
    "\n",
    "    testing = pd.read_csv(TEST_PATH)\n",
    "\n",
    "except Exception as e:\n",
    "    print(e)\n",
    "    raise"
   ]
  },
  {
   "cell_type": "markdown",
   "id": "71938fdf-28ca-47a7-83a1-7f8df8ec8277",
   "metadata": {},
   "source": [
    "#### Read in input data"
   ]
  },
  {
   "cell_type": "code",
   "execution_count": 23,
   "id": "a30676c7-d536-4a1f-907e-2974d103a22c",
   "metadata": {},
   "outputs": [
    {
     "name": "stdout",
     "output_type": "stream",
     "text": [
      "Number of studies in the training dataset: 3698\n",
      "Number of studies in the training dataset: 925\n",
      "Number of studies in the training dataset after de-dupe: 3693\n",
      "Number of studies in the testing dataset after de-dupe: 925\n"
     ]
    }
   ],
   "source": [
    "#@title Read in input data { form-width: \"20%\" }\n",
    "rename_map = {'Title': 'title', 'Abstract': 'abstract'}\n",
    "training.rename(columns = rename_map, inplace = True)\n",
    "testing.rename(columns = rename_map, inplace = True)\n",
    "print(\"Number of studies in the training dataset: \" + str(training.shape[0]))\n",
    "print(\"Number of studies in the training dataset: \" + str(testing.shape[0]))\n",
    "\n",
    "#rename the columns so that the relevant column names are 'title' and 'abstract'\n",
    "\n",
    "try:\n",
    "  training['title_orig'] = training['title']\n",
    "  testing['title_orig'] = testing['title']\n",
    "except Exception as e:\n",
    "  print(e)\n",
    "  print(\"Error- No title detected! Title is needed!\")\n",
    "  raise\n",
    "\n",
    "# drop any duplicates based on 'title'\n",
    "training.drop_duplicates(subset=['title'], inplace=True)\n",
    "testing.drop_duplicates(subset=['title'], inplace=True)\n",
    "print(\"Number of studies in the training dataset after de-dupe: \" + str(training.shape[0]))\n",
    "print(\"Number of studies in the testing dataset after de-dupe: \" + str(testing.shape[0]))\n",
    "\n",
    "training['titleabstract'] = training['title'] + \" \" + training['abstract']\n",
    "training['titleabstract'] = training['titleabstract'].str.lower()\n",
    "\n",
    "testing['titleabstract'] = testing['title'] + \" \" + testing['abstract']\n",
    "testing['titleabstract'] = testing['titleabstract'].str.lower()"
   ]
  },
  {
   "cell_type": "markdown",
   "id": "aa47e6e8-074b-4bf3-bd17-9a49f7cac01e",
   "metadata": {},
   "source": [
    "#### Fit logistic regression model (in progress)"
   ]
  },
  {
   "cell_type": "code",
   "execution_count": 24,
   "id": "c414d140-3ab7-45ec-9425-2de137cce15d",
   "metadata": {},
   "outputs": [],
   "source": [
    "#@title Fit logistic regression model (in progress) { form-width: \"20%\" }\n",
    "\n",
    "#A sklearn pipeline comprising of tf-idf vectorizer (using tri-gram) and logistic regression model. The parameters for logistic regression\n",
    "#are taken from prior hyper-parameter tuning.\n",
    "text_clf = Pipeline([\n",
    "                ('tfidfvect', TfidfVectorizer(ngram_range = (3,3), stop_words = 'english')),\n",
    "                ('clf', LogisticRegression(C=100, max_iter = 5000, solver = 'liblinear', penalty = 'l2', class_weight = 'balanced')),\n",
    "               ])\n",
    "y_train = training['target']\n",
    "model = text_clf.fit(training['titleabstract'].astype(str),y_train)"
   ]
  },
  {
   "cell_type": "markdown",
   "id": "0bfb261c-7f00-42a1-9260-ff1fb497e8e7",
   "metadata": {},
   "source": [
    "#### Predict category and evaluate performance (in progress)"
   ]
  },
  {
   "cell_type": "code",
   "execution_count": 25,
   "id": "d1161c59-0801-4d38-8716-a7263fe81088",
   "metadata": {},
   "outputs": [
    {
     "name": "stdout",
     "output_type": "stream",
     "text": [
      "Classification report:\n",
      "{'Accuracy': 0.81, 'Precision': 0.747, 'Recall': 0.963, 'F1-Score': 0.841, 'ROC_AUC': 0.802, 'FPR': 0.358, 'FNR': 0.037, 'Specificity': 0.642}\n"
     ]
    }
   ],
   "source": [
    "#@title Predict category and evaluate performance (in progress) { form-width: \"20%\" }\n",
    "\n",
    "#Using the model that was fit to the training data above, evaluate the model's performance on test data.\n",
    "data = testing['titleabstract'].astype(str)\n",
    "y_test = testing['target']\n",
    "yhat = model.predict(data)\n",
    "yhat_probs = model.predict_proba(data)[:,1]\n",
    "yhat_adjusted = np.zeros(data.shape[0], dtype=int)\n",
    "THRESHOLD = 0.4\n",
    "yhat_adjusted[yhat_probs >= THRESHOLD] = 1\n",
    "\n",
    "report_dict = {}\n",
    "decimal_places = 3\n",
    "report_dict['Accuracy'] = round(accuracy_score(y_test, yhat_adjusted), decimal_places)\n",
    "report_dict['Precision'] = precision_score(y_test,yhat_adjusted).round(decimal_places)\n",
    "report_dict['Recall'] = recall_score(y_test, yhat_adjusted, average = 'binary').round(decimal_places)\n",
    "report_dict['F1-Score'] = f1_score(y_test, yhat_adjusted).round(decimal_places)\n",
    "report_dict['ROC_AUC'] = roc_auc_score(y_test, yhat_adjusted).round(decimal_places)\n",
    "cm = confusion_matrix(y_test, yhat_adjusted)\n",
    "FP = cm[0][1]\n",
    "TN = cm[0][0]\n",
    "FN = cm[1][0]\n",
    "TP = cm[1][1]\n",
    "specificity = (TN / (TN+FP)).round(decimal_places)\n",
    "FPR = (FP/(FP+TN)).round(decimal_places)\n",
    "FNR = (FN/(FN+TP)).round(decimal_places)\n",
    "report_dict['FPR'] = FPR\n",
    "report_dict['FNR'] = FNR\n",
    "report_dict['Specificity'] = specificity\n",
    "\n",
    "print('Classification report:\\n{}'.format(report_dict))"
   ]
  },
  {
   "cell_type": "markdown",
   "id": "82633030-1980-4b94-b46e-b7ce082600d7",
   "metadata": {},
   "source": [
    "# Using Random Forest Classifer."
   ]
  },
  {
   "cell_type": "markdown",
   "id": "8eed91d4-71ea-4154-aaa9-99ebad73d8e7",
   "metadata": {},
   "source": [
    "#### Text Cleaning"
   ]
  },
  {
   "cell_type": "code",
   "execution_count": 26,
   "id": "baa0ec2b-3229-4bda-a11f-a59e6990bf6d",
   "metadata": {},
   "outputs": [],
   "source": [
    "#@title Text Cleaning. { form-width: \"20%\" }\n",
    "def data_cleaning(human_data, animal_data):\n",
    "\n",
    "    print(f'Before dropping Column values {human_data.columns} \\n')\n",
    "    print(f'Before dropping Column values {animal_data.columns} \\n')\n",
    "\n",
    "    # Drop columns\n",
    "    human_data.drop(columns=['Primary Author', 'Journal', 'Year', 'Volume',\n",
    "                             'Issue', 'Pages', 'Comments', 'Eppi ID'], inplace=True)\n",
    "    animal_data.drop(columns=['Primary Author', 'Journal', 'Year', 'Volume',\n",
    "                              'Issue', 'Pages', 'Comments', 'Eppi ID'], inplace=True)\n",
    "\n",
    "    print(f'After dropping Column values {human_data.columns} \\n')\n",
    "    print(f'After dropping Column values {animal_data.columns} \\n')\n",
    "\n",
    "    # Rename columns\n",
    "    human_data.rename(columns={'Title': 'title', 'Abstract': 'abstract'}, inplace=True)\n",
    "    animal_data.rename(columns={'Title': 'title', 'Abstract': 'abstract'}, inplace=True)\n",
    "\n",
    "\n",
    "    print(f'Before dropping rows {human_data.shape} \\n')\n",
    "    print(f'Before dropping rows {animal_data.shape} \\n')\n",
    "    print(f'na values available in data {human_data.isna().sum} \\n')\n",
    "    print(f'na values available in data {animal_data.isna().sum} \\n')\n",
    "\n",
    "   # Drop rows with missing values\n",
    "    human_data.dropna(inplace=True)\n",
    "    animal_data.dropna(inplace=True)\n",
    "\n",
    "    print(f'After dropping rows {human_data.shape} \\n')\n",
    "    print(f'After dropping rows {animal_data.shape} \\n')\n",
    "    print(f'na values available in data {human_data.isna().sum} \\n')\n",
    "    print(f'na values available in data {animal_data.isna().sum} \\n')\n",
    "\n",
    "    # Reset index\n",
    "    human_data.reset_index(drop=True, inplace=True)\n",
    "    animal_data.reset_index(drop=True, inplace=True)\n",
    "\n",
    "    print(f'After resetting index {human_data.columns} \\n')\n",
    "    print(f'After resetting index {animal_data.columns} \\n')\n",
    "\n",
    "    return human_data, animal_data"
   ]
  },
  {
   "cell_type": "code",
   "execution_count": 27,
   "id": "5484b5f3-d749-49d9-aea0-a26dd3215466",
   "metadata": {},
   "outputs": [
    {
     "name": "stdout",
     "output_type": "stream",
     "text": [
      "Before dropping Column values Index(['Title', 'Abstract', 'Primary Author', 'Journal', 'Year', 'Volume',\n",
      "       'Issue', 'Pages', 'Comments', 'Eppi ID', 'target'],\n",
      "      dtype='object') \n",
      "\n",
      "Before dropping Column values Index(['Title', 'Abstract', 'Primary Author', 'Journal', 'Year', 'Volume',\n",
      "       'Issue', 'Pages', 'Comments', 'Eppi ID', 'target'],\n",
      "      dtype='object') \n",
      "\n",
      "After dropping Column values Index(['Title', 'Abstract', 'target'], dtype='object') \n",
      "\n",
      "After dropping Column values Index(['Title', 'Abstract', 'target'], dtype='object') \n",
      "\n",
      "Before dropping rows (2411, 3) \n",
      "\n",
      "Before dropping rows (2212, 3) \n",
      "\n",
      "na values available in data <bound method DataFrame.sum of       title  abstract  target\n",
      "0     False     False   False\n",
      "1     False     False   False\n",
      "2     False     False   False\n",
      "3     False     False   False\n",
      "4     False     False   False\n",
      "...     ...       ...     ...\n",
      "2406  False     False   False\n",
      "2407  False      True   False\n",
      "2408  False     False   False\n",
      "2409  False     False   False\n",
      "2410  False     False   False\n",
      "\n",
      "[2411 rows x 3 columns]> \n",
      "\n",
      "na values available in data <bound method DataFrame.sum of       title  abstract  target\n",
      "0     False     False   False\n",
      "1     False     False   False\n",
      "2     False     False   False\n",
      "3     False     False   False\n",
      "4     False     False   False\n",
      "...     ...       ...     ...\n",
      "2207  False     False   False\n",
      "2208  False     False   False\n",
      "2209  False     False   False\n",
      "2210  False     False   False\n",
      "2211  False     False   False\n",
      "\n",
      "[2212 rows x 3 columns]> \n",
      "\n",
      "After dropping rows (2001, 3) \n",
      "\n",
      "After dropping rows (2151, 3) \n",
      "\n",
      "na values available in data <bound method DataFrame.sum of       title  abstract  target\n",
      "0     False     False   False\n",
      "1     False     False   False\n",
      "2     False     False   False\n",
      "3     False     False   False\n",
      "4     False     False   False\n",
      "...     ...       ...     ...\n",
      "2405  False     False   False\n",
      "2406  False     False   False\n",
      "2408  False     False   False\n",
      "2409  False     False   False\n",
      "2410  False     False   False\n",
      "\n",
      "[2001 rows x 3 columns]> \n",
      "\n",
      "na values available in data <bound method DataFrame.sum of       title  abstract  target\n",
      "0     False     False   False\n",
      "1     False     False   False\n",
      "2     False     False   False\n",
      "3     False     False   False\n",
      "4     False     False   False\n",
      "...     ...       ...     ...\n",
      "2207  False     False   False\n",
      "2208  False     False   False\n",
      "2209  False     False   False\n",
      "2210  False     False   False\n",
      "2211  False     False   False\n",
      "\n",
      "[2151 rows x 3 columns]> \n",
      "\n",
      "After resetting index Index(['title', 'abstract', 'target'], dtype='object') \n",
      "\n",
      "After resetting index Index(['title', 'abstract', 'target'], dtype='object') \n",
      "\n"
     ]
    }
   ],
   "source": [
    "cleaned_data = data_cleaning(human, animal)"
   ]
  },
  {
   "cell_type": "markdown",
   "id": "65ee9b95-7dbe-4372-a929-d542ccdf7b5b",
   "metadata": {},
   "source": [
    "#### Splitting the data into training and validation sets"
   ]
  },
  {
   "cell_type": "code",
   "execution_count": 28,
   "id": "dddecb70-07fb-42b1-b05b-943e60a2750c",
   "metadata": {},
   "outputs": [],
   "source": [
    "#@title Splitting the data into training and validation sets,\n",
    "def split_data(human_data, animal_data):\n",
    "\n",
    "    # Add target column\n",
    "    human_data['target'] = 1\n",
    "    animal_data['target'] = 0\n",
    "    print(f'After adding target column {human_data.columns} \\n')\n",
    "    print(f'After adding target column {animal_data.columns} \\n')\n",
    "\n",
    "    # Concatenate data\n",
    "    data = pd.concat([human_data, animal_data], ignore_index=True)\n",
    "    print(f'After concatenating data {data.shape} \\n')\n",
    "    print(f'After concatenating data {data.columns} \\n')\n",
    "\n",
    "    # Shuffle data\n",
    "    data = data.sample(frac=1, random_state=42).reset_index(drop=True)\n",
    "    print(f'After shuffling data {data.shape} \\n')\n",
    "    print(f'After shuffling data {data.columns} \\n')\n",
    "\n",
    "    try:\n",
    "        data['title_orig'] = data['title']\n",
    "    except KeyError: # Catch the specific exception if 'title' column is missing\n",
    "        print(\"Error- No title detected! Title is needed!\")\n",
    "        raise  # Re-raise the caught exception\n",
    "\n",
    "    # Drop duplicates\n",
    "    data.drop_duplicates(inplace=True)\n",
    "    print(f'After dropping duplicates {data.shape} \\n')\n",
    "    print(f'After dropping duplicates {data.columns} \\n')\n",
    "\n",
    "    # Drop any duplicates based on 'title'\n",
    "    data.drop_duplicates(subset=['title'], inplace=True)\n",
    "    print(\"Number of studies in the training dataset after de-dupe: \" + str(data.shape[0]))\n",
    "    print(f'After dropping duplicates based on title {data.shape[0]} \\n')\n",
    "    print(f'After dropping duplicates based on title {data.columns} \\n')\n",
    "\n",
    "    # Split the data into features and target\n",
    "    X_train_full = data.drop(columns=['target'])\n",
    "    y_train_full = data['target']\n",
    "\n",
    "    # Splitting dataset\n",
    "    import numpy as np\n",
    "    from sklearn.model_selection import train_test_split\n",
    "    X_train, X_temp, y_train, y_temp = train_test_split(X_train_full, y_train_full, test_size=0.3, random_state=42)\n",
    "    X_val, X_test, y_val, y_test = train_test_split(X_temp, y_temp, test_size=0.5, random_state=42)\n",
    "    print(f'After splitting data {X_train.shape} \\n')\n",
    "    print(f'After splitting data {X_val.shape} \\n')\n",
    "    print(f'After splitting data {X_test.shape} \\n')\n",
    "    print(f'After splitting data {y_train.shape} \\n')\n",
    "    print(f'After splitting data {y_val.shape} \\n')\n",
    "    print(f'After splitting data {y_test.shape} \\n')\n",
    "\n",
    "    X_data = [X_train, X_val, X_test]\n",
    "    y_data = [y_train, y_val, y_test]\n",
    "    print(f'After splitting data {X_data} \\n')\n",
    "    print(f'After splitting data {y_data} \\n')\n",
    "\n",
    "    return X_data, y_data"
   ]
  },
  {
   "cell_type": "code",
   "execution_count": 29,
   "id": "69df6977-24e0-4fff-be4c-24e08a193d5c",
   "metadata": {},
   "outputs": [
    {
     "name": "stdout",
     "output_type": "stream",
     "text": [
      "After adding target column Index(['title', 'abstract', 'target'], dtype='object') \n",
      "\n",
      "After adding target column Index(['title', 'abstract', 'target'], dtype='object') \n",
      "\n",
      "After concatenating data (4152, 3) \n",
      "\n",
      "After concatenating data Index(['title', 'abstract', 'target'], dtype='object') \n",
      "\n",
      "After shuffling data (4152, 3) \n",
      "\n",
      "After shuffling data Index(['title', 'abstract', 'target'], dtype='object') \n",
      "\n",
      "After dropping duplicates (4152, 4) \n",
      "\n",
      "After dropping duplicates Index(['title', 'abstract', 'target', 'title_orig'], dtype='object') \n",
      "\n",
      "Number of studies in the training dataset after de-dupe: 4148\n",
      "After dropping duplicates based on title 4148 \n",
      "\n",
      "After dropping duplicates based on title Index(['title', 'abstract', 'target', 'title_orig'], dtype='object') \n",
      "\n",
      "After splitting data (2903, 3) \n",
      "\n",
      "After splitting data (622, 3) \n",
      "\n",
      "After splitting data (623, 3) \n",
      "\n",
      "After splitting data (2903,) \n",
      "\n",
      "After splitting data (622,) \n",
      "\n",
      "After splitting data (623,) \n",
      "\n",
      "After splitting data [                                                  title  \\\n",
      "3858  The Role of GLI in the Regulation of Hepatic E...   \n",
      "2091  Deficiency of PPAR? in Bone Marrow Stromal Cel...   \n",
      "4107  Dietary Supplementation with gamma-Aminobutyri...   \n",
      "3778  The effect of beta-receptor blockade on factor...   \n",
      "3425  Endovascular vs. open surgery of abdominal aor...   \n",
      "...                                                 ...   \n",
      "3447  Influenza-specific immune responses to a combi...   \n",
      "466   Co-ordinate transcriptional regulation of dopa...   \n",
      "3094  Evaluating Disease Threats to Sustainable Poul...   \n",
      "3776  Docosahexaenoic Acid and Melatonin Prevent Imp...   \n",
      "860   Effects of intramuscular and intranasal admini...   \n",
      "\n",
      "                                               abstract  \\\n",
      "3858  Objective: To study the regulatory role of GLI...   \n",
      "2091  Background: Bone marrow osteoblasts and adipoc...   \n",
      "4107  Recent research is increasingly shedding light...   \n",
      "3778  High factor VIII (FVIII) is a risk factor for ...   \n",
      "3425  BACKGROUND: We compared two groups of high-ris...   \n",
      "...                                                 ...   \n",
      "3447  Equids, like humans and swine, are recognized ...   \n",
      "466   Abnormal accumulation of alpha-synuclein in Le...   \n",
      "3094  The growth of the poultry industry in Nigeria ...   \n",
      "3776  In this study, our aims were to characterize o...   \n",
      "860   Objective: To compare the sedative and cardiop...   \n",
      "\n",
      "                                             title_orig  \n",
      "3858  The Role of GLI in the Regulation of Hepatic E...  \n",
      "2091  Deficiency of PPAR? in Bone Marrow Stromal Cel...  \n",
      "4107  Dietary Supplementation with gamma-Aminobutyri...  \n",
      "3778  The effect of beta-receptor blockade on factor...  \n",
      "3425  Endovascular vs. open surgery of abdominal aor...  \n",
      "...                                                 ...  \n",
      "3447  Influenza-specific immune responses to a combi...  \n",
      "466   Co-ordinate transcriptional regulation of dopa...  \n",
      "3094  Evaluating Disease Threats to Sustainable Poul...  \n",
      "3776  Docosahexaenoic Acid and Melatonin Prevent Imp...  \n",
      "860   Effects of intramuscular and intranasal admini...  \n",
      "\n",
      "[2903 rows x 3 columns],                                                   title  \\\n",
      "755   Transcriptome profiling of the pacific oyster ...   \n",
      "2645  Bilateral patellar tendon rupture in a child: ...   \n",
      "4123  The role of alternative medical providers for ...   \n",
      "2093  Neurological Benefits, Clinical Challenges, an...   \n",
      "4149  Cerebral perfusion and metabolism with mean ar...   \n",
      "...                                                 ...   \n",
      "3438  Northward Range Expansion of Water Deer in Nor...   \n",
      "7     Impairment of SHP-1 down-regulation in the lip...   \n",
      "3104  ApoM regulates PFKL through the transcription ...   \n",
      "479   Concomitant radio-chemotherapy based on platin...   \n",
      "2973  Feasibility of non-invasive recording of somat...   \n",
      "\n",
      "                                               abstract  \\\n",
      "755   The neuropeptides involved in the regulation o...   \n",
      "2645  Patellar tendon rupture in children is very ra...   \n",
      "4123  STUDY DESIGN: Analysis of health insurance cla...   \n",
      "2093  Despite current therapeutic strategies for imm...   \n",
      "4149  Aim: To determine whether targeting a mean art...   \n",
      "...                                                 ...   \n",
      "3438  Given current anthropogenic pressures and clim...   \n",
      "7     It has been shown that the functions and the r...   \n",
      "3104  Apolipoprotein M (ApoM) is considered a protec...   \n",
      "479   BACKGROUND: Despite several randomised trials ...   \n",
      "2973  BACKGROUND: Non-invasive measurement of somato...   \n",
      "\n",
      "                                             title_orig  \n",
      "755   Transcriptome profiling of the pacific oyster ...  \n",
      "2645  Bilateral patellar tendon rupture in a child: ...  \n",
      "4123  The role of alternative medical providers for ...  \n",
      "2093  Neurological Benefits, Clinical Challenges, an...  \n",
      "4149  Cerebral perfusion and metabolism with mean ar...  \n",
      "...                                                 ...  \n",
      "3438  Northward Range Expansion of Water Deer in Nor...  \n",
      "7     Impairment of SHP-1 down-regulation in the lip...  \n",
      "3104  ApoM regulates PFKL through the transcription ...  \n",
      "479   Concomitant radio-chemotherapy based on platin...  \n",
      "2973  Feasibility of non-invasive recording of somat...  \n",
      "\n",
      "[622 rows x 3 columns],                                                   title  \\\n",
      "3109  Calf Thymus Polypeptide Restrains the Growth o...   \n",
      "321   A Specialized Nutritional Formulation Prevents...   \n",
      "3801  Nurses' perceptions of preventing falls for pa...   \n",
      "2124  Type and amount of dietary protein in the trea...   \n",
      "3889  Temperature-Related Effects of Myocardial Prot...   \n",
      "...                                                 ...   \n",
      "889   Training in the Dark: Using Target Training fo...   \n",
      "203   6-Benzyloxyphthalides as selective and reversi...   \n",
      "1419  Successful renal transplantation in a patient ...   \n",
      "907   A pilot study on nitration/dysfunction of NK1 ...   \n",
      "3611  The Diagnostic Performance of Maximum Uptake V...   \n",
      "\n",
      "                                               abstract  \\\n",
      "3109  Calf thymus polypeptide (CTP), with a molecula...   \n",
      "321   Background: Alzheimer's disease (AD) is the mo...   \n",
      "3801  OBJECTIVES: Safe and high-quality care for pat...   \n",
      "2124  BACKGROUND: Food?based dietary patterns emphas...   \n",
      "3889  Insufficient supply of cardiac grafts represen...   \n",
      "...                                                 ...   \n",
      "889   Accelerometers offer unique opportunities to s...   \n",
      "203   A series of 6-benzyloxyphthalides were designe...   \n",
      "1419  Vascular complications remain the most common ...   \n",
      "907   Protein tyrosine residue (Y) nitration, a post...   \n",
      "3611  OBJECTIVE: The purpose of this meta-analysis w...   \n",
      "\n",
      "                                             title_orig  \n",
      "3109  Calf Thymus Polypeptide Restrains the Growth o...  \n",
      "321   A Specialized Nutritional Formulation Prevents...  \n",
      "3801  Nurses' perceptions of preventing falls for pa...  \n",
      "2124  Type and amount of dietary protein in the trea...  \n",
      "3889  Temperature-Related Effects of Myocardial Prot...  \n",
      "...                                                 ...  \n",
      "889   Training in the Dark: Using Target Training fo...  \n",
      "203   6-Benzyloxyphthalides as selective and reversi...  \n",
      "1419  Successful renal transplantation in a patient ...  \n",
      "907   A pilot study on nitration/dysfunction of NK1 ...  \n",
      "3611  The Diagnostic Performance of Maximum Uptake V...  \n",
      "\n",
      "[623 rows x 3 columns]] \n",
      "\n",
      "After splitting data [3858    0\n",
      "2091    0\n",
      "4107    0\n",
      "3778    1\n",
      "3425    1\n",
      "       ..\n",
      "3447    0\n",
      "466     1\n",
      "3094    0\n",
      "3776    0\n",
      "860     0\n",
      "Name: target, Length: 2903, dtype: int64, 755     0\n",
      "2645    1\n",
      "4123    1\n",
      "2093    0\n",
      "4149    0\n",
      "       ..\n",
      "3438    0\n",
      "7       1\n",
      "3104    0\n",
      "479     1\n",
      "2973    0\n",
      "Name: target, Length: 622, dtype: int64, 3109    0\n",
      "321     0\n",
      "3801    1\n",
      "2124    0\n",
      "3889    0\n",
      "       ..\n",
      "889     0\n",
      "203     0\n",
      "1419    1\n",
      "907     0\n",
      "3611    0\n",
      "Name: target, Length: 623, dtype: int64] \n",
      "\n"
     ]
    }
   ],
   "source": [
    "X_data, y_data = split_data(human, animal)"
   ]
  },
  {
   "cell_type": "code",
   "execution_count": 30,
   "id": "95c0aa67-277e-493f-afec-e4f9174c0ed9",
   "metadata": {},
   "outputs": [
    {
     "data": {
      "text/plain": [
       "(2903, 3)"
      ]
     },
     "execution_count": 30,
     "metadata": {},
     "output_type": "execute_result"
    }
   ],
   "source": [
    "X_data[0].shape"
   ]
  },
  {
   "cell_type": "code",
   "execution_count": 31,
   "id": "8b72a3c8-5cad-4133-8c7c-1a1d680a9ca0",
   "metadata": {},
   "outputs": [
    {
     "data": {
      "text/plain": [
       "(2903,)"
      ]
     },
     "execution_count": 31,
     "metadata": {},
     "output_type": "execute_result"
    }
   ],
   "source": [
    "y_data[0].shape"
   ]
  },
  {
   "cell_type": "markdown",
   "id": "e15d4943-3ea8-442f-82b3-e537d27aadee",
   "metadata": {},
   "source": [
    "## Text Pre-processing, Fit on Training Data and Transform all sets using Fitted Vectorizer"
   ]
  },
  {
   "cell_type": "markdown",
   "id": "a54f2f9f-20aa-48ad-b607-f2fbb64d5ae3",
   "metadata": {},
   "source": [
    "#### Adjust the preprocessing steps and parameters based on dataset and classification task."
   ]
  },
  {
   "cell_type": "code",
   "execution_count": 32,
   "id": "254daa02-61d0-4d1c-bd4b-84067423ac6a",
   "metadata": {},
   "outputs": [],
   "source": [
    "#@title Adjust the preprocessing steps and parameters based on dataset and classification task.\n",
    "def preprocess(X_data):\n",
    "\n",
    "    # Concatenate title and abstract columns; Convert to lowercase\n",
    "    X_data['titleabstract'] = X_data['title'] + ' ' + X_data['abstract']\n",
    "    X_data['titleabstract'] = X_data['titleabstract'].str.lower()\n",
    "    print(f'After concatenating title and abstract {X_data.columns} \\n')\n",
    "    print(f'After concatenating title and abstract {X_data.shape} \\n')\n",
    "\n",
    "    # Drop title and abstract columns\n",
    "    X_data.drop(columns=['title', 'abstract'], inplace=True)\n",
    "    print(f'After dropping title and abstract {X_data.columns} \\n')\n",
    "\n",
    "    # Remove punctuation\n",
    "    import string\n",
    "    X_data['titleabstract'] = X_data['titleabstract'].str.translate(str.maketrans('', '', string.punctuation))\n",
    "    print(f'After removing punctuation {X_data.columns} \\n')\n",
    "    print(f'After removing punctuation {X_data.shape} \\n')\n",
    "\n",
    "    # Remove numbers\n",
    "    X_data['titleabstract'] = X_data['titleabstract'].str.replace('\\d+', '')\n",
    "    print(f'After removing numbers {X_data.columns} \\n')\n",
    "    print(f'After removing numbers {X_data.shape} \\n')\n",
    "\n",
    "    # Remove extra whitespace\n",
    "    X_data['titleabstract'] = X_data['titleabstract'].str.replace('\\s+', ' ')\n",
    "    print(f'After removing extra whitespace {X_data.columns} \\n')\n",
    "    print(f'After removing extra whitespace {X_data.shape} \\n')\n",
    "\n",
    "    # Remove stop words\n",
    "    # Download stop words\n",
    "\n",
    "    print(f'Before removing stop words {X_data.columns} \\n')\n",
    "    print(f'Before removing stop words {X_data.shape} \\n')\n",
    "    print(f'Before removing stop words {X_data.head} \\n')\n",
    "\n",
    "    import nltk\n",
    "    from nltk.corpus import stopwords\n",
    "    nltk.download('stopwords')\n",
    "    stop_words = set(stopwords.words('english'))\n",
    "    X_data['titleabstract'] = X_data['titleabstract'].apply(lambda x: ' '.join([word for word in x.split() if word not in (stop_words)]))\n",
    "    print(f'After removing stop words {X_data.columns} \\n')\n",
    "    print(f'After removing stop words {X_data.shape} \\n')\n",
    "    print(f'After removing stop words {X_data.head} \\n')\n",
    "\n",
    "    # Lemmatize words\n",
    "    import spacy\n",
    "    nlp = spacy.load('en_core_web_sm')\n",
    "    X_data['titleabstract'] = X_data['titleabstract'].apply(lambda x: ' '.join([token.lemma_ for token in nlp(x)]))\n",
    "    print(f'After lemmatizing words {X_data.columns} \\n')\n",
    "    print(f'After lemmatizing words {X_data.shape} \\n')\n",
    "    print(f'After lemmatizing words {X_data.head} \\n')\n",
    "\n",
    "    # tokenization\n",
    "    import nltk\n",
    "    nltk.download('punkt')\n",
    "    X_data['titleabstract'] = X_data['titleabstract'].apply(lambda x: nltk.word_tokenize(x))\n",
    "    print(f'After tokenization {X_data.columns} \\n')\n",
    "    print(f'After tokenization {X_data.shape} \\n')\n",
    "    print(f'After tokenization {X_data.head} \\n')\n",
    "\n",
    "    # Remove single-letter words\n",
    "    X_data['titleabstract'] = X_data['titleabstract'].apply(lambda x: [word for word in x if len(word) > 1])\n",
    "    print(f'After removing single-letter words {X_data.columns} \\n')\n",
    "    print(f'After removing single-letter words {X_data.shape} \\n')\n",
    "\n",
    "    # Join the tokens back into a single string\n",
    "    X_data['titleabstract'] = X_data['titleabstract'].apply(lambda x: ' '.join(x))\n",
    "    print(f'After joining the tokens back into a single string {X_data.columns} \\n')\n",
    "    print(f'After joining the tokens back into a single string {X_data.shape} \\n')\n",
    "    print(f'After joining the tokens back into a single string {X_data.head} \\n')\n",
    "    print(f'After joining the tokens back into a single string {X_data.tail} \\n')\n",
    "\n",
    "    # Save data\n",
    "    # X_data.to_csv(RESULTS_PATH / 'preprocessed_data.csv', index=False)\n",
    "\n",
    "    # Return data\n",
    "    return X_data"
   ]
  },
  {
   "cell_type": "code",
   "execution_count": 33,
   "id": "4b2cf684-1b2f-44fa-9637-cb81f9e6756a",
   "metadata": {
    "scrolled": true
   },
   "outputs": [
    {
     "name": "stdout",
     "output_type": "stream",
     "text": [
      "After concatenating title and abstract Index(['title', 'abstract', 'title_orig', 'titleabstract'], dtype='object') \n",
      "\n",
      "After concatenating title and abstract (2903, 4) \n",
      "\n",
      "After dropping title and abstract Index(['title_orig', 'titleabstract'], dtype='object') \n",
      "\n",
      "After removing punctuation Index(['title_orig', 'titleabstract'], dtype='object') \n",
      "\n",
      "After removing punctuation (2903, 2) \n",
      "\n",
      "After removing numbers Index(['title_orig', 'titleabstract'], dtype='object') \n",
      "\n",
      "After removing numbers (2903, 2) \n",
      "\n",
      "After removing extra whitespace Index(['title_orig', 'titleabstract'], dtype='object') \n",
      "\n",
      "After removing extra whitespace (2903, 2) \n",
      "\n",
      "Before removing stop words Index(['title_orig', 'titleabstract'], dtype='object') \n",
      "\n",
      "Before removing stop words (2903, 2) \n",
      "\n",
      "Before removing stop words <bound method NDFrame.head of                                              title_orig  \\\n",
      "3858  The Role of GLI in the Regulation of Hepatic E...   \n",
      "2091  Deficiency of PPAR? in Bone Marrow Stromal Cel...   \n",
      "4107  Dietary Supplementation with gamma-Aminobutyri...   \n",
      "3778  The effect of beta-receptor blockade on factor...   \n",
      "3425  Endovascular vs. open surgery of abdominal aor...   \n",
      "...                                                 ...   \n",
      "3447  Influenza-specific immune responses to a combi...   \n",
      "466   Co-ordinate transcriptional regulation of dopa...   \n",
      "3094  Evaluating Disease Threats to Sustainable Poul...   \n",
      "3776  Docosahexaenoic Acid and Melatonin Prevent Imp...   \n",
      "860   Effects of intramuscular and intranasal admini...   \n",
      "\n",
      "                                          titleabstract  \n",
      "3858  the role of gli in the regulation of hepatic e...  \n",
      "2091  deficiency of ppar in bone marrow stromal cell...  \n",
      "4107  dietary supplementation with gammaaminobutyric...  \n",
      "3778  the effect of betareceptor blockade on factor ...  \n",
      "3425  endovascular vs open surgery of abdominal aort...  \n",
      "...                                                 ...  \n",
      "3447  influenzaspecific immune responses to a combin...  \n",
      "466   coordinate transcriptional regulation of dopam...  \n",
      "3094  evaluating disease threats to sustainable poul...  \n",
      "3776  docosahexaenoic acid and melatonin prevent imp...  \n",
      "860   effects of intramuscular and intranasal admini...  \n",
      "\n",
      "[2903 rows x 2 columns]> \n",
      "\n"
     ]
    },
    {
     "name": "stderr",
     "output_type": "stream",
     "text": [
      "[nltk_data] Downloading package stopwords to\n",
      "[nltk_data]     C:\\Users\\TFakorede\\AppData\\Roaming\\nltk_data...\n",
      "[nltk_data]   Package stopwords is already up-to-date!\n"
     ]
    },
    {
     "name": "stdout",
     "output_type": "stream",
     "text": [
      "After removing stop words Index(['title_orig', 'titleabstract'], dtype='object') \n",
      "\n",
      "After removing stop words (2903, 2) \n",
      "\n",
      "After removing stop words <bound method NDFrame.head of                                              title_orig  \\\n",
      "3858  The Role of GLI in the Regulation of Hepatic E...   \n",
      "2091  Deficiency of PPAR? in Bone Marrow Stromal Cel...   \n",
      "4107  Dietary Supplementation with gamma-Aminobutyri...   \n",
      "3778  The effect of beta-receptor blockade on factor...   \n",
      "3425  Endovascular vs. open surgery of abdominal aor...   \n",
      "...                                                 ...   \n",
      "3447  Influenza-specific immune responses to a combi...   \n",
      "466   Co-ordinate transcriptional regulation of dopa...   \n",
      "3094  Evaluating Disease Threats to Sustainable Poul...   \n",
      "3776  Docosahexaenoic Acid and Melatonin Prevent Imp...   \n",
      "860   Effects of intramuscular and intranasal admini...   \n",
      "\n",
      "                                          titleabstract  \n",
      "3858  role gli regulation hepatic epithelialmesenchy...  \n",
      "2091  deficiency ppar bone marrow stromal cells prev...  \n",
      "4107  dietary supplementation gammaaminobutyric acid...  \n",
      "3778  effect betareceptor blockade factor viii level...  \n",
      "3425  endovascular vs open surgery abdominal aortic ...  \n",
      "...                                                 ...  \n",
      "3447  influenzaspecific immune responses combination...  \n",
      "466   coordinate transcriptional regulation dopamine...  \n",
      "3094  evaluating disease threats sustainable poultry...  \n",
      "3776  docosahexaenoic acid melatonin prevent impaire...  \n",
      "860   effects intramuscular intranasal administratio...  \n",
      "\n",
      "[2903 rows x 2 columns]> \n",
      "\n",
      "After lemmatizing words Index(['title_orig', 'titleabstract'], dtype='object') \n",
      "\n",
      "After lemmatizing words (2903, 2) \n",
      "\n",
      "After lemmatizing words <bound method NDFrame.head of                                              title_orig  \\\n",
      "3858  The Role of GLI in the Regulation of Hepatic E...   \n",
      "2091  Deficiency of PPAR? in Bone Marrow Stromal Cel...   \n",
      "4107  Dietary Supplementation with gamma-Aminobutyri...   \n",
      "3778  The effect of beta-receptor blockade on factor...   \n",
      "3425  Endovascular vs. open surgery of abdominal aor...   \n",
      "...                                                 ...   \n",
      "3447  Influenza-specific immune responses to a combi...   \n",
      "466   Co-ordinate transcriptional regulation of dopa...   \n",
      "3094  Evaluating Disease Threats to Sustainable Poul...   \n",
      "3776  Docosahexaenoic Acid and Melatonin Prevent Imp...   \n",
      "860   Effects of intramuscular and intranasal admini...   \n",
      "\n",
      "                                          titleabstract  \n",
      "3858  role gli regulation hepatic epithelialmesenchy...  \n",
      "2091  deficiency ppar bone marrow stromal cell preve...  \n",
      "4107  dietary supplementation gammaaminobutyric acid...  \n",
      "3778  effect betareceptor blockade factor viii level...  \n",
      "3425  endovascular vs open surgery abdominal aortic ...  \n",
      "...                                                 ...  \n",
      "3447  influenzaspecific immune response combination ...  \n",
      "466   coordinate transcriptional regulation dopamine...  \n",
      "3094  evaluate disease threat sustainable poultry pr...  \n",
      "3776  docosahexaenoic acid melatonin prevent impair ...  \n",
      "860   effect intramuscular intranasal administration...  \n",
      "\n",
      "[2903 rows x 2 columns]> \n",
      "\n"
     ]
    },
    {
     "name": "stderr",
     "output_type": "stream",
     "text": [
      "[nltk_data] Downloading package punkt to\n",
      "[nltk_data]     C:\\Users\\TFakorede\\AppData\\Roaming\\nltk_data...\n",
      "[nltk_data]   Package punkt is already up-to-date!\n"
     ]
    },
    {
     "name": "stdout",
     "output_type": "stream",
     "text": [
      "After tokenization Index(['title_orig', 'titleabstract'], dtype='object') \n",
      "\n",
      "After tokenization (2903, 2) \n",
      "\n",
      "After tokenization <bound method NDFrame.head of                                              title_orig  \\\n",
      "3858  The Role of GLI in the Regulation of Hepatic E...   \n",
      "2091  Deficiency of PPAR? in Bone Marrow Stromal Cel...   \n",
      "4107  Dietary Supplementation with gamma-Aminobutyri...   \n",
      "3778  The effect of beta-receptor blockade on factor...   \n",
      "3425  Endovascular vs. open surgery of abdominal aor...   \n",
      "...                                                 ...   \n",
      "3447  Influenza-specific immune responses to a combi...   \n",
      "466   Co-ordinate transcriptional regulation of dopa...   \n",
      "3094  Evaluating Disease Threats to Sustainable Poul...   \n",
      "3776  Docosahexaenoic Acid and Melatonin Prevent Imp...   \n",
      "860   Effects of intramuscular and intranasal admini...   \n",
      "\n",
      "                                          titleabstract  \n",
      "3858  [role, gli, regulation, hepatic, epithelialmes...  \n",
      "2091  [deficiency, ppar, bone, marrow, stromal, cell...  \n",
      "4107  [dietary, supplementation, gammaaminobutyric, ...  \n",
      "3778  [effect, betareceptor, blockade, factor, viii,...  \n",
      "3425  [endovascular, vs, open, surgery, abdominal, a...  \n",
      "...                                                 ...  \n",
      "3447  [influenzaspecific, immune, response, combinat...  \n",
      "466   [coordinate, transcriptional, regulation, dopa...  \n",
      "3094  [evaluate, disease, threat, sustainable, poult...  \n",
      "3776  [docosahexaenoic, acid, melatonin, prevent, im...  \n",
      "860   [effect, intramuscular, intranasal, administra...  \n",
      "\n",
      "[2903 rows x 2 columns]> \n",
      "\n",
      "After removing single-letter words Index(['title_orig', 'titleabstract'], dtype='object') \n",
      "\n",
      "After removing single-letter words (2903, 2) \n",
      "\n",
      "After joining the tokens back into a single string Index(['title_orig', 'titleabstract'], dtype='object') \n",
      "\n",
      "After joining the tokens back into a single string (2903, 2) \n",
      "\n",
      "After joining the tokens back into a single string <bound method NDFrame.head of                                              title_orig  \\\n",
      "3858  The Role of GLI in the Regulation of Hepatic E...   \n",
      "2091  Deficiency of PPAR? in Bone Marrow Stromal Cel...   \n",
      "4107  Dietary Supplementation with gamma-Aminobutyri...   \n",
      "3778  The effect of beta-receptor blockade on factor...   \n",
      "3425  Endovascular vs. open surgery of abdominal aor...   \n",
      "...                                                 ...   \n",
      "3447  Influenza-specific immune responses to a combi...   \n",
      "466   Co-ordinate transcriptional regulation of dopa...   \n",
      "3094  Evaluating Disease Threats to Sustainable Poul...   \n",
      "3776  Docosahexaenoic Acid and Melatonin Prevent Imp...   \n",
      "860   Effects of intramuscular and intranasal admini...   \n",
      "\n",
      "                                          titleabstract  \n",
      "3858  role gli regulation hepatic epithelialmesenchy...  \n",
      "2091  deficiency ppar bone marrow stromal cell preve...  \n",
      "4107  dietary supplementation gammaaminobutyric acid...  \n",
      "3778  effect betareceptor blockade factor viii level...  \n",
      "3425  endovascular vs open surgery abdominal aortic ...  \n",
      "...                                                 ...  \n",
      "3447  influenzaspecific immune response combination ...  \n",
      "466   coordinate transcriptional regulation dopamine...  \n",
      "3094  evaluate disease threat sustainable poultry pr...  \n",
      "3776  docosahexaenoic acid melatonin prevent impair ...  \n",
      "860   effect intramuscular intranasal administration...  \n",
      "\n",
      "[2903 rows x 2 columns]> \n",
      "\n",
      "After joining the tokens back into a single string <bound method NDFrame.tail of                                              title_orig  \\\n",
      "3858  The Role of GLI in the Regulation of Hepatic E...   \n",
      "2091  Deficiency of PPAR? in Bone Marrow Stromal Cel...   \n",
      "4107  Dietary Supplementation with gamma-Aminobutyri...   \n",
      "3778  The effect of beta-receptor blockade on factor...   \n",
      "3425  Endovascular vs. open surgery of abdominal aor...   \n",
      "...                                                 ...   \n",
      "3447  Influenza-specific immune responses to a combi...   \n",
      "466   Co-ordinate transcriptional regulation of dopa...   \n",
      "3094  Evaluating Disease Threats to Sustainable Poul...   \n",
      "3776  Docosahexaenoic Acid and Melatonin Prevent Imp...   \n",
      "860   Effects of intramuscular and intranasal admini...   \n",
      "\n",
      "                                          titleabstract  \n",
      "3858  role gli regulation hepatic epithelialmesenchy...  \n",
      "2091  deficiency ppar bone marrow stromal cell preve...  \n",
      "4107  dietary supplementation gammaaminobutyric acid...  \n",
      "3778  effect betareceptor blockade factor viii level...  \n",
      "3425  endovascular vs open surgery abdominal aortic ...  \n",
      "...                                                 ...  \n",
      "3447  influenzaspecific immune response combination ...  \n",
      "466   coordinate transcriptional regulation dopamine...  \n",
      "3094  evaluate disease threat sustainable poultry pr...  \n",
      "3776  docosahexaenoic acid melatonin prevent impair ...  \n",
      "860   effect intramuscular intranasal administration...  \n",
      "\n",
      "[2903 rows x 2 columns]> \n",
      "\n"
     ]
    }
   ],
   "source": [
    "# from tkinter.constants import X\n",
    "\n",
    "X_train = preprocess(X_data[0])\n",
    "X_train = X_data[0]"
   ]
  },
  {
   "cell_type": "code",
   "execution_count": 34,
   "id": "e02da73d-786e-4c0d-82c3-d6d775e55632",
   "metadata": {
    "scrolled": true
   },
   "outputs": [
    {
     "name": "stdout",
     "output_type": "stream",
     "text": [
      "After concatenating title and abstract Index(['title', 'abstract', 'title_orig', 'titleabstract'], dtype='object') \n",
      "\n",
      "After concatenating title and abstract (622, 4) \n",
      "\n",
      "After dropping title and abstract Index(['title_orig', 'titleabstract'], dtype='object') \n",
      "\n",
      "After removing punctuation Index(['title_orig', 'titleabstract'], dtype='object') \n",
      "\n",
      "After removing punctuation (622, 2) \n",
      "\n",
      "After removing numbers Index(['title_orig', 'titleabstract'], dtype='object') \n",
      "\n",
      "After removing numbers (622, 2) \n",
      "\n",
      "After removing extra whitespace Index(['title_orig', 'titleabstract'], dtype='object') \n",
      "\n",
      "After removing extra whitespace (622, 2) \n",
      "\n",
      "Before removing stop words Index(['title_orig', 'titleabstract'], dtype='object') \n",
      "\n",
      "Before removing stop words (622, 2) \n",
      "\n",
      "Before removing stop words <bound method NDFrame.head of                                              title_orig  \\\n",
      "755   Transcriptome profiling of the pacific oyster ...   \n",
      "2645  Bilateral patellar tendon rupture in a child: ...   \n",
      "4123  The role of alternative medical providers for ...   \n",
      "2093  Neurological Benefits, Clinical Challenges, an...   \n",
      "4149  Cerebral perfusion and metabolism with mean ar...   \n",
      "...                                                 ...   \n",
      "3438  Northward Range Expansion of Water Deer in Nor...   \n",
      "7     Impairment of SHP-1 down-regulation in the lip...   \n",
      "3104  ApoM regulates PFKL through the transcription ...   \n",
      "479   Concomitant radio-chemotherapy based on platin...   \n",
      "2973  Feasibility of non-invasive recording of somat...   \n",
      "\n",
      "                                          titleabstract  \n",
      "755   transcriptome profiling of the pacific oyster ...  \n",
      "2645  bilateral patellar tendon rupture in a child a...  \n",
      "4123  the role of alternative medical providers for ...  \n",
      "2093  neurological benefits clinical challenges and ...  \n",
      "4149  cerebral perfusion and metabolism with mean ar...  \n",
      "...                                                 ...  \n",
      "3438  northward range expansion of water deer in nor...  \n",
      "7     impairment of shp1 downregulation in the lipid...  \n",
      "3104  apom regulates pfkl through the transcription ...  \n",
      "479   concomitant radiochemotherapy based on platin ...  \n",
      "2973  feasibility of noninvasive recording of somato...  \n",
      "\n",
      "[622 rows x 2 columns]> \n",
      "\n",
      "After removing stop words Index(['title_orig', 'titleabstract'], dtype='object') \n",
      "\n",
      "After removing stop words (622, 2) \n",
      "\n",
      "After removing stop words <bound method NDFrame.head of                                              title_orig  \\\n",
      "755   Transcriptome profiling of the pacific oyster ...   \n",
      "2645  Bilateral patellar tendon rupture in a child: ...   \n",
      "4123  The role of alternative medical providers for ...   \n",
      "2093  Neurological Benefits, Clinical Challenges, an...   \n",
      "4149  Cerebral perfusion and metabolism with mean ar...   \n",
      "...                                                 ...   \n",
      "3438  Northward Range Expansion of Water Deer in Nor...   \n",
      "7     Impairment of SHP-1 down-regulation in the lip...   \n",
      "3104  ApoM regulates PFKL through the transcription ...   \n",
      "479   Concomitant radio-chemotherapy based on platin...   \n",
      "2973  Feasibility of non-invasive recording of somat...   \n",
      "\n",
      "                                          titleabstract  \n",
      "755   transcriptome profiling pacific oyster crassos...  \n",
      "2645  bilateral patellar tendon rupture child case r...  \n",
      "4123  role alternative medical providers outpatient ...  \n",
      "2093  neurological benefits clinical challenges neur...  \n",
      "4149  cerebral perfusion metabolism mean arterial pr...  \n",
      "...                                                 ...  \n",
      "3438  northward range expansion water deer northeast...  \n",
      "7     impairment shp1 downregulation lipid rafts hum...  \n",
      "3104  apom regulates pfkl transcription factor srebf...  \n",
      "479   concomitant radiochemotherapy based platin com...  \n",
      "2973  feasibility noninvasive recording somatosensor...  \n",
      "\n",
      "[622 rows x 2 columns]> \n",
      "\n"
     ]
    },
    {
     "name": "stderr",
     "output_type": "stream",
     "text": [
      "[nltk_data] Downloading package stopwords to\n",
      "[nltk_data]     C:\\Users\\TFakorede\\AppData\\Roaming\\nltk_data...\n",
      "[nltk_data]   Package stopwords is already up-to-date!\n"
     ]
    },
    {
     "name": "stdout",
     "output_type": "stream",
     "text": [
      "After lemmatizing words Index(['title_orig', 'titleabstract'], dtype='object') \n",
      "\n",
      "After lemmatizing words (622, 2) \n",
      "\n",
      "After lemmatizing words <bound method NDFrame.head of                                              title_orig  \\\n",
      "755   Transcriptome profiling of the pacific oyster ...   \n",
      "2645  Bilateral patellar tendon rupture in a child: ...   \n",
      "4123  The role of alternative medical providers for ...   \n",
      "2093  Neurological Benefits, Clinical Challenges, an...   \n",
      "4149  Cerebral perfusion and metabolism with mean ar...   \n",
      "...                                                 ...   \n",
      "3438  Northward Range Expansion of Water Deer in Nor...   \n",
      "7     Impairment of SHP-1 down-regulation in the lip...   \n",
      "3104  ApoM regulates PFKL through the transcription ...   \n",
      "479   Concomitant radio-chemotherapy based on platin...   \n",
      "2973  Feasibility of non-invasive recording of somat...   \n",
      "\n",
      "                                          titleabstract  \n",
      "755   transcriptome profile pacific oyster crassostr...  \n",
      "2645  bilateral patellar tendon rupture child case r...  \n",
      "4123  role alternative medical provider outpatient t...  \n",
      "2093  neurological benefit clinical challenge neurop...  \n",
      "4149  cerebral perfusion metabolism mean arterial pr...  \n",
      "...                                                 ...  \n",
      "3438  northward range expansion water deer northeast...  \n",
      "7     impairment shp1 downregulation lipid raft huma...  \n",
      "3104  apom regulate pfkl transcription factor srebf1...  \n",
      "479   concomitant radiochemotherapy base platin comp...  \n",
      "2973  feasibility noninvasive record somatosensory e...  \n",
      "\n",
      "[622 rows x 2 columns]> \n",
      "\n"
     ]
    },
    {
     "name": "stderr",
     "output_type": "stream",
     "text": [
      "[nltk_data] Downloading package punkt to\n",
      "[nltk_data]     C:\\Users\\TFakorede\\AppData\\Roaming\\nltk_data...\n",
      "[nltk_data]   Package punkt is already up-to-date!\n"
     ]
    },
    {
     "name": "stdout",
     "output_type": "stream",
     "text": [
      "After tokenization Index(['title_orig', 'titleabstract'], dtype='object') \n",
      "\n",
      "After tokenization (622, 2) \n",
      "\n",
      "After tokenization <bound method NDFrame.head of                                              title_orig  \\\n",
      "755   Transcriptome profiling of the pacific oyster ...   \n",
      "2645  Bilateral patellar tendon rupture in a child: ...   \n",
      "4123  The role of alternative medical providers for ...   \n",
      "2093  Neurological Benefits, Clinical Challenges, an...   \n",
      "4149  Cerebral perfusion and metabolism with mean ar...   \n",
      "...                                                 ...   \n",
      "3438  Northward Range Expansion of Water Deer in Nor...   \n",
      "7     Impairment of SHP-1 down-regulation in the lip...   \n",
      "3104  ApoM regulates PFKL through the transcription ...   \n",
      "479   Concomitant radio-chemotherapy based on platin...   \n",
      "2973  Feasibility of non-invasive recording of somat...   \n",
      "\n",
      "                                          titleabstract  \n",
      "755   [transcriptome, profile, pacific, oyster, cras...  \n",
      "2645  [bilateral, patellar, tendon, rupture, child, ...  \n",
      "4123  [role, alternative, medical, provider, outpati...  \n",
      "2093  [neurological, benefit, clinical, challenge, n...  \n",
      "4149  [cerebral, perfusion, metabolism, mean, arteri...  \n",
      "...                                                 ...  \n",
      "3438  [northward, range, expansion, water, deer, nor...  \n",
      "7     [impairment, shp1, downregulation, lipid, raft...  \n",
      "3104  [apom, regulate, pfkl, transcription, factor, ...  \n",
      "479   [concomitant, radiochemotherapy, base, platin,...  \n",
      "2973  [feasibility, noninvasive, record, somatosenso...  \n",
      "\n",
      "[622 rows x 2 columns]> \n",
      "\n",
      "After removing single-letter words Index(['title_orig', 'titleabstract'], dtype='object') \n",
      "\n",
      "After removing single-letter words (622, 2) \n",
      "\n",
      "After joining the tokens back into a single string Index(['title_orig', 'titleabstract'], dtype='object') \n",
      "\n",
      "After joining the tokens back into a single string (622, 2) \n",
      "\n",
      "After joining the tokens back into a single string <bound method NDFrame.head of                                              title_orig  \\\n",
      "755   Transcriptome profiling of the pacific oyster ...   \n",
      "2645  Bilateral patellar tendon rupture in a child: ...   \n",
      "4123  The role of alternative medical providers for ...   \n",
      "2093  Neurological Benefits, Clinical Challenges, an...   \n",
      "4149  Cerebral perfusion and metabolism with mean ar...   \n",
      "...                                                 ...   \n",
      "3438  Northward Range Expansion of Water Deer in Nor...   \n",
      "7     Impairment of SHP-1 down-regulation in the lip...   \n",
      "3104  ApoM regulates PFKL through the transcription ...   \n",
      "479   Concomitant radio-chemotherapy based on platin...   \n",
      "2973  Feasibility of non-invasive recording of somat...   \n",
      "\n",
      "                                          titleabstract  \n",
      "755   transcriptome profile pacific oyster crassostr...  \n",
      "2645  bilateral patellar tendon rupture child case r...  \n",
      "4123  role alternative medical provider outpatient t...  \n",
      "2093  neurological benefit clinical challenge neurop...  \n",
      "4149  cerebral perfusion metabolism mean arterial pr...  \n",
      "...                                                 ...  \n",
      "3438  northward range expansion water deer northeast...  \n",
      "7     impairment shp1 downregulation lipid raft huma...  \n",
      "3104  apom regulate pfkl transcription factor srebf1...  \n",
      "479   concomitant radiochemotherapy base platin comp...  \n",
      "2973  feasibility noninvasive record somatosensory e...  \n",
      "\n",
      "[622 rows x 2 columns]> \n",
      "\n",
      "After joining the tokens back into a single string <bound method NDFrame.tail of                                              title_orig  \\\n",
      "755   Transcriptome profiling of the pacific oyster ...   \n",
      "2645  Bilateral patellar tendon rupture in a child: ...   \n",
      "4123  The role of alternative medical providers for ...   \n",
      "2093  Neurological Benefits, Clinical Challenges, an...   \n",
      "4149  Cerebral perfusion and metabolism with mean ar...   \n",
      "...                                                 ...   \n",
      "3438  Northward Range Expansion of Water Deer in Nor...   \n",
      "7     Impairment of SHP-1 down-regulation in the lip...   \n",
      "3104  ApoM regulates PFKL through the transcription ...   \n",
      "479   Concomitant radio-chemotherapy based on platin...   \n",
      "2973  Feasibility of non-invasive recording of somat...   \n",
      "\n",
      "                                          titleabstract  \n",
      "755   transcriptome profile pacific oyster crassostr...  \n",
      "2645  bilateral patellar tendon rupture child case r...  \n",
      "4123  role alternative medical provider outpatient t...  \n",
      "2093  neurological benefit clinical challenge neurop...  \n",
      "4149  cerebral perfusion metabolism mean arterial pr...  \n",
      "...                                                 ...  \n",
      "3438  northward range expansion water deer northeast...  \n",
      "7     impairment shp1 downregulation lipid raft huma...  \n",
      "3104  apom regulate pfkl transcription factor srebf1...  \n",
      "479   concomitant radiochemotherapy base platin comp...  \n",
      "2973  feasibility noninvasive record somatosensory e...  \n",
      "\n",
      "[622 rows x 2 columns]> \n",
      "\n"
     ]
    }
   ],
   "source": [
    "X_val = preprocess(X_data[1])\n",
    "X_val = X_data[1]"
   ]
  },
  {
   "cell_type": "code",
   "execution_count": 35,
   "id": "978ebbc9-65be-4020-a66c-5dea115b80f5",
   "metadata": {
    "scrolled": true
   },
   "outputs": [
    {
     "name": "stdout",
     "output_type": "stream",
     "text": [
      "After concatenating title and abstract Index(['title', 'abstract', 'title_orig', 'titleabstract'], dtype='object') \n",
      "\n",
      "After concatenating title and abstract (623, 4) \n",
      "\n",
      "After dropping title and abstract Index(['title_orig', 'titleabstract'], dtype='object') \n",
      "\n",
      "After removing punctuation Index(['title_orig', 'titleabstract'], dtype='object') \n",
      "\n",
      "After removing punctuation (623, 2) \n",
      "\n",
      "After removing numbers Index(['title_orig', 'titleabstract'], dtype='object') \n",
      "\n",
      "After removing numbers (623, 2) \n",
      "\n",
      "After removing extra whitespace Index(['title_orig', 'titleabstract'], dtype='object') \n",
      "\n",
      "After removing extra whitespace (623, 2) \n",
      "\n",
      "Before removing stop words Index(['title_orig', 'titleabstract'], dtype='object') \n",
      "\n",
      "Before removing stop words (623, 2) \n",
      "\n",
      "Before removing stop words <bound method NDFrame.head of                                              title_orig  \\\n",
      "3109  Calf Thymus Polypeptide Restrains the Growth o...   \n",
      "321   A Specialized Nutritional Formulation Prevents...   \n",
      "3801  Nurses' perceptions of preventing falls for pa...   \n",
      "2124  Type and amount of dietary protein in the trea...   \n",
      "3889  Temperature-Related Effects of Myocardial Prot...   \n",
      "...                                                 ...   \n",
      "889   Training in the Dark: Using Target Training fo...   \n",
      "203   6-Benzyloxyphthalides as selective and reversi...   \n",
      "1419  Successful renal transplantation in a patient ...   \n",
      "907   A pilot study on nitration/dysfunction of NK1 ...   \n",
      "3611  The Diagnostic Performance of Maximum Uptake V...   \n",
      "\n",
      "                                          titleabstract  \n",
      "3109  calf thymus polypeptide restrains the growth o...  \n",
      "321   a specialized nutritional formulation prevents...  \n",
      "3801  nurses perceptions of preventing falls for pat...  \n",
      "2124  type and amount of dietary protein in the trea...  \n",
      "3889  temperaturerelated effects of myocardial prote...  \n",
      "...                                                 ...  \n",
      "889   training in the dark using target training for...  \n",
      "203   6benzyloxyphthalides as selective and reversib...  \n",
      "1419  successful renal transplantation in a patient ...  \n",
      "907   a pilot study on nitrationdysfunction of nk1 s...  \n",
      "3611  the diagnostic performance of maximum uptake v...  \n",
      "\n",
      "[623 rows x 2 columns]> \n",
      "\n",
      "After removing stop words Index(['title_orig', 'titleabstract'], dtype='object') \n",
      "\n",
      "After removing stop words (623, 2) \n",
      "\n",
      "After removing stop words <bound method NDFrame.head of                                              title_orig  \\\n",
      "3109  Calf Thymus Polypeptide Restrains the Growth o...   \n",
      "321   A Specialized Nutritional Formulation Prevents...   \n",
      "3801  Nurses' perceptions of preventing falls for pa...   \n",
      "2124  Type and amount of dietary protein in the trea...   \n",
      "3889  Temperature-Related Effects of Myocardial Prot...   \n",
      "...                                                 ...   \n",
      "889   Training in the Dark: Using Target Training fo...   \n",
      "203   6-Benzyloxyphthalides as selective and reversi...   \n",
      "1419  Successful renal transplantation in a patient ...   \n",
      "907   A pilot study on nitration/dysfunction of NK1 ...   \n",
      "3611  The Diagnostic Performance of Maximum Uptake V...   \n",
      "\n",
      "                                          titleabstract  \n",
      "3109  calf thymus polypeptide restrains growth color...  \n",
      "321   specialized nutritional formulation prevents h...  \n",
      "3801  nurses perceptions preventing falls patients d...  \n",
      "2124  type amount dietary protein treatment metaboli...  \n",
      "3889  temperaturerelated effects myocardial protecti...  \n",
      "...                                                 ...  \n",
      "889   training dark using target training noninvasiv...  \n",
      "203   6benzyloxyphthalides selective reversible mono...  \n",
      "1419  successful renal transplantation patient heter...  \n",
      "907   pilot study nitrationdysfunction nk1 segment m...  \n",
      "3611  diagnostic performance maximum uptake value ap...  \n",
      "\n",
      "[623 rows x 2 columns]> \n",
      "\n"
     ]
    },
    {
     "name": "stderr",
     "output_type": "stream",
     "text": [
      "[nltk_data] Downloading package stopwords to\n",
      "[nltk_data]     C:\\Users\\TFakorede\\AppData\\Roaming\\nltk_data...\n",
      "[nltk_data]   Package stopwords is already up-to-date!\n"
     ]
    },
    {
     "name": "stdout",
     "output_type": "stream",
     "text": [
      "After lemmatizing words Index(['title_orig', 'titleabstract'], dtype='object') \n",
      "\n",
      "After lemmatizing words (623, 2) \n",
      "\n",
      "After lemmatizing words <bound method NDFrame.head of                                              title_orig  \\\n",
      "3109  Calf Thymus Polypeptide Restrains the Growth o...   \n",
      "321   A Specialized Nutritional Formulation Prevents...   \n",
      "3801  Nurses' perceptions of preventing falls for pa...   \n",
      "2124  Type and amount of dietary protein in the trea...   \n",
      "3889  Temperature-Related Effects of Myocardial Prot...   \n",
      "...                                                 ...   \n",
      "889   Training in the Dark: Using Target Training fo...   \n",
      "203   6-Benzyloxyphthalides as selective and reversi...   \n",
      "1419  Successful renal transplantation in a patient ...   \n",
      "907   A pilot study on nitration/dysfunction of NK1 ...   \n",
      "3611  The Diagnostic Performance of Maximum Uptake V...   \n",
      "\n",
      "                                          titleabstract  \n",
      "3109  calf thymus polypeptide restrain growth colore...  \n",
      "321   specialize nutritional formulation prevent hip...  \n",
      "3801  nurse perception prevent fall patients dementi...  \n",
      "2124  type amount dietary protein treatment metaboli...  \n",
      "3889  temperaturerelate effect myocardial protection...  \n",
      "...                                                 ...  \n",
      "889   train dark use target training noninvasive app...  \n",
      "203   6benzyloxyphthalides selective reversible mono...  \n",
      "1419  successful renal transplantation patient heter...  \n",
      "907   pilot study nitrationdysfunction nk1 segment m...  \n",
      "3611  diagnostic performance maximum uptake value ap...  \n",
      "\n",
      "[623 rows x 2 columns]> \n",
      "\n"
     ]
    },
    {
     "name": "stderr",
     "output_type": "stream",
     "text": [
      "[nltk_data] Downloading package punkt to\n",
      "[nltk_data]     C:\\Users\\TFakorede\\AppData\\Roaming\\nltk_data...\n",
      "[nltk_data]   Package punkt is already up-to-date!\n"
     ]
    },
    {
     "name": "stdout",
     "output_type": "stream",
     "text": [
      "After tokenization Index(['title_orig', 'titleabstract'], dtype='object') \n",
      "\n",
      "After tokenization (623, 2) \n",
      "\n",
      "After tokenization <bound method NDFrame.head of                                              title_orig  \\\n",
      "3109  Calf Thymus Polypeptide Restrains the Growth o...   \n",
      "321   A Specialized Nutritional Formulation Prevents...   \n",
      "3801  Nurses' perceptions of preventing falls for pa...   \n",
      "2124  Type and amount of dietary protein in the trea...   \n",
      "3889  Temperature-Related Effects of Myocardial Prot...   \n",
      "...                                                 ...   \n",
      "889   Training in the Dark: Using Target Training fo...   \n",
      "203   6-Benzyloxyphthalides as selective and reversi...   \n",
      "1419  Successful renal transplantation in a patient ...   \n",
      "907   A pilot study on nitration/dysfunction of NK1 ...   \n",
      "3611  The Diagnostic Performance of Maximum Uptake V...   \n",
      "\n",
      "                                          titleabstract  \n",
      "3109  [calf, thymus, polypeptide, restrain, growth, ...  \n",
      "321   [specialize, nutritional, formulation, prevent...  \n",
      "3801  [nurse, perception, prevent, fall, patients, d...  \n",
      "2124  [type, amount, dietary, protein, treatment, me...  \n",
      "3889  [temperaturerelate, effect, myocardial, protec...  \n",
      "...                                                 ...  \n",
      "889   [train, dark, use, target, training, noninvasi...  \n",
      "203   [6benzyloxyphthalides, selective, reversible, ...  \n",
      "1419  [successful, renal, transplantation, patient, ...  \n",
      "907   [pilot, study, nitrationdysfunction, nk1, segm...  \n",
      "3611  [diagnostic, performance, maximum, uptake, val...  \n",
      "\n",
      "[623 rows x 2 columns]> \n",
      "\n",
      "After removing single-letter words Index(['title_orig', 'titleabstract'], dtype='object') \n",
      "\n",
      "After removing single-letter words (623, 2) \n",
      "\n",
      "After joining the tokens back into a single string Index(['title_orig', 'titleabstract'], dtype='object') \n",
      "\n",
      "After joining the tokens back into a single string (623, 2) \n",
      "\n",
      "After joining the tokens back into a single string <bound method NDFrame.head of                                              title_orig  \\\n",
      "3109  Calf Thymus Polypeptide Restrains the Growth o...   \n",
      "321   A Specialized Nutritional Formulation Prevents...   \n",
      "3801  Nurses' perceptions of preventing falls for pa...   \n",
      "2124  Type and amount of dietary protein in the trea...   \n",
      "3889  Temperature-Related Effects of Myocardial Prot...   \n",
      "...                                                 ...   \n",
      "889   Training in the Dark: Using Target Training fo...   \n",
      "203   6-Benzyloxyphthalides as selective and reversi...   \n",
      "1419  Successful renal transplantation in a patient ...   \n",
      "907   A pilot study on nitration/dysfunction of NK1 ...   \n",
      "3611  The Diagnostic Performance of Maximum Uptake V...   \n",
      "\n",
      "                                          titleabstract  \n",
      "3109  calf thymus polypeptide restrain growth colore...  \n",
      "321   specialize nutritional formulation prevent hip...  \n",
      "3801  nurse perception prevent fall patients dementi...  \n",
      "2124  type amount dietary protein treatment metaboli...  \n",
      "3889  temperaturerelate effect myocardial protection...  \n",
      "...                                                 ...  \n",
      "889   train dark use target training noninvasive app...  \n",
      "203   6benzyloxyphthalides selective reversible mono...  \n",
      "1419  successful renal transplantation patient heter...  \n",
      "907   pilot study nitrationdysfunction nk1 segment m...  \n",
      "3611  diagnostic performance maximum uptake value ap...  \n",
      "\n",
      "[623 rows x 2 columns]> \n",
      "\n",
      "After joining the tokens back into a single string <bound method NDFrame.tail of                                              title_orig  \\\n",
      "3109  Calf Thymus Polypeptide Restrains the Growth o...   \n",
      "321   A Specialized Nutritional Formulation Prevents...   \n",
      "3801  Nurses' perceptions of preventing falls for pa...   \n",
      "2124  Type and amount of dietary protein in the trea...   \n",
      "3889  Temperature-Related Effects of Myocardial Prot...   \n",
      "...                                                 ...   \n",
      "889   Training in the Dark: Using Target Training fo...   \n",
      "203   6-Benzyloxyphthalides as selective and reversi...   \n",
      "1419  Successful renal transplantation in a patient ...   \n",
      "907   A pilot study on nitration/dysfunction of NK1 ...   \n",
      "3611  The Diagnostic Performance of Maximum Uptake V...   \n",
      "\n",
      "                                          titleabstract  \n",
      "3109  calf thymus polypeptide restrain growth colore...  \n",
      "321   specialize nutritional formulation prevent hip...  \n",
      "3801  nurse perception prevent fall patients dementi...  \n",
      "2124  type amount dietary protein treatment metaboli...  \n",
      "3889  temperaturerelate effect myocardial protection...  \n",
      "...                                                 ...  \n",
      "889   train dark use target training noninvasive app...  \n",
      "203   6benzyloxyphthalides selective reversible mono...  \n",
      "1419  successful renal transplantation patient heter...  \n",
      "907   pilot study nitrationdysfunction nk1 segment m...  \n",
      "3611  diagnostic performance maximum uptake value ap...  \n",
      "\n",
      "[623 rows x 2 columns]> \n",
      "\n"
     ]
    }
   ],
   "source": [
    "X_test = preprocess(X_data[2])\n",
    "X_test = X_data[2]"
   ]
  },
  {
   "cell_type": "markdown",
   "id": "44f68a47-2cd9-4bdb-b3fd-b03e9688bb5d",
   "metadata": {},
   "source": [
    "#### Convert the text data into numerical features using TF-IDF vectorization:"
   ]
  },
  {
   "cell_type": "code",
   "execution_count": 36,
   "id": "325b9821-9483-4ab4-be49-e370951eb907",
   "metadata": {},
   "outputs": [],
   "source": [
    "#@title Convert the text data into numerical features using TF-IDF vectorization:\n",
    "# import tfid vectorizer\n",
    "from sklearn.feature_extraction.text import TfidfVectorizer\n",
    "\n",
    "def vectorize_data(X_data):\n",
    "    # Initialize the TF-IDF vectorizer\n",
    "    vectorizer = TfidfVectorizer(max_features=10000)\n",
    "\n",
    "    # Fit and transform the training data\n",
    "    X_train_tfidf = vectorizer.fit_transform(X_data[0]['titleabstract'])\n",
    "\n",
    "    # Transform the validation and test data\n",
    "    X_val_tfidf = vectorizer.transform(X_val['titleabstract'])\n",
    "    X_test_tfidf = vectorizer.transform(X_test['titleabstract'])\n",
    "\n",
    "    # Return the transformed data and the vectorizer\n",
    "    return X_train_tfidf, X_val_tfidf, X_test_tfidf, vectorizer"
   ]
  },
  {
   "cell_type": "code",
   "execution_count": 37,
   "id": "219b57d5-1e17-43c0-91c8-b13833801cd6",
   "metadata": {},
   "outputs": [
    {
     "data": {
      "text/plain": [
       "2854    fish oil replacement blend vegetable oil diet ...\n",
       "2597    implementation precalve vaccination programme ...\n",
       "2392    absence vaccineenhance disease unexpected posi...\n",
       "3075    resistance exercise alter mrf igfi mrna conten...\n",
       "571     probucol prevent atrial ion channel remodeling...\n",
       "3478    limitation technique determine hydrogen peroxi...\n",
       "401     effect individual dietary fatty acid postprand...\n",
       "1936    impair gastric acid secretion patient poison c...\n",
       "1415    inactivation cb2 receptor accelerate neuropath...\n",
       "2661    corrigendum effect highdiet exercise intervent...\n",
       "Name: titleabstract, dtype: object"
      ]
     },
     "execution_count": 37,
     "metadata": {},
     "output_type": "execute_result"
    }
   ],
   "source": [
    "X_data[0]['titleabstract'].sample(10)"
   ]
  },
  {
   "cell_type": "code",
   "execution_count": 38,
   "id": "8c2fc8cc-5037-4f0c-9fa3-a2bd368b7171",
   "metadata": {},
   "outputs": [
    {
     "name": "stdout",
     "output_type": "stream",
     "text": [
      "(2903, 10000)\n",
      "(622, 10000)\n",
      "(623, 10000)\n",
      "TfidfVectorizer(max_features=10000)\n"
     ]
    }
   ],
   "source": [
    "X_train_tfidf, X_val_tfidf, X_test_tfidf, vectorizer = vectorize_data(X_data)\n",
    "\n",
    "print(X_train_tfidf.shape)\n",
    "print(X_val_tfidf.shape)\n",
    "print(X_test_tfidf.shape)\n",
    "print(vectorizer)"
   ]
  },
  {
   "cell_type": "markdown",
   "id": "e0855ea3-e20a-4081-bb02-5878726cb102",
   "metadata": {},
   "source": [
    "## Model Choice; Instatiate and Model Training; Validation Set Evaluation; Hyperparameter Tuning; Final Evaluation on Test Set."
   ]
  },
  {
   "cell_type": "markdown",
   "id": "40d37a2d-bff6-45bf-9a4a-75f6a596424b",
   "metadata": {},
   "source": [
    "#### Train the classifier with validation monitoring"
   ]
  },
  {
   "cell_type": "code",
   "execution_count": 39,
   "id": "d22fe70a-79d5-40ca-a088-c274889bbbc0",
   "metadata": {},
   "outputs": [],
   "source": [
    "#@title Train the classifier with validation monitoring\n",
    "# Import RandomForestClassifier\n",
    "from sklearn.ensemble import RandomForestClassifier\n",
    "from sklearn.metrics import roc_curve, auc\n",
    "from sklearn.metrics import accuracy_score, precision_score, recall_score, f1_score, confusion_matrix, classification_report\n",
    "import matplotlib.pyplot as plt\n",
    "import seaborn as sns\n",
    "import numpy as np\n",
    "\n",
    "\n",
    "def train_classifier(X_train_tfidf, y_train, X_val_tfidf, y_val):\n",
    "\n",
    "    # Initialize the Random Forest classifier\n",
    "    rf_classifier = RandomForestClassifier(n_estimators=100, random_state=42)\n",
    "    # Train the classifier\n",
    "    rf_classifier.fit(X_train_tfidf, y_train)\n",
    "\n",
    "    # Make predictions on the validation set\n",
    "    y_val_pred = rf_classifier.predict(X_val_tfidf)\n",
    "\n",
    "    # Calculate accuracy, precision, recall\n",
    "    val_accuracy = accuracy_score(y_val, y_val_pred)  # Calculate accuracy\n",
    "    precision = precision_score(y_val, y_val_pred)  # Calculate precision ** Adjust 'average' parameter for multi-class\n",
    "    recall = recall_score(y_val, y_val_pred)  # Calculate recall ** Adjust 'average' parameter for multi-class\n",
    "    f1 = f1_score(y_val, y_val_pred)  # Calculate F1 score ** Adjust 'average' parameter for multi-class\n",
    "\n",
    "    # Print the evaluation metrics\n",
    "    print(f'Validation Accuracy: {val_accuracy:.3f}')\n",
    "    print(f'Validation Precision: {precision:.3f}')\n",
    "    print(f'Validation Recall: {recall:.3f}')\n",
    "    print(f'Validation F1 Score: {f1:.3f}\\n')\n",
    "\n",
    "    # Print classification report\n",
    "    print('Classification Report:')\n",
    "    print(classification_report(y_val, y_val_pred))\n",
    "\n",
    "    # Confusion matrix\n",
    "    conf_matrix = confusion_matrix(y_val, y_val_pred)\n",
    "    print(\"Confusion Matrix:\")\n",
    "    print(conf_matrix)\n",
    "\n",
    "    # Plot the confusion matrix\n",
    "    plt.figure(figsize=(6, 4))\n",
    "\n",
    "    # Create a heatmap\n",
    "    sns.heatmap(conf_matrix, annot=True, fmt='d', cmap='Greens', cbar=False,\n",
    "                xticklabels=['Predicted Negative', 'Predicted Positive'],\n",
    "                yticklabels=['Actual Negative', 'Actual Positive'])\n",
    "\n",
    "    # Set labels and title\n",
    "    plt.xlabel('Predicted Labels')\n",
    "    plt.ylabel('True Labels')\n",
    "    plt.title('Confusion Matrix')\n",
    "\n",
    "    # Show the plot\n",
    "    plt.show()\n",
    "\n",
    "    # ROC curve\n",
    "    fpr, tpr, thresholds = roc_curve(y_val, y_val_pred)\n",
    "    roc_auc = auc(fpr, tpr)\n",
    "    print(f'ROC AUC: {roc_auc:.3f}')\n",
    "\n",
    "    # Plot the ROC curve\n",
    "    plt.figure()\n",
    "    plt.plot(fpr, tpr, color='darkorange', lw=2, label='ROC curve (area = %0.2f)' % roc_auc)\n",
    "    plt.plot([0, 1], [0, 1], color='navy', lw=2, linestyle='--')\n",
    "    plt.xlim([0.0, 1.0])\n",
    "    plt.ylim([0.0, 1.05])\n",
    "    plt.xlabel('False Positive Rate')\n",
    "    plt.ylabel('True Positive Rate')\n",
    "    plt.title('Receiver Operating Characteristic')\n",
    "    plt.legend(loc=\"lower right\")\n",
    "    plt.show()\n",
    "\n",
    "    # Return the trained classifier\n",
    "    return rf_classifier"
   ]
  },
  {
   "cell_type": "code",
   "execution_count": 40,
   "id": "fef2a5ea-4bcb-4de7-a254-c8df20ef4e97",
   "metadata": {},
   "outputs": [
    {
     "name": "stdout",
     "output_type": "stream",
     "text": [
      "Validation Accuracy: 0.966\n",
      "Validation Precision: 0.965\n",
      "Validation Recall: 0.968\n",
      "Validation F1 Score: 0.966\n",
      "\n",
      "Classification Report:\n",
      "              precision    recall  f1-score   support\n",
      "\n",
      "           0       0.97      0.96      0.97       311\n",
      "           1       0.96      0.97      0.97       311\n",
      "\n",
      "    accuracy                           0.97       622\n",
      "   macro avg       0.97      0.97      0.97       622\n",
      "weighted avg       0.97      0.97      0.97       622\n",
      "\n",
      "Confusion Matrix:\n",
      "[[300  11]\n",
      " [ 10 301]]\n"
     ]
    },
    {
     "data": {
      "image/png": "[encoded data removed]",
      "text/plain": [
       "<Figure size 600x400 with 1 Axes>"
      ]
     },
     "metadata": {},
     "output_type": "display_data"
    },
    {
     "name": "stdout",
     "output_type": "stream",
     "text": [
      "ROC AUC: 0.966\n"
     ]
    },
    {
     "data": {
      "image/png": "[encoded data removed]",
      "text/plain": [
       "<Figure size 640x480 with 1 Axes>"
      ]
     },
     "metadata": {},
     "output_type": "display_data"
    }
   ],
   "source": [
    "rf_classifier = train_classifier(X_train_tfidf, y_data[0], X_val_tfidf, y_data[1])"
   ]
  },
  {
   "cell_type": "markdown",
   "id": "79884929-4af2-41bb-95b9-aed68ff510a5",
   "metadata": {},
   "source": [
    "#### Evaluation on Test Set."
   ]
  },
  {
   "cell_type": "code",
   "execution_count": 87,
   "id": "a92e01a2-8d5c-4d01-87d7-fc121fea58f1",
   "metadata": {},
   "outputs": [],
   "source": [
    "#@title Evaluation on Test Set. { form-width: \"20%\" }\n",
    "# Libraries already installed and imported\n",
    "\n",
    "def final_evaluation(rf_classifier, X_test_tfidf, y_test):\n",
    "    # Make predictions on the test set\n",
    "    y_test_pred = rf_classifier.predict(X_test_tfidf)\n",
    "    y_pred_prob = rf_classifier.predict_proba(X_test_tfidf)\n",
    "\n",
    "     # Calculate accuracy, precision, recall\n",
    "    test_accuracy = accuracy_score(y_test, y_test_pred)  # Calculate accuracy\n",
    "    precision = precision_score(y_test, y_test_pred)\n",
    "    recall = recall_score(y_test, y_test_pred)  # Calculate recall ** Adjust 'average' parameter for multi-class\n",
    "    f1 = f1_score(y_test, y_test_pred)  # Calculate F1 score ** Adjust 'average' parameter for multi-class\n",
    "    entropy = log_loss(y_test, y_pred_prob)\n",
    "    print(f'Test Accuracy: {test_accuracy:.3f}')\n",
    "    print(f'Test Precision: {precision:.3f}')\n",
    "    print(f'Test Recall: {recall:.3f}')\n",
    "    print(f'Test F1 Score: {f1:.3f}')\n",
    "    print(f'Test Entropy: {entropy:.3f}\\n')\n",
    "\n",
    "    # Print classification report\n",
    "    print('Classification Report:')\n",
    "    print(classification_report(y_test, y_test_pred))\n",
    "    # Confusion matrix\n",
    "    conf_matrix = confusion_matrix(y_test, y_test_pred)\n",
    "    print(\"Confusion Matrix:\")\n",
    "    print(conf_matrix)\n",
    "\n",
    "    # Plot the confusion matrix\n",
    "    plt.figure(figsize=(6, 4))\n",
    "\n",
    "    # Create a heatmap\n",
    "    sns.heatmap(conf_matrix, annot=True, fmt='d', cmap='Reds', cbar=False,\n",
    "                xticklabels=['Predicted Negative', 'Predicted Positive'],\n",
    "                yticklabels=['Actual Negative', 'Actual Positive'])\n",
    "\n",
    "    # Set labels and title\n",
    "    plt.xlabel('Predicted Labels')\n",
    "    plt.ylabel('True Labels')\n",
    "    plt.title('Confusion Matrix')\n",
    "\n",
    "    # Show the plot\n",
    "    plt.show()\n",
    "\n",
    "    # ROC curve\n",
    "    fpr, tpr, thresholds = roc_curve(y_test, y_test_pred)\n",
    "    roc_auc = auc(fpr, tpr)\n",
    "    print(f'ROC AUC: {roc_auc:.3f}')\n",
    "\n",
    "    # Plot the ROC curve\n",
    "\n",
    "    plt.figure()\n",
    "    plt.plot(fpr, tpr, color='darkorange', lw=2, label='ROC curve (area = %0.2f)' % roc_auc)\n",
    "    plt.plot([0, 1], [0, 1], color='navy', lw=2, linestyle='--')\n",
    "    plt.xlim([0.0, 1.0])\n",
    "    plt.ylim([0.0, 1.05])\n",
    "    plt.xlabel('False Positive Rate')\n",
    "    plt.ylabel('True Positive Rate')\n",
    "    plt.title('Receiver Operating Characteristic')\n",
    "    plt.legend(loc=\"lower right\")\n",
    "    plt.show()\n",
    "\n",
    "    # return test_accuracy, precision, recall, f1\n",
    "    return {'accuracy': round(test_accuracy, 2), 'precision': round(precision, 2), 'recall': round(recall, 2), 'f1': round(f1, 2), 'entropy': round(entropy, 2)}\n",
    "    # return y_test_pred"
   ]
  },
  {
   "cell_type": "code",
   "execution_count": 88,
   "id": "34028fdc-e3f0-42c7-b6e2-925b373dbd11",
   "metadata": {},
   "outputs": [
    {
     "name": "stdout",
     "output_type": "stream",
     "text": [
      "Test Accuracy: 0.974\n",
      "Test Precision: 0.957\n",
      "Test Recall: 0.990\n",
      "Test F1 Score: 0.973\n",
      "Test Entropy: 0.299\n",
      "\n",
      "Classification Report:\n",
      "              precision    recall  f1-score   support\n",
      "\n",
      "           0       0.99      0.96      0.98       333\n",
      "           1       0.96      0.99      0.97       290\n",
      "\n",
      "    accuracy                           0.97       623\n",
      "   macro avg       0.97      0.98      0.97       623\n",
      "weighted avg       0.97      0.97      0.97       623\n",
      "\n",
      "Confusion Matrix:\n",
      "[[320  13]\n",
      " [  3 287]]\n"
     ]
    },
    {
     "data": {
      "image/png": "[encoded data removed]",
      "text/plain": [
       "<Figure size 600x400 with 1 Axes>"
      ]
     },
     "metadata": {},
     "output_type": "display_data"
    },
    {
     "name": "stdout",
     "output_type": "stream",
     "text": [
      "ROC AUC: 0.975\n"
     ]
    },
    {
     "data": {
      "image/png": "[encoded data removed]",
      "text/plain": [
       "<Figure size 640x480 with 1 Axes>"
      ]
     },
     "metadata": {},
     "output_type": "display_data"
    }
   ],
   "source": [
    "y_test_pred = final_evaluation(rf_classifier, X_test_tfidf, y_data[2])"
   ]
  },
  {
   "cell_type": "code",
   "execution_count": 89,
   "id": "88750750-e0bb-4926-b317-4c86af17a4b9",
   "metadata": {},
   "outputs": [
    {
     "data": {
      "text/plain": [
       "{'accuracy': 0.97,\n",
       " 'precision': 0.96,\n",
       " 'recall': 0.99,\n",
       " 'f1': 0.97,\n",
       " 'entropy': 0.3}"
      ]
     },
     "execution_count": 89,
     "metadata": {},
     "output_type": "execute_result"
    }
   ],
   "source": [
    "y_test_pred"
   ]
  },
  {
   "cell_type": "code",
   "execution_count": 74,
   "id": "5978a435-106e-44fe-bb8f-6f293c5bec3d",
   "metadata": {},
   "outputs": [],
   "source": [
    "def predict_prob_on_test_data(rf_classifier, X_test_tfidf, y_test):\n",
    "    # Check probabilities of the predictions on test_set\n",
    "    y_test_pred = rf_classifier.predict_proba(X_test_tfidf)\n",
    "\n",
    "    return y_test_pred"
   ]
  },
  {
   "cell_type": "code",
   "execution_count": 75,
   "id": "d2bc0c4e-9987-4120-ba64-367cfc6c5f2e",
   "metadata": {},
   "outputs": [],
   "source": [
    "y_pred_prob = predict_prob_on_test_data(rf_classifier, X_test_tfidf, y_data[2])"
   ]
  },
  {
   "cell_type": "code",
   "execution_count": 76,
   "id": "ced15854-7bd3-49ef-b363-990c14d8fe33",
   "metadata": {},
   "outputs": [
    {
     "data": {
      "text/plain": [
       "array([[0.82, 0.18],\n",
       "       [0.76, 0.24],\n",
       "       [0.14, 0.86],\n",
       "       ...,\n",
       "       [0.21, 0.79],\n",
       "       [0.81, 0.19],\n",
       "       [0.91, 0.09]])"
      ]
     },
     "execution_count": 76,
     "metadata": {},
     "output_type": "execute_result"
    }
   ],
   "source": [
    "y_pred_prob"
   ]
  },
  {
   "cell_type": "markdown",
   "id": "120ee195-0670-4574-a00d-768240c8dab9",
   "metadata": {},
   "source": [
    "## Save the model"
   ]
  },
  {
   "cell_type": "code",
   "execution_count": 66,
   "id": "b26afdf3-0601-446b-91bc-1648e1ca7bf4",
   "metadata": {},
   "outputs": [],
   "source": [
    "#@title Save the model\n",
    "import joblib\n",
    "\n",
    "def save_model(rf_classifier, vectorizer, results_folder):\n",
    "    model_path = os.path.join(results_folder, 'classifier_model.pkl')\n",
    "    vectorizer_path = os.path.join(results_folder, 'vectorizer.pkl')\n",
    "\n",
    "    # Save the model to a file\n",
    "    joblib.dump(rf_classifier, model_path)\n",
    "    joblib.dump(vectorizer, vectorizer_path)\n",
    "\n",
    "    print(f'Model saved to {model_path}')\n",
    "    print(f'Vectorizer saved to {vectorizer_path}')\n",
    "\n",
    "    # Load the model from the file\n",
    "    loaded_model = joblib.load(model_path)\n",
    "    loaded_vectorizer = joblib.load(vectorizer_path)\n",
    "    print(f'Loaded model: {loaded_model}')\n",
    "    print(f'Loaded vectorizer: {loaded_vectorizer}')\n",
    "    print(f'Loaded vectorizer: {vectorizer}')\n",
    "\n",
    "    # Use the loaded model for predictions\n",
    "    # predictions = loaded_model.predict(X_test_tfidf)\n",
    "    # print(predictions)\n",
    "\n",
    "    return model_path, vectorizer_path"
   ]
  },
  {
   "cell_type": "code",
   "execution_count": 67,
   "id": "fc5c7c5e-114f-4676-9183-eedecfbb8704",
   "metadata": {},
   "outputs": [
    {
     "name": "stdout",
     "output_type": "stream",
     "text": [
      "Model saved to RESULTS\\classifier_model.pkl\n",
      "Vectorizer saved to RESULTS\\vectorizer.pkl\n",
      "Loaded model: RandomForestClassifier(random_state=42)\n",
      "Loaded vectorizer: TfidfVectorizer(max_features=10000)\n",
      "Loaded vectorizer: TfidfVectorizer(max_features=10000)\n"
     ]
    },
    {
     "data": {
      "text/plain": [
       "('RESULTS\\\\classifier_model.pkl', 'RESULTS\\\\vectorizer.pkl')"
      ]
     },
     "execution_count": 67,
     "metadata": {},
     "output_type": "execute_result"
    }
   ],
   "source": [
    "save_model(rf_classifier, vectorizer, RESULTS_FOLDER)"
   ]
  },
  {
   "cell_type": "markdown",
   "id": "aa7ce17f-7b19-4fb2-9ddc-0b27703260d4",
   "metadata": {},
   "source": [
    "## Hyperparameter Tuning"
   ]
  },
  {
   "cell_type": "markdown",
   "id": "27d67842-59e0-4ad3-990a-41f9f7de416e",
   "metadata": {},
   "source": [
    "#### Random Forest Classifier Parameters Tuning."
   ]
  },
  {
   "cell_type": "code",
   "execution_count": 102,
   "id": "f8c24889-9c9a-4e8e-b13f-c070e8b9df8d",
   "metadata": {},
   "outputs": [],
   "source": [
    "#@title Random Forest Classifier Parameters Tuning. { form-width: \"20%\" }\n",
    "from sklearn.model_selection import GridSearchCV\n",
    "from sklearn.ensemble import RandomForestClassifier\n",
    "from sklearn.metrics import accuracy_score, precision_score, recall_score, f1_score, confusion_matrix, classification_report\n",
    "import matplotlib.pyplot as plt\n",
    "import seaborn as sns\n",
    "import numpy as np\n",
    "\n",
    "def hyperparameter_tuning(X_train_tfidf, y_train, X_val_tfidf, y_val):\n",
    "\n",
    "    # Specify hyperparameters and their ranges to tune:\n",
    "    param_grid = {\n",
    "        'n_estimators': [50, 100, 200],\n",
    "        'max_depth': [None, 10, 20, 30],\n",
    "        'min_samples_split': [2, 5, 10],\n",
    "        'min_samples_leaf': [1, 3, 4],\n",
    "        'max_features': ['sqrt', 'log2'],\n",
    "        'bootstrap':[True, False],\n",
    "        }\n",
    "\n",
    "    # Define the parameter grid to search\n",
    "    # Instantiate RandomForestClassifier within GridSearchCV\n",
    "    grid_search = GridSearchCV(estimator = RandomForestClassifier(random_state = 77),\n",
    "                               param_grid = param_grid,\n",
    "                               cv = 5,\n",
    "                               n_jobs = -1,\n",
    "                               verbose = 2,\n",
    "                               scoring='accuracy',\n",
    "                               return_train_score=True,\n",
    "                               refit=True,\n",
    "                               error_score='raise'\n",
    "                               )\n",
    "\n",
    "    # Fit the grid search to the data\n",
    "    grid_search.fit(X_train_tfidf, y_train)\n",
    "\n",
    "    # Print the best parameters and corresponding score\n",
    "    print(\"Best Parameters:\", grid_search.best_params_)\n",
    "    print(\"Best Score:\", grid_search.best_score_)\n",
    "\n",
    "    # Get the best model\n",
    "    best_model = grid_search.best_estimator_\n",
    "    best_params = grid_search.best_params_\n",
    "    print(\"Best Model:\", best_model)\n",
    "\n",
    "    # Train the final model (RFC) with the best hyperparameters\n",
    "    best_model = RandomForestClassifier(**best_params, random_state = 77)\n",
    "    best_model.fit(X_train_tfidf, y_train)\n",
    "\n",
    "    # Make predictions on the validation set\n",
    "    y_val_pred = best_model.predict(X_val_tfidf)\n",
    "\n",
    "    # Calculate accuracy, precision, recall\n",
    "    val_accuracy = accuracy_score(y_val, y_val_pred)  # Calculate accuracy\n",
    "    precision = precision_score(y_val, y_val_pred)  # Calculate precision\n",
    "    recall = recall_score(y_val, y_val_pred)  # Calculate recall\n",
    "    f1 = f1_score(y_val, y_val_pred)  # Calculate F1 score\n",
    "\n",
    "    # Print the evaluation metrics\n",
    "    print(f'Validation Accuracy with Best Parameters: {val_accuracy:.3f}')\n",
    "    print(f'Validation Precision: {precision:.3f}')\n",
    "    print(f'Validation Recall: {recall:.3f}')\n",
    "    print(f'Validation F1 Score: {f1:.3f}\\n')\n",
    "\n",
    "    # Print classification report\n",
    "    print('Classification Report:')\n",
    "    print(classification_report(y_val, y_val_pred))\n",
    "\n",
    "    # Confusion matrix\n",
    "    conf_matrix = confusion_matrix(y_val, y_val_pred)\n",
    "    print(\"Confusion Matrix:\")\n",
    "    print(conf_matrix)\n",
    "\n",
    "    return best_model"
   ]
  },
  {
   "cell_type": "code",
   "execution_count": 103,
   "id": "1ad66b82-2494-456a-9210-3e4365296784",
   "metadata": {},
   "outputs": [
    {
     "name": "stdout",
     "output_type": "stream",
     "text": [
      "Fitting 5 folds for each of 432 candidates, totalling 2160 fits\n",
      "Best Parameters: {'bootstrap': False, 'max_depth': None, 'max_features': 'sqrt', 'min_samples_leaf': 1, 'min_samples_split': 10, 'n_estimators': 200}\n",
      "Best Score: 0.9724458424832335\n",
      "Best Model: RandomForestClassifier(bootstrap=False, min_samples_split=10, n_estimators=200,\n",
      "                       random_state=77)\n",
      "Validation Accuracy with Best Parameters: 0.968\n",
      "Validation Precision: 0.968\n",
      "Validation Recall: 0.968\n",
      "Validation F1 Score: 0.968\n",
      "\n",
      "Classification Report:\n",
      "              precision    recall  f1-score   support\n",
      "\n",
      "           0       0.97      0.97      0.97       311\n",
      "           1       0.97      0.97      0.97       311\n",
      "\n",
      "    accuracy                           0.97       622\n",
      "   macro avg       0.97      0.97      0.97       622\n",
      "weighted avg       0.97      0.97      0.97       622\n",
      "\n",
      "Confusion Matrix:\n",
      "[[301  10]\n",
      " [ 10 301]]\n"
     ]
    }
   ],
   "source": [
    "# Evaluate the Final Model on the Test Set\n",
    "best_model = hyperparameter_tuning(X_train_tfidf, y_data[0], X_val_tfidf, y_data[1])"
   ]
  },
  {
   "cell_type": "markdown",
   "id": "5b50ea03-c305-4f12-a764-fc4ee4c6e69a",
   "metadata": {},
   "source": [
    "## Final Evaluation of hyperparameter tuned model on Test Set."
   ]
  },
  {
   "cell_type": "code",
   "execution_count": 106,
   "id": "b1bb0f16-345b-4f73-8768-f079ae5150d0",
   "metadata": {},
   "outputs": [],
   "source": [
    "#@title Final Evaluation of hyperparameter tuned model on Test Set. { form-width: \"20%\" }\n",
    "def evaluate_model_on_test_set(best_model, X_test_tfidf, y_test):\n",
    "    # Make predictions on the test set\n",
    "    y_test_pred = best_model.predict(X_test_tfidf)\n",
    "    y_pred_prob = best_model.predict_proba(X_test_tfidf) #model.predict_proba(X_test)\n",
    "     \n",
    "    # Calculate accuracy, precision, recall and F1 score\n",
    "    test_accuracy = accuracy_score(y_test, y_test_pred)  # Calculate accuracy\n",
    "    precision = precision_score(y_test, y_test_pred)  # Calculate precision\n",
    "    recall = recall_score(y_test, y_test_pred)  # Calculate\n",
    "    f1 = f1_score(y_test, y_test_pred)  # Calculate\n",
    "    entropy = log_loss(y_test, y_pred_prob)\n",
    "\n",
    "    # Print the evaluation metrics\n",
    "    print(f'Test Accuracy: {test_accuracy:.3f}')\n",
    "    print(f'Test Precision: {precision:.3f}')\n",
    "    print(f'Test Recall: {recall:.3f}')\n",
    "    print(f'Test F1 Score: {f1:.3f}\\n')\n",
    "\n",
    "    # Print classification report\n",
    "    print('Classification Report:')\n",
    "    print(classification_report(y_test, y_test_pred))\n",
    "\n",
    "    # Confusion matrix\n",
    "    conf_matrix = confusion_matrix(y_test, y_test_pred)\n",
    "    print(\"Confusion Matrix:\")\n",
    "    print(conf_matrix)\n",
    "\n",
    "    return {'accuracy': round(test_accuracy, 2), 'precision': round(precision, 2), 'recall': round(recall, 2), 'f1': round(f1, 2), 'entropy': round(entropy, 2)}"
   ]
  },
  {
   "cell_type": "code",
   "execution_count": 108,
   "id": "f9724587-4fdc-4329-9832-6bc9a98a4e8e",
   "metadata": {},
   "outputs": [
    {
     "name": "stdout",
     "output_type": "stream",
     "text": [
      "Test Accuracy: 0.978\n",
      "Test Precision: 0.969\n",
      "Test Recall: 0.983\n",
      "Test F1 Score: 0.976\n",
      "\n",
      "Classification Report:\n",
      "              precision    recall  f1-score   support\n",
      "\n",
      "           0       0.98      0.97      0.98       333\n",
      "           1       0.97      0.98      0.98       290\n",
      "\n",
      "    accuracy                           0.98       623\n",
      "   macro avg       0.98      0.98      0.98       623\n",
      "weighted avg       0.98      0.98      0.98       623\n",
      "\n",
      "Confusion Matrix:\n",
      "[[324   9]\n",
      " [  5 285]]\n"
     ]
    }
   ],
   "source": [
    "y_test_pred = evaluate_model_on_test_set(best_model, X_test_tfidf, y_data[2])"
   ]
  },
  {
   "cell_type": "markdown",
   "id": "d5e9a7bc-3e3a-4b6a-8519-c604008b5389",
   "metadata": {},
   "source": [
    "## MLFlow"
   ]
  },
  {
   "cell_type": "code",
   "execution_count": 90,
   "id": "800dac02-d7b1-46ab-9584-000110b07add",
   "metadata": {},
   "outputs": [
    {
     "name": "stdout",
     "output_type": "stream",
     "text": [
      "Test Accuracy: 0.974\n",
      "Test Precision: 0.957\n",
      "Test Recall: 0.990\n",
      "Test F1 Score: 0.973\n",
      "Test Entropy: 0.299\n",
      "\n",
      "Classification Report:\n",
      "              precision    recall  f1-score   support\n",
      "\n",
      "           0       0.99      0.96      0.98       333\n",
      "           1       0.96      0.99      0.97       290\n",
      "\n",
      "    accuracy                           0.97       623\n",
      "   macro avg       0.97      0.98      0.97       623\n",
      "weighted avg       0.97      0.97      0.97       623\n",
      "\n",
      "Confusion Matrix:\n",
      "[[320  13]\n",
      " [  3 287]]\n"
     ]
    },
    {
     "data": {
      "image/png": "[encoded data removed]",
      "text/plain": [
       "<Figure size 600x400 with 1 Axes>"
      ]
     },
     "metadata": {},
     "output_type": "display_data"
    },
    {
     "name": "stdout",
     "output_type": "stream",
     "text": [
      "ROC AUC: 0.975\n"
     ]
    },
    {
     "data": {
      "image/png": "[encoded data removed]",
      "text/plain": [
       "<Figure size 640x480 with 1 Axes>"
      ]
     },
     "metadata": {},
     "output_type": "display_data"
    },
    {
     "name": "stdout",
     "output_type": "stream",
     "text": [
      "{'accuracy': 0.97, 'precision': 0.96, 'recall': 0.99, 'f1': 0.97, 'entropy': 0.3}\n"
     ]
    }
   ],
   "source": [
    "experiment_name = \"basic_classifier\" #***basic classifier\n",
    "run_name=\"term_deposit\"\n",
    "y_test_pred = final_evaluation(rf_classifier, X_test_tfidf, y_data[2])\n",
    "print(y_test_pred)"
   ]
  },
  {
   "cell_type": "code",
   "execution_count": 115,
   "id": "7df50600-dd55-42b0-bacd-7cdd1c8d7ce3",
   "metadata": {},
   "outputs": [
    {
     "name": "stderr",
     "output_type": "stream",
     "text": [
      "2024/08/09 17:22:26 WARNING mlflow.models.model: Input example should be provided to infer model signature if the model signature is not provided when logging the model.\n"
     ]
    },
    {
     "name": "stdout",
     "output_type": "stream",
     "text": [
      "Run - Grid_Search_CV_Tuned_Model is logged to Experiment - optimized model\n"
     ]
    }
   ],
   "source": [
    "create_experiment(experiment_name, run_name, y_test_pred, rf_classifier, 'confusion_matrix.png', 'roc_auc_curve.png')"
   ]
  },
  {
   "cell_type": "markdown",
   "id": "3daa6eda-956a-401f-9ba2-e584911e2310",
   "metadata": {},
   "source": [
    "#### Create another experiment after hyperparameter tuning; log the best set of parameters for which model gives the optimal performance."
   ]
  },
  {
   "cell_type": "code",
   "execution_count": 113,
   "id": "7a5d12c2-6e07-4947-9766-4b97da2bfe46",
   "metadata": {},
   "outputs": [
    {
     "name": "stdout",
     "output_type": "stream",
     "text": [
      "Fitting 5 folds for each of 432 candidates, totalling 2160 fits\n"
     ]
    },
    {
     "name": "stderr",
     "output_type": "stream",
     "text": [
      "C:\\Users\\TFakorede\\AppData\\Local\\anaconda3\\envs\\mlflow_env\\lib\\site-packages\\numpy\\ma\\core.py:2820: RuntimeWarning: invalid value encountered in cast\n",
      "  _data = np.array(data, dtype=dtype, copy=copy,\n"
     ]
    },
    {
     "name": "stdout",
     "output_type": "stream",
     "text": [
      "Best Parameters: {'bootstrap': False, 'max_depth': None, 'max_features': 'sqrt', 'min_samples_leaf': 1, 'min_samples_split': 10, 'n_estimators': 200}\n",
      "Best Score: 0.9724458424832335\n",
      "Best Model: RandomForestClassifier(bootstrap=False, min_samples_split=10, n_estimators=200,\n",
      "                       random_state=77)\n",
      "Validation Accuracy with Best Parameters: 0.968\n",
      "Validation Precision: 0.968\n",
      "Validation Recall: 0.968\n",
      "Validation F1 Score: 0.968\n",
      "\n",
      "Classification Report:\n",
      "              precision    recall  f1-score   support\n",
      "\n",
      "           0       0.97      0.97      0.97       311\n",
      "           1       0.97      0.97      0.97       311\n",
      "\n",
      "    accuracy                           0.97       622\n",
      "   macro avg       0.97      0.97      0.97       622\n",
      "weighted avg       0.97      0.97      0.97       622\n",
      "\n",
      "Confusion Matrix:\n",
      "[[301  10]\n",
      " [ 10 301]]\n",
      "Test Accuracy: 0.978\n",
      "Test Precision: 0.969\n",
      "Test Recall: 0.983\n",
      "Test F1 Score: 0.976\n",
      "\n",
      "Classification Report:\n",
      "              precision    recall  f1-score   support\n",
      "\n",
      "           0       0.98      0.97      0.98       333\n",
      "           1       0.97      0.98      0.98       290\n",
      "\n",
      "    accuracy                           0.98       623\n",
      "   macro avg       0.98      0.98      0.98       623\n",
      "weighted avg       0.98      0.98      0.98       623\n",
      "\n",
      "Confusion Matrix:\n",
      "[[324   9]\n",
      " [  5 285]]\n"
     ]
    }
   ],
   "source": [
    "experiment_name = \"optimized model\"\n",
    "run_name=\"Grid_Search_CV_Tuned_Model\"\n",
    "best_model = hyperparameter_tuning(X_train_tfidf, y_data[0], X_val_tfidf, y_data[1])\n",
    "run_params = best_model.get_params()\n",
    "\n",
    "\n",
    "y_test_pred = evaluate_model_on_test_set(best_model, X_test_tfidf, y_data[2])"
   ]
  },
  {
   "cell_type": "markdown",
   "id": "57ac69ac-a065-41b7-a6b6-75210b624a07",
   "metadata": {},
   "source": [
    "#### Function to create an experiment in MLFlow, log parameters, metrics, artifacts and files like images..."
   ]
  },
  {
   "cell_type": "code",
   "execution_count": 114,
   "id": "817ee027-bc2f-42d7-9533-799363548226",
   "metadata": {},
   "outputs": [
    {
     "name": "stderr",
     "output_type": "stream",
     "text": [
      "C:\\Users\\TFakorede\\AppData\\Local\\anaconda3\\envs\\mlflow_env\\lib\\site-packages\\_distutils_hack\\__init__.py:17: UserWarning: Distutils was imported before Setuptools, but importing Setuptools also replaces the `distutils` module in `sys.modules`. This may lead to undesirable behaviors or errors. To avoid these issues, avoid using distutils directly, ensure that setuptools is installed in the traditional way (e.g. not an editable install), and/or make sure that setuptools is always imported before distutils.\n",
      "  warnings.warn(\n",
      "C:\\Users\\TFakorede\\AppData\\Local\\anaconda3\\envs\\mlflow_env\\lib\\site-packages\\_distutils_hack\\__init__.py:32: UserWarning: Setuptools is replacing distutils. Support for replacing an already imported distutils is deprecated. In the future, this condition will fail. Register concerns at https://github.com/pypa/setuptools/issues/new?template=distutils-deprecation.yml\n",
      "  warnings.warn(\n",
      "2024/08/09 17:21:42 WARNING mlflow.models.model: Input example should be provided to infer model signature if the model signature is not provided when logging the model.\n"
     ]
    },
    {
     "name": "stdout",
     "output_type": "stream",
     "text": [
      "Run - Grid_Search_CV_Tuned_Model is logged to Experiment - optimized model\n"
     ]
    }
   ],
   "source": [
    "create_experiment(experiment_name, run_name, y_test_pred, best_model, 'confusion_matrix.png', 'roc_auc_curve.png', run_params)"
   ]
  },
  {
   "cell_type": "code",
   "execution_count": 112,
   "id": "e026f3e2-8956-47e7-bbe5-fd74e8391109",
   "metadata": {},
   "outputs": [],
   "source": [
    "def create_experiment(experiment_name, run_name, y_test_pred, rf_classifier, confusion_matrix_path = None, \n",
    "                      roc_auc_plot_path = None, run_params=None):\n",
    "    import mlflow\n",
    "    #mlflow.set_tracking_uri(\"http://localhost:5000\") #uncomment this line if you want to use any database like sqlite as backend storage for model\n",
    "    mlflow.set_experiment(experiment_name)\n",
    "    \n",
    "    with mlflow.start_run():\n",
    "        \n",
    "        if not run_params == None:\n",
    "             # Assuming run_params is a dictionary, if it's a model, get its parameters\n",
    "            if isinstance(run_params, dict):\n",
    "                params_to_log = run_params\n",
    "            else:\n",
    "                params_to_log = run_params.get_params()\n",
    "            \n",
    "        for metric in y_test_pred:\n",
    "            mlflow.log_metric(metric, y_test_pred[metric])\n",
    "        \n",
    "        mlflow.sklearn.log_model(rf_classifier, \"model\")\n",
    "        \n",
    "        if not confusion_matrix_path == None:\n",
    "            mlflow.log_artifact(confusion_matrix_path, 'confusion_materix')\n",
    "            \n",
    "        if not roc_auc_plot_path == None:\n",
    "            mlflow.log_artifact(roc_auc_plot_path, \"roc_auc_plot\")\n",
    "        \n",
    "        mlflow.set_tag(\"tag1\", \"Random Forest\")\n",
    "        mlflow.set_tags({\"tag2\":\"Randomized Search CV\", \"tag3\":\"Production\"})\n",
    "            \n",
    "    print('Run - %s is logged to Experiment - %s' %(run_name, experiment_name))"
   ]
  },
  {
   "cell_type": "code",
   "execution_count": null,
   "id": "bcdd2bdf-9cec-4924-bcab-4b86cf313109",
   "metadata": {},
   "outputs": [],
   "source": []
  }
 ],
 "metadata": {
  "kernelspec": {
   "display_name": "mlfow_env",
   "language": "python",
   "name": "mlfow_env"
  },
  "language_info": {
   "codemirror_mode": {
    "name": "ipython",
    "version": 3
   },
   "file_extension": ".py",
   "mimetype": "text/x-python",
   "name": "python",
   "nbconvert_exporter": "python",
   "pygments_lexer": "ipython3",
   "version": "3.9.19"
  }
 },
 "nbformat": 4,
 "nbformat_minor": 5
}
