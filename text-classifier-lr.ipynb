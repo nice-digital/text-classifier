{
  "nbformat": 4,
  "nbformat_minor": 0,
  "metadata": {
    "colab": {
      "provenance": [],
      "gpuType": "T4",
      "include_colab_link": true
    },
    "kernelspec": {
      "name": "python3",
      "display_name": "Python 3"
    },
    "language_info": {
      "name": "python"
    },
    "accelerator": "GPU"
  },
  "cells": [
    {
      "cell_type": "markdown",
      "metadata": {
        "id": "view-in-github",
        "colab_type": "text"
      },
      "source": [
        "<a href=\"https://colab.research.google.com/github/nice-digital/text-classifier/blob/main/text-classifier-lr.ipynb\" target=\"_parent\"><img src=\"https://colab.research.google.com/assets/colab-badge.svg\" alt=\"Open In Colab\"/></a>"
      ]
    },
    {
      "cell_type": "markdown",
      "source": [
        "# **Text classifier Colab**\n",
        "\n",
        "This Colab notebook allows you to categorise a set of scientific papers into two categories. This is experimental code\n",
        "\n",
        "**Note**: Name your training file *training.csv*  and test file *testing.csv* (*title* column should be named 'Title' or 'title' and *abstract* column if present should be named 'Abstract' or 'abstract'), and upload it by pressing the upload button on the top left of the left sidebar. The results will appear in a folder named *RESULTS*. RESULTS folder will be automatically created by the code.\n"
      ],
      "metadata": {
        "id": "J3XQyHVQAmMV"
      }
    },
    {
      "cell_type": "code",
      "source": [
        "#@title Install Python packages { form-width: \"20%\" }\n",
        "\n",
        "#@markdown Please execute this cell by pressing the _Play_ button\n",
        "#@markdown on the left to download and import third-party software\n",
        "#@markdown in this Colab notebook.\n",
        "\n",
        "#@markdown This installs the software on the Colab\n",
        "#@markdown notebook in the cloud and not on your computer.\n",
        "from IPython.utils import io\n",
        "try:\n",
        "  with io.capture_output() as captured:\n",
        "    # %shell pip install scispacy\n",
        "    # %shell pip install https://s3-us-west-2.amazonaws.com/ai2-s2-scispacy/releases/v0.5.0/en_core_sci_md-0.5.0.tar.gz\n",
        "    # %shell pip install https://s3-us-west-2.amazonaws.com/ai2-s2-scispacy/releases/v0.5.1/en_ner_bc5cdr_md-0.5.1.tar.gz\n",
        "    # %shell pip install https://s3-us-west-2.amazonaws.com/ai2-s2-scispacy/releases/v0.5.1/en_ner_bionlp13cg_md-0.5.1.tar.gz\n",
        "    %shell pip install pyLDAvis==2.1.2\n",
        "    %shell pip install import-ipynb\n",
        "    %shell pip install pandas\n",
        "    %shell pip install shutup\n",
        "\n",
        "except subprocess.CalledProcessError:\n",
        "  print(captured)\n",
        "  raise\n",
        "import shutup\n",
        "shutup.please()\n",
        "\n",
        "import os\n",
        "import numpy as np\n",
        "import spacy\n",
        "# import scispacy\n",
        "import pandas as pd\n",
        "# from scispacy.abbreviation import AbbreviationDetector\n",
        "\n",
        "from pathlib import Path\n",
        "import collections\n",
        "import csv\n",
        "import multiprocessing as mp\n",
        "from multiprocessing import Pool\n",
        "\n",
        "from sklearn.metrics import f1_score\n",
        "from sklearn.metrics import accuracy_score\n",
        "from sklearn.metrics import precision_score\n",
        "from sklearn.metrics import recall_score\n",
        "from sklearn.metrics import f1_score\n",
        "from sklearn.metrics import roc_auc_score\n",
        "from sklearn.metrics import confusion_matrix\n",
        "from sklearn.metrics import ConfusionMatrixDisplay\n",
        "\n",
        "from sklearn.feature_extraction.text import TfidfVectorizer\n",
        "from sklearn.linear_model import LogisticRegression\n",
        "\n",
        "from sklearn.pipeline import Pipeline\n",
        "from sklearn.model_selection import train_test_split\n",
        "from sklearn.ensemble import RandomForestClassifier\n",
        "\n",
        "\n",
        "\n",
        "cpu_count = mp.cpu_count()\n",
        "\n",
        "pd. set_option('display.max_colwidth', None)"
      ],
      "metadata": {
        "id": "yNF5tewRA4Dn",
        "cellView": "form"
      },
      "execution_count": null,
      "outputs": []
    },
    {
      "cell_type": "code",
      "source": [
        "#@title Create train/test datasets from human/animal datasets { form-width: \"20%\" }\n",
        "animal = pd.read_csv('excludes_Animal_2200.csv')\n",
        "human = pd.read_csv('includes_human_2400.csv')\n",
        "\n",
        "#add target variable\n",
        "animal['target'] = 0\n",
        "human['target'] = 1\n",
        "\n",
        "print(animal.columns)\n",
        "print(human.columns)\n",
        "\n",
        "#combine & shuffle the datasets\n",
        "combined_data = pd.concat([animal, human], axis=0)\n",
        "shuffled_combined_df = combined_data.sample(frac=1).reset_index(drop=True)\n",
        "\n",
        "#create a 80-20 split from it\n",
        "training, testing = train_test_split(shuffled_combined_df, test_size=0.2, random_state=42)\n"
      ],
      "metadata": {
        "id": "E46oKVfi0KHs",
        "outputId": "b5db9533-813e-4b93-a90a-05760ece206d",
        "colab": {
          "base_uri": "https://localhost:8080/"
        },
        "cellView": "form"
      },
      "execution_count": null,
      "outputs": [
        {
          "output_type": "stream",
          "name": "stdout",
          "text": [
            "Index(['Title', 'Abstract', 'Primary Author', 'Journal', 'Year', 'Volume',\n",
            "       'Issue', 'Pages', 'Comments', 'Eppi ID', 'target'],\n",
            "      dtype='object')\n",
            "Index(['Title', 'Abstract', 'Primary Author', 'Journal', 'Year', 'Volume',\n",
            "       'Issue', 'Pages', 'Comments', 'Eppi ID', 'target'],\n",
            "      dtype='object')\n"
          ]
        }
      ]
    },
    {
      "cell_type": "code",
      "source": [
        "#@title File settings to get started  { form-width: \"20%\" }\n",
        "\n",
        "#@markdown Please ensure the training.csv and testing.csv are uploaded and execute this cell by pressing the _Play_ button\n",
        "#@markdown on the left\n",
        "\n",
        "#@markdown The training.csv and testing.csv files should have 'title', optional 'abstract' fields. Additionally the file should have a 'target' field\n",
        "#@markdown which indicates whether the title/abstract is an include (coded as 1) or exclude (coded as 0)\n",
        "TRAIN_PATH = 'training.csv'\n",
        "TEST_PATH = 'testing.csv'\n",
        "\n",
        "results_folder = 'RESULTS'\n",
        "RESULTS_FOLDER = results_folder     #***user input\n",
        "if not os.path.isdir(RESULTS_FOLDER):\n",
        "    os.makedirs(RESULTS_FOLDER)\n",
        "RESULTS_PATH = Path(RESULTS_FOLDER)"
      ],
      "metadata": {
        "id": "XDSMaZGDI-Ko",
        "cellView": "form"
      },
      "execution_count": null,
      "outputs": []
    },
    {
      "cell_type": "code",
      "source": [
        "#@title Read in input data as separate training.csv and testing.csv. **Ignore** this block if human/animal data was uploaded above { form-width: \"20%\" }\n",
        "try:\n",
        "    training = pd.read_csv(TRAIN_PATH)\n",
        "    orig_colnames = training.columns\n",
        "    print(orig_colnames)\n",
        "\n",
        "    testing = pd.read_csv(TEST_PATH)\n",
        "\n",
        "except Exception as e:\n",
        "    print(e)\n",
        "    raise"
      ],
      "metadata": {
        "cellView": "form",
        "id": "49646FC321sm"
      },
      "execution_count": null,
      "outputs": []
    },
    {
      "cell_type": "code",
      "source": [
        "#@title Read in input data { form-width: \"20%\" }\n",
        "rename_map = {'Title': 'title', 'Abstract': 'abstract'}\n",
        "training.rename(columns = rename_map, inplace = True)\n",
        "testing.rename(columns = rename_map, inplace = True)\n",
        "print(\"Number of studies in the training dataset: \" + str(training.shape[0]))\n",
        "print(\"Number of studies in the training dataset: \" + str(testing.shape[0]))\n",
        "\n",
        "#rename the columns so that the relevant column names are 'title' and 'abstract'\n",
        "\n",
        "try:\n",
        "  training['title_orig'] = training['title']\n",
        "  testing['title_orig'] = testing['title']\n",
        "except Exception as e:\n",
        "  print(e)\n",
        "  print(\"Error- No title detected! Title is needed!\")\n",
        "  raise\n",
        "\n",
        "# drop any duplicates based on 'title'\n",
        "training.drop_duplicates(subset=['title'], inplace=True)\n",
        "testing.drop_duplicates(subset=['title'], inplace=True)\n",
        "print(\"Number of studies in the training dataset after de-dupe: \" + str(training.shape[0]))\n",
        "print(\"Number of studies in the testing dataset after de-dupe: \" + str(testing.shape[0]))\n",
        "\n",
        "training['titleabstract'] = training['title'] + \" \" + training['abstract']\n",
        "training['titleabstract'] = training['titleabstract'].str.lower()\n",
        "\n",
        "testing['titleabstract'] = testing['title'] + \" \" + testing['abstract']\n",
        "testing['titleabstract'] = testing['titleabstract'].str.lower()"
      ],
      "metadata": {
        "id": "eR8-4xBMB7nQ",
        "outputId": "64f1e726-4d4d-47da-873b-c0ebb0a6b8d4",
        "colab": {
          "base_uri": "https://localhost:8080/"
        },
        "cellView": "form"
      },
      "execution_count": null,
      "outputs": [
        {
          "output_type": "stream",
          "name": "stdout",
          "text": [
            "Number of studies in the training dataset: 3693\n",
            "Number of studies in the training dataset: 925\n",
            "Number of studies in the training dataset after de-dupe: 3693\n",
            "Number of studies in the testing dataset after de-dupe: 925\n"
          ]
        }
      ]
    },
    {
      "cell_type": "code",
      "source": [
        "#@title Fit logistic regression model (in progress) { form-width: \"20%\" }\n",
        "\n",
        "#A sklearn pipeline comprising of tf-idf vectorizer (using tri-gram) and logistic regression model. The parameters for logistic regression\n",
        "#are taken from prior hyper-parameter tuning.\n",
        "text_clf = Pipeline([\n",
        "                ('tfidfvect', TfidfVectorizer(ngram_range = (3,3), stop_words = 'english')),\n",
        "                ('clf', LogisticRegression(C=100, max_iter = 5000, solver = 'liblinear', penalty = 'l2', class_weight = 'balanced')),\n",
        "               ])\n",
        "y_train = training['target']\n",
        "model = text_clf.fit(training['titleabstract'].astype(str),y_train)\n",
        "\n"
      ],
      "metadata": {
        "id": "0ivxu5aJBbR5",
        "cellView": "form"
      },
      "execution_count": null,
      "outputs": []
    },
    {
      "cell_type": "code",
      "source": [
        "#@title Predict category and evaluate performance (in progress) { form-width: \"20%\" }\n",
        "\n",
        "#Using the model that was fit to the training data above, evaluate the model's performance on test data.\n",
        "data = testing['titleabstract'].astype(str)\n",
        "y_test = testing['target']\n",
        "yhat = model.predict(data)\n",
        "yhat_probs = model.predict_proba(data)[:,1]\n",
        "yhat_adjusted = np.zeros(data.shape[0], dtype=int)\n",
        "THRESHOLD = 0.4\n",
        "yhat_adjusted[yhat_probs >= THRESHOLD] = 1\n",
        "\n",
        "report_dict = {}\n",
        "decimal_places = 3\n",
        "report_dict['Accuracy'] = accuracy_score(y_test, yhat_adjusted).round(decimal_places)\n",
        "report_dict['Precision'] = precision_score(y_test,yhat_adjusted).round(decimal_places)\n",
        "report_dict['Recall'] = recall_score(y_test, yhat_adjusted, average = 'binary').round(decimal_places)\n",
        "report_dict['F1-Score'] = f1_score(y_test, yhat_adjusted).round(decimal_places)\n",
        "report_dict['ROC_AUC'] = roc_auc_score(y_test, yhat_adjusted).round(decimal_places)\n",
        "cm = confusion_matrix(y_test, yhat_adjusted)\n",
        "FP = cm[0][1]\n",
        "TN = cm[0][0]\n",
        "FN = cm[1][0]\n",
        "TP = cm[1][1]\n",
        "specificity = (TN / (TN+FP)).round(decimal_places)\n",
        "FPR = (FP/(FP+TN)).round(decimal_places)\n",
        "FNR = (FN/(FN+TP)).round(decimal_places)\n",
        "report_dict['FPR'] = FPR\n",
        "report_dict['FNR'] = FNR\n",
        "report_dict['Specificity'] = specificity\n",
        "\n",
        "print('Classification report:\\n{}'.format(report_dict))\n"
      ],
      "metadata": {
        "id": "hdVqVB-BIfVk",
        "cellView": "form",
        "outputId": "d95029f8-6350-42e4-b0e9-f9314314d106",
        "colab": {
          "base_uri": "https://localhost:8080/"
        }
      },
      "execution_count": null,
      "outputs": [
        {
          "output_type": "stream",
          "name": "stdout",
          "text": [
            "Classification report:\n",
            "{'Accuracy': 0.826, 'Precision': 0.764, 'Recall': 0.974, 'F1-Score': 0.856, 'ROC_AUC': 0.816, 'FPR': 0.343, 'FNR': 0.026, 'Specificity': 0.657}\n"
          ]
        }
      ]
    },
    {
      "cell_type": "markdown",
      "source": [
        "##Data Preprocessing\n"
      ],
      "metadata": {
        "id": "RFhHJYnhafa8"
      }
    },
    {
      "cell_type": "code",
      "source": [
        "animal = pd.read_csv('excludes_Animal_2200.csv')\n",
        "human = pd.read_csv('includes_human_2400.csv')\n",
        "\n",
        "#animal.head(), human.head()"
      ],
      "metadata": {
        "id": "DsMgFP-AmvTd"
      },
      "execution_count": null,
      "outputs": []
    },
    {
      "cell_type": "code",
      "source": [
        "# prompt: shape of the df\n",
        "(animal.shape), (human.shape)"
      ],
      "metadata": {
        "id": "1E7FaSbdbWYq",
        "outputId": "ad81e49a-72f2-4ceb-ca63-dd2ec754280d",
        "colab": {
          "base_uri": "https://localhost:8080/"
        }
      },
      "execution_count": null,
      "outputs": [
        {
          "output_type": "execute_result",
          "data": {
            "text/plain": [
              "((2212, 10), (2411, 10))"
            ]
          },
          "metadata": {},
          "execution_count": 61
        }
      ]
    },
    {
      "cell_type": "code",
      "source": [
        "#add target variable\n",
        "animal['target'] = 0\n",
        "human['target'] = 1"
      ],
      "metadata": {
        "id": "3VNfccMugnOz"
      },
      "execution_count": null,
      "outputs": []
    },
    {
      "cell_type": "code",
      "source": [
        "# animal.head()"
      ],
      "metadata": {
        "id": "M6ne7VOxnm02"
      },
      "execution_count": null,
      "outputs": []
    },
    {
      "cell_type": "code",
      "source": [
        "# human.head()"
      ],
      "metadata": {
        "id": "757WbVrjp3z5"
      },
      "execution_count": null,
      "outputs": []
    },
    {
      "cell_type": "code",
      "source": [
        "animal.isna().sum(), human.isna().sum()\n"
      ],
      "metadata": {
        "id": "TV4NGOzZubv1",
        "outputId": "9373697c-42a1-4c82-9d27-c8a31599a3b6",
        "colab": {
          "base_uri": "https://localhost:8080/"
        }
      },
      "execution_count": null,
      "outputs": [
        {
          "output_type": "execute_result",
          "data": {
            "text/plain": [
              "(Title                0\n",
              " Abstract            61\n",
              " Primary Author       4\n",
              " Journal              0\n",
              " Year                 0\n",
              " Volume              30\n",
              " Issue              687\n",
              " Pages              190\n",
              " Comments          2212\n",
              " Eppi ID              0\n",
              " target               0\n",
              " dtype: int64,\n",
              " Title                0\n",
              " Abstract           410\n",
              " Primary Author       0\n",
              " Journal              0\n",
              " Year                 2\n",
              " Volume              25\n",
              " Issue              113\n",
              " Pages                6\n",
              " Comments          2411\n",
              " Eppi ID              0\n",
              " target               0\n",
              " dtype: int64)"
            ]
          },
          "metadata": {},
          "execution_count": 66
        }
      ]
    },
    {
      "cell_type": "code",
      "source": [
        "animal.columns, human.columns"
      ],
      "metadata": {
        "id": "OStO2DSGsxcs",
        "outputId": "2861153e-92f8-403d-a93a-81359294f79e",
        "colab": {
          "base_uri": "https://localhost:8080/"
        }
      },
      "execution_count": null,
      "outputs": [
        {
          "output_type": "execute_result",
          "data": {
            "text/plain": [
              "(Index(['Title', 'Abstract', 'Primary Author', 'Journal', 'Year', 'Volume',\n",
              "        'Issue', 'Pages', 'Comments', 'Eppi ID', 'target'],\n",
              "       dtype='object'),\n",
              " Index(['Title', 'Abstract', 'Primary Author', 'Journal', 'Year', 'Volume',\n",
              "        'Issue', 'Pages', 'Comments', 'Eppi ID', 'target'],\n",
              "       dtype='object'))"
            ]
          },
          "metadata": {},
          "execution_count": 67
        }
      ]
    },
    {
      "cell_type": "markdown",
      "source": [
        "Deleting unwanted columns"
      ],
      "metadata": {
        "id": "Q5nE3WZNrwjB"
      }
    },
    {
      "cell_type": "code",
      "source": [
        "human.drop(columns=['Primary Author', 'Journal', 'Year', 'Volume',\n",
        "       'Issue', 'Pages', 'Comments', 'Eppi ID', 'target'], inplace=True)"
      ],
      "metadata": {
        "id": "6OtJxwrGrr6H"
      },
      "execution_count": null,
      "outputs": []
    },
    {
      "cell_type": "code",
      "source": [
        "animal.drop(columns=['Primary Author', 'Journal', 'Year', 'Volume',\n",
        "       'Issue', 'Pages', 'Comments', 'Eppi ID', 'target'], inplace=True)"
      ],
      "metadata": {
        "id": "ovNo2hZG1MwQ"
      },
      "execution_count": null,
      "outputs": []
    },
    {
      "cell_type": "code",
      "source": [
        "animal.columns.shape"
      ],
      "metadata": {
        "id": "sXPwqbYshHo_",
        "outputId": "6bbce5f7-02bb-4988-a27c-8a7edaf1f58c",
        "colab": {
          "base_uri": "https://localhost:8080/"
        }
      },
      "execution_count": null,
      "outputs": [
        {
          "output_type": "execute_result",
          "data": {
            "text/plain": [
              "(2,)"
            ]
          },
          "metadata": {},
          "execution_count": 70
        }
      ]
    },
    {
      "cell_type": "code",
      "source": [
        "human.columns"
      ],
      "metadata": {
        "id": "pgti6WkU2MvO",
        "outputId": "500a3659-6ea1-4742-e080-95ed50c3f2ef",
        "colab": {
          "base_uri": "https://localhost:8080/"
        }
      },
      "execution_count": null,
      "outputs": [
        {
          "output_type": "execute_result",
          "data": {
            "text/plain": [
              "Index(['Title', 'Abstract'], dtype='object')"
            ]
          },
          "metadata": {},
          "execution_count": 71
        }
      ]
    },
    {
      "cell_type": "code",
      "source": [
        "animal.isna().sum()"
      ],
      "metadata": {
        "id": "xDExyZLg3idi",
        "outputId": "de2261b1-e5d9-459d-acf4-a3f0279d16ae",
        "colab": {
          "base_uri": "https://localhost:8080/"
        }
      },
      "execution_count": null,
      "outputs": [
        {
          "output_type": "execute_result",
          "data": {
            "text/plain": [
              "Title        0\n",
              "Abstract    61\n",
              "dtype: int64"
            ]
          },
          "metadata": {},
          "execution_count": 72
        }
      ]
    },
    {
      "cell_type": "code",
      "source": [
        "human.isnull().sum()"
      ],
      "metadata": {
        "id": "XVfUEI2q3pIR",
        "outputId": "1014f551-f81d-4472-c440-75db686a6d04",
        "colab": {
          "base_uri": "https://localhost:8080/"
        }
      },
      "execution_count": null,
      "outputs": [
        {
          "output_type": "execute_result",
          "data": {
            "text/plain": [
              "Title         0\n",
              "Abstract    410\n",
              "dtype: int64"
            ]
          },
          "metadata": {},
          "execution_count": 73
        }
      ]
    },
    {
      "cell_type": "code",
      "source": [
        "# animal.sample(3)"
      ],
      "metadata": {
        "id": "5jvEogi-6g1Y"
      },
      "execution_count": null,
      "outputs": []
    },
    {
      "cell_type": "code",
      "source": [
        "animal.dropna(inplace=True)\n",
        "animal.isna().sum()"
      ],
      "metadata": {
        "id": "-lXJYwTFOvym",
        "outputId": "6859171e-f574-4b75-a056-2cb82e380bc1",
        "colab": {
          "base_uri": "https://localhost:8080/"
        }
      },
      "execution_count": null,
      "outputs": [
        {
          "output_type": "execute_result",
          "data": {
            "text/plain": [
              "Title       0\n",
              "Abstract    0\n",
              "dtype: int64"
            ]
          },
          "metadata": {},
          "execution_count": 75
        }
      ]
    },
    {
      "cell_type": "code",
      "source": [
        "human.dropna(inplace=True)\n",
        "human.isna().sum()"
      ],
      "metadata": {
        "id": "Lgx3aXUAO8na",
        "outputId": "199cb0a8-f6ce-45ff-b82a-85be9ad18a7a",
        "colab": {
          "base_uri": "https://localhost:8080/"
        }
      },
      "execution_count": null,
      "outputs": [
        {
          "output_type": "execute_result",
          "data": {
            "text/plain": [
              "Title       0\n",
              "Abstract    0\n",
              "dtype: int64"
            ]
          },
          "metadata": {},
          "execution_count": 76
        }
      ]
    },
    {
      "cell_type": "code",
      "source": [
        "animal['label'] = 0\n",
        "human['label'] = 1"
      ],
      "metadata": {
        "id": "_tpn0EVmQ9Un"
      },
      "execution_count": null,
      "outputs": []
    },
    {
      "cell_type": "code",
      "source": [
        "#Pretty balanced\n",
        "animal.shape, human.shape"
      ],
      "metadata": {
        "id": "N6vptBYTQ9Gf",
        "outputId": "e525f7da-f660-4b10-b81b-20b6ca18a3ca",
        "colab": {
          "base_uri": "https://localhost:8080/"
        }
      },
      "execution_count": null,
      "outputs": [
        {
          "output_type": "execute_result",
          "data": {
            "text/plain": [
              "((2151, 3), (2001, 3))"
            ]
          },
          "metadata": {},
          "execution_count": 78
        }
      ]
    },
    {
      "cell_type": "code",
      "source": [
        "#combine & shuffle the datasets\n",
        "combined_df = pd.concat([animal, human], axis=0)\n",
        "shuffled_combined_df = combined_df.sample(frac=1).reset_index(drop=True)\n",
        "\n",
        "print(shuffled_combined_df.shape)\n",
        "# shuffled_combined_df.head()"
      ],
      "metadata": {
        "id": "V5-0uIFhBzdN",
        "outputId": "c960c2db-d0e7-4125-b145-2f104f1acd16",
        "colab": {
          "base_uri": "https://localhost:8080/"
        }
      },
      "execution_count": null,
      "outputs": [
        {
          "output_type": "stream",
          "name": "stdout",
          "text": [
            "(4152, 3)\n"
          ]
        }
      ]
    },
    {
      "cell_type": "markdown",
      "source": [
        "**Read in input data**"
      ],
      "metadata": {
        "id": "wP10ZvEZeDIq"
      }
    },
    {
      "cell_type": "code",
      "source": [
        "# rename the columns so that the relevant column names are 'title' and 'abstract'\n",
        "rename_map = {'Title': 'title', 'Abstract': 'abstract'}\n",
        "shuffled_combined_df.rename(columns = rename_map, inplace = True)\n",
        "print(\"Number of studies in the training dataset: \" + str(shuffled_combined_df.shape[0]))\n",
        "\n",
        "\n",
        "try:\n",
        "  shuffled_combined_df['title_orig'] = shuffled_combined_df['title']\n",
        "except Exception as e:\n",
        "  print(e)\n",
        "  print(\"Error- No title detected! Title is needed!\")\n",
        "  raise\n",
        "\n",
        "\n",
        "# drop any duplicates based on 'title'\n",
        "shuffled_combined_df.drop_duplicates(subset=['title'], inplace=True)\n",
        "print(\"Number of studies in the training dataset after de-dupe: \" + str(shuffled_combined_df.shape[0]))\n",
        "\n",
        "shuffled_combined_df['titleabstract'] = shuffled_combined_df['title'] + \" \" + shuffled_combined_df['abstract']\n",
        "shuffled_combined_df['titleabstract'] = shuffled_combined_df['titleabstract'].str.lower()\n",
        "\n",
        "\n",
        "#sanity check\n",
        "shuffled_combined_df.columns"
      ],
      "metadata": {
        "id": "vDuZ3TtBXauG",
        "outputId": "562787f3-bcf6-4b4d-a74b-9d9d69c49632",
        "colab": {
          "base_uri": "https://localhost:8080/"
        }
      },
      "execution_count": null,
      "outputs": [
        {
          "output_type": "stream",
          "name": "stdout",
          "text": [
            "Number of studies in the training dataset: 4152\n",
            "Number of studies in the training dataset after de-dupe: 4148\n"
          ]
        },
        {
          "output_type": "execute_result",
          "data": {
            "text/plain": [
              "Index(['title', 'abstract', 'label', 'title_orig', 'titleabstract'], dtype='object')"
            ]
          },
          "metadata": {},
          "execution_count": 80
        }
      ]
    },
    {
      "cell_type": "markdown",
      "source": [
        "**Text Preprocessing**"
      ],
      "metadata": {
        "id": "N_ZAynrKSkLL"
      }
    },
    {
      "cell_type": "code",
      "source": [
        "# Load English tokenizer, tagger, parser and NER\n",
        "nlp = spacy.load(\"en_core_web_sm\")"
      ],
      "metadata": {
        "id": "OmI9YKOniDR-"
      },
      "execution_count": null,
      "outputs": []
    },
    {
      "cell_type": "code",
      "source": [
        "#lemmatization\n",
        "def lemmatization(titleabstract):\n",
        "    doc = nlp(titleabstract)\n",
        "    lemmalist = [word.lemma_ for word in doc]\n",
        "    return \" \".join(lemmalist)"
      ],
      "metadata": {
        "id": "KahJoKFXk8cY"
      },
      "execution_count": null,
      "outputs": []
    },
    {
      "cell_type": "code",
      "source": [
        "shuffled_combined_df['lemma'] = shuffled_combined_df['titleabstract'].apply(lemmatization)"
      ],
      "metadata": {
        "id": "R6hWMkym-xZy"
      },
      "execution_count": null,
      "outputs": []
    },
    {
      "cell_type": "code",
      "source": [
        "# shuffled_combined_df.head()"
      ],
      "metadata": {
        "id": "hTSMg7IaVFWZ"
      },
      "execution_count": null,
      "outputs": []
    },
    {
      "cell_type": "code",
      "source": [
        "def remove_stopwords(titleabstract):\n",
        "    doc = nlp(titleabstract)\n",
        "    no_stopwords = [word.text for word in doc if not word.is_stop]\n",
        "    return \" \".join(no_stopwords)"
      ],
      "metadata": {
        "id": "lPHaYMEteyGr"
      },
      "execution_count": null,
      "outputs": []
    },
    {
      "cell_type": "code",
      "source": [
        "shuffled_combined_df['stopwords'] = shuffled_combined_df['lemma'].apply(remove_stopwords)"
      ],
      "metadata": {
        "id": "r51ybR2ZfDrw"
      },
      "execution_count": null,
      "outputs": []
    },
    {
      "cell_type": "code",
      "source": [
        "# shuffled_combined_df.head()"
      ],
      "metadata": {
        "id": "aB4uAM6dx5pX",
        "outputId": "4372aa83-55ce-4c02-f24d-0063fc0112ee",
        "colab": {
          "base_uri": "https://localhost:8080/",
          "height": 1000
        }
      },
      "execution_count": null,
      "outputs": [
        {
          "output_type": "execute_result",
          "data": {
            "text/plain": [
              "                                                                                                                                                                            title  \\\n",
              "0                                        [Prognostic value of N-terminal pro-BNP-type natriuretic peptide in patients with stable coronary heart disease--secondary publication].   \n",
              "1                                             The Masquelet Technique: Can Disposable Polypropylene Syringes be an Alternative to Standard PMMA Spacers? A Rat Bone Defect Model.   \n",
              "2  Amelioration of Hypertension by Oryeongsan through Improvements of Body Fluid and Sodium Balance: Roles of the Renin-Angiotensin System and Atrial Natriuretic Peptide System.   \n",
              "3                         The effect of sodium profiling and feedback technologies on plasma conductivity and ionic mass balance: a study in hypotension-prone dialysis patients.   \n",
              "4                                                                      Differential effects of inhibitors of PTZ-induced kindling on glutamate transporters and enzyme expression   \n",
              "\n",
              "                                                                                                                                                                                                                                                                                                                                                                                                                                                                                                                                                                                                                                                                                                                                                                                                                                                                                                                                                                                                                                                                                                                                                                                                                                                                                                                                                                                                                                                                                                                                                                                                                                                                                                                                                                                                                                                                                                                                                                                                                                                                                                                                                                                                                                                                                                                                                                                                                                                                                                                                                                                                                                                                                                                                                                                                                                                                                                                                                                                                                                                                                                                                                                                                                                                                                                                                                                                                                                                                                                                                                                                                                                                                                                                                                                                                                                                                                                                                                                                                                                                                                                                                                                                                                                                                                                                                                                                                                                                                                                                                                                                                                                                                                                                                                                                                                                 abstract  \\\n",
              "0                                                                                                                                                                                                                                                                                                                                                                                                                                                                                                                                                                                                                                                                                                                                                                                                                                                                                                                                                                                                                                                                                                                                                                                                                                                                                                                                                                                                                                                                                                                                                                                                                                                                                                                                                                                                                                                                                                                                                                                                                                                                                                                                                                                                                                                                                                                                                                                                                                                                                                                                                                                                                                                                                                                                                                                                                                                                                                                                                                                                                                                                                                                                                                                                                                                                                                                                                                                                                                                                                                                                                                                                                                                                                                                                                                                                                                                                                                                                                                                                                                                                                                                                                                                                                                    We assessed the relationship between NT-proBNP levels and all-cause mortality in patients with stable coronary heart disease. NT-proBNP was measured in 1,034 patients referred for elective coronary angiography. In a multivariable Cox regression analysis, the hazard ratio for death from any cause for patients with NT-proBNP levels in the fourth quartile as compared with those in the first quartile was 2.4 (95% CI 1.5-4.0). NT-proBNP provides prognostic information on all-cause mortality independent of conventional cardiovascular risk factors and left ventricular dysfunction.   \n",
              "1  Background: Usually, the two-stage Masquelet induced-membrane technique for extremity reconstruction begins with a polymethylmethacrylate (PMMA) cement spacer-driven membrane, followed by an autologous cancellous bone graft implanted into the membrane cavity to promote healing of large bone defects. In exceptional cases, spacers made of polypropylene disposable syringes were successfully used instead of the usual PMMA spacers because of a PMMA cement shortage caused by a lack of resources. However, this approach lacks clinical evidence and requires experimental validation before being recommended as an alternative to the conventional technique.Questions/purposes: To (1) develop and (2) validate a critical-sized femoral defect model in rats for two stages of the Masquelet technique and to (3) compare the biological and bone healing properties of polypropylene-induced membranes and PMMA-induced membranes in this model.Methods: Fifty male Sprague Dawley rats aged 8 weeks old received a 6-mm femur defect, which was stabilized with an external fixator that was converted into an internal device. In the development phase, the defect was filled with PMMA in 16 rats to determine the most favorable timing for bone grafting. Two rats were excluded since they died of anesthetic complications. The other 14 were successively euthanized after 2 weeks (n = 3), 4 weeks (n = 4), 6 weeks (n = 4), and 8 weeks (n = 3) for induced membrane analyses. In the validation phase, 12 rats underwent both stages of the procedure using a PMMA spacer and were randomly assigned to two groups, whether the induced membrane was preserved or removed before grafting. To address our final objective, we implanted either polypropylene or PMMA spacers into the defect (Masquelet technique Stage 1; n = 11 rats per group) for the period established by the development phase. In each group, 6 of 11 rats were euthanized to compare the biological properties of polypropylene-induced membranes and PMMA-induced membranes using histological qualitative analysis, semiquantitative assessment of the bone morphogenic protein-2 content by immunostaining, and qualitative assessment of the mesenchymal stromal cell (MSC; CD31-, CD45-, CD90+, and CD73+ phenotypes) content by flow cytometry. Quantitative measurements from serum bone turnover markers were also performed. The five remaining rats of each group were used for Masquelet technique Stage 2, in which rat bone allografts were implanted in the induced membrane cavity after the polypropylene or PMMA spacers were removed. These rats recovered for 10 weeks before being euthanized for microCT quantitative measurements and bone histology qualitative assessment to evaluate and compare the extent of bone regeneration between groups.Results: Induced membrane analyses together with serum bone turnover measurements indicated that a 4-week interval time between stages was the most favorable. Removal of the induced membrane before grafting led to almost constant early implant failures with poor bone formation. Four-week-old rats with polypropylene-triggered induced membranes displayed similar histologic organization as rats with PMMA-driven induced membranes, without any difference in the cell density of the extracellular matrix (4933 ? 916 cells per mm2 for polypropylene versus 4923 ? 1284 cells per mm2 for PMMA; p = 0.98). Induced membrane-derived MSCs were found in both groups with no difference (4 of 5 with polypropylene versus 3 of 3 with PMMA; p > 0.99). Induced membrane bone morphogenic protein-2 immunolabeling and serum bone turnover marker levels were comparable between the polypropylene and PMMA groups. MicroCT analysis found that bone regeneration in the polypropylene group seemed comparable with that in the PMMA group (29 ? 26 mm3 for polypropylene versus 24 ? 18 mm3 for PMMA; p > 0.99). Finally, qualitative histological assessment revealed a satisfactory endochondral ossification maturation in both groups.Conclusion: Using a critical-sized femoral defect model in rats, we demonstrated that polypropylene spacers could induce membrane encapsulation with histologic characteristics and bone regenerative capacities that seem like those of PMMA spacers.Clinical Relevance: In a same bone site, polymers with close physical properties seem to lead to similar foreign body reactions and induce encapsulating membranes with comparable bone healing properties. Polypropylene spacers made from disposable syringes could be a valuable alternative to PMMA. These results support the possibility of a cementless Masquelet technique in cases of PMMA shortage caused by a lack of resources.   \n",
              "2                                                                                                                                                                                                                                                                                                                                                                                                                                                                                                                                                                                                                                                                                                                                                                                                                                                                                                                                                                                                                                                                                                                                                                                                                                                                                                                                                                                                                                                                                                                                                                                                                                                                                                                                                                                                                                                                                                                                                                                                                                                                                                                                                                                                                                                                                                                                                                                                                                                                                                                                                                   Oryeongsan (Wulingsan in China and Goreisan in Japan), a formula composed of five herbal medicines, has long been used for the treatment of imbalance of the body fluid homeostasis in Asian countries. However, the mechanism by which Oryeongsan (ORS) improves the impaired body fluid and salt metabolism is not clearly defined. The present study was performed to define the role of the cardiorenal humoral system in the ORS-induced changes in blood pressure and renal function in hypertension. Experiments were performed in normotensive and two-kidney, one-clip hypertensive rats. Changes in the fluid and salt balance were measured in rats individually housed in metabolic cages. Changes in the systemic and local renin-angiotensin system (RAS) and cardiac natriuretic peptide hormone system (NPS) were evaluated. ORS water extract was administered by oral gavage (100 mg/kg daily) for 3 weeks. ORS induced diuresis and natriuresis along with an increase in glomerular filtration rate and downregulation of the Na+/H+ exchanger 3 (NHE3) and aquaporin 2 expression in the renal cortex and medulla, respectively. Furthermore, treatment with ORS significantly decreased systolic blood pressure with contraction of body sodium and water accumulation in hypertensive rats. ORS-induced changes were accompanied by modulation of the RAS and NPS, downregulation of the systemic RAS and cardiorenal expression of angiotensin-converting enzyme (ACE) and angiotensin II subtype 1 (AT1) receptor, and upregulation of the plasma ANP concentration and cardiorenal expression of ANP, ACE2, Mas receptor, and AT2 receptor. These findings indicate that ORS induces beneficial effects on the high blood pressure through modulation of the RAS and NPS of the cardiorenal system, suppression of the prohypertensive ACE-AT1 receptor pathway and NHE3, accentuation of the antihypertensive ACE2-Mas axis/AT2 receptor pathway in the kidney, suppression of the systemic RAS, and elevation of the plasma ANP levels and its synthesis in the heart. The present study provides a biological basis for the use of ORS in the treatment of impaired volume and pressure homeostasis. Copyright ? 2022 You Mee Ahn et al.   \n",
              "3                                                                                                                                                                                                                                                                                                                                                                                                                                                                                                                                                                                                                                                                                                                                                                                                                                                                                                                                                                                                                                                                                                                                                                                                                                                                                                                                                                                                                                                                                                                                                                                                                                                                                                                                                                                                                                                                                                                                                                                                                                                                                                                                                                                                                                                                                                                                                                                                                                                                                                                                                                                                                                                                                                                                                                           BACKGROUND: Sodium profiling improves haemodynamic tolerance in haemodialysis (HD) patients but may also influence sodium homeostasis. Changes in blood volume and plasma conductivity (PC) during HD can be modelled by feedback technology, but their effects on sodium homeostasis are not widely studied., METHODS: This randomized crossover study compared PC and ionic mass balance (IMB) as surrogate markers of sodium balance between standard HD [dialysate conductivity (DC) 14.0 mS/cm], sodium profiling (DC 15.0-->14.0 mS/cm), blood volume (BV)-controlled and PC-controlled feedback (target: post-HD PC: 14.0 mS/cm) in 10 HD patients with frequent hypotension., RESULTS: 440 treatments were studied. Pre-dialytic PC was significantly higher during SP (14.4+/-0.2 mS/cm) compared to standard HD (14.2+/-0.3 mS/cm), and was not different between the other manoeuvres: PC-controlled (14.1+/-0.3 mS/cm), and BV-controlled feedback (14.2+/-0.2 mS/cm). Except for the first treatment, during which IMB was lower during the sodium profile, IMB did not differ significantly between the various manoeuvres and was strongly dependent upon ultrafiltration volume and the difference between pre-dialytic PC and DC. Symptomatic hypotensive episodes occurred least frequently during BV-controlled feedback (8%) compared to the other manoeuvres (standard HD, 16%; sodium profile, 14%; PC-controlled feedback, 17%), but differences were not significant. Inter-dialytic weight gain and pre-dialytic systolic blood pressure did not differ., CONCLUSIONS: Pre-dialytic PC increased during the sodium profile, and did not differ between BV- or PC-controlled feedback compared to standard HD. Thus, it appears that both BV- and PC-controlled feedback can be safely prescribed without substantial salt- and water-loading, at least in the short term. Analysis of IMB is useful to assess differences in sodium balance between single treatment sessions but appears of less value in a steady-state situation.   \n",
              "4                                                                                                                                                                                                                                                                                                                                                                                                                                                                                                                                                                                                                                                                                                                                                                                                                                                                                                                                                                                                                                                                                                                                                                                                                                                                                                                                                                                                                                                                                                                                                                                                                                                                                                                                                                                                                                                                                                                                                                                                                                                                                                                                                                                                                                                                                                                                                                                                                                                                                                                                                                                                                                                                        Epilepsy is a neurological disorder resulting from abnormal neuronal firing in the brain. Glutamate transporters and the glutamate-glutamine cycle play crucial roles in the development of seizures. In the present study, the correlation of epilepsy with glutamate transporters and enzymes was investigated. Herein, male Wistar rats were randomly allocated into four groups (six animals/group); 35 mg/kg pentylenetetrazole (PTZ) was used to induce a kindling model of epilepsy. Once the kindling model was established, animals were treated for 15 days with either valproic acid (VPA, 350 mg/kg) or ceftriaxone (CEF, 200 mg/kg) in addition to the control group receiving saline. After treatment, electrocorticography (ECoG) was performed to record the electrical activity of the cerebral cortex. The glutamate reuptake time (T80) was also determined in situ using an in vivo voltammetry. The expression levels of glutamate transporters and enzymes in the M1 and CA3 areas of the brain were determined using a real-time polymerase chain reaction (RT-PCR). ECoG measurements showed that the mean spike number of the PTZ + VPA and PTZ + CEF groups was significantly lower (p < 0.05) than that of the PTZ group. Compared with the PTZ group, VPA or CEF treatment decreased the glutamate reuptake time (T80). The expression levels of EAAC1, GLT-1, GLAST, glutamine synthetase (GS), and glutaminase were increased in the PTZ group. Treatment with VPA or CEF enhanced the expression levels of GLT-1, GLAST, EAAC1, and GS, whereas the glutaminase expression level was reduced. The current results suggest that VPA or CEF decreases seizure activity by increasing glutamate reuptake by upregulating GLT-1 and GLAST expression, implying a possible mechanism for treating epilepsy. Also, we have suggested a novel mechanism for the antiepileptic activity of VPA via decreasing glutaminase expression levels. To our knowledge, this is the first study to measure the glutamate reuptake time in situ during the seizure (i.e., real-time measurement).Copyright ? 2021 John Wiley & Sons Australia, Ltd.   \n",
              "\n",
              "   label  \\\n",
              "0      1   \n",
              "1      0   \n",
              "2      0   \n",
              "3      1   \n",
              "4      0   \n",
              "\n",
              "                                                                                                                                                                       title_orig  \\\n",
              "0                                        [Prognostic value of N-terminal pro-BNP-type natriuretic peptide in patients with stable coronary heart disease--secondary publication].   \n",
              "1                                             The Masquelet Technique: Can Disposable Polypropylene Syringes be an Alternative to Standard PMMA Spacers? A Rat Bone Defect Model.   \n",
              "2  Amelioration of Hypertension by Oryeongsan through Improvements of Body Fluid and Sodium Balance: Roles of the Renin-Angiotensin System and Atrial Natriuretic Peptide System.   \n",
              "3                         The effect of sodium profiling and feedback technologies on plasma conductivity and ionic mass balance: a study in hypotension-prone dialysis patients.   \n",
              "4                                                                      Differential effects of inhibitors of PTZ-induced kindling on glutamate transporters and enzyme expression   \n",
              "\n",
              "                                                                                                                                                                                                                                                                                                                                                                                                                                                                                                                                                                                                                                                                                                                                                                                                                                                                                                                                                                                                                                                                                                                                                                                                                                                                                                                                                                                                                                                                                                                                                                                                                                                                                                                                                                                                                                                                                                                                                                                                                                                                                                                                                                                                                                                                                                                                                                                                                                                                                                                                                                                                                                                                                                                                                                                                                                                                                                                                                                                                                                                                                                                                                                                                                                                                                                                                                                                                                                                                                                                                                                                                                                                                                                                                                                                                                                                                                                                                                                                                                                                                                                                                                                                                                                                                                                                                                                                                                                                                                                                                                                                                                                                                                                                                                                                                                                                                                                                                                                titleabstract  \\\n",
              "0                                                                                                                                                                                                                                                                                                                                                                                                                                                                                                                                                                                                                                                                                                                                                                                                                                                                                                                                                                                                                                                                                                                                                                                                                                                                                                                                                                                                                                                                                                                                                                                                                                                                                                                                                                                                                                                                                                                                                                                                                                                                                                                                                                                                                                                                                                                                                                                                                                                                                                                                                                                                                                                                                                                                                                                                                                                                                                                                                                                                                                                                                                                                                                                                                                                                                                                                                                                                                                                                                                                                                                                                                                                                                                                                                                                                                                                                                                                                                                                                                                                                                                                                                                                                                               [prognostic value of n-terminal pro-bnp-type natriuretic peptide in patients with stable coronary heart disease--secondary publication]. we assessed the relationship between nt-probnp levels and all-cause mortality in patients with stable coronary heart disease. nt-probnp was measured in 1,034 patients referred for elective coronary angiography. in a multivariable cox regression analysis, the hazard ratio for death from any cause for patients with nt-probnp levels in the fourth quartile as compared with those in the first quartile was 2.4 (95% ci 1.5-4.0). nt-probnp provides prognostic information on all-cause mortality independent of conventional cardiovascular risk factors and left ventricular dysfunction.   \n",
              "1  the masquelet technique: can disposable polypropylene syringes be an alternative to standard pmma spacers? a rat bone defect model. background: usually, the two-stage masquelet induced-membrane technique for extremity reconstruction begins with a polymethylmethacrylate (pmma) cement spacer-driven membrane, followed by an autologous cancellous bone graft implanted into the membrane cavity to promote healing of large bone defects. in exceptional cases, spacers made of polypropylene disposable syringes were successfully used instead of the usual pmma spacers because of a pmma cement shortage caused by a lack of resources. however, this approach lacks clinical evidence and requires experimental validation before being recommended as an alternative to the conventional technique.questions/purposes: to (1) develop and (2) validate a critical-sized femoral defect model in rats for two stages of the masquelet technique and to (3) compare the biological and bone healing properties of polypropylene-induced membranes and pmma-induced membranes in this model.methods: fifty male sprague dawley rats aged 8 weeks old received a 6-mm femur defect, which was stabilized with an external fixator that was converted into an internal device. in the development phase, the defect was filled with pmma in 16 rats to determine the most favorable timing for bone grafting. two rats were excluded since they died of anesthetic complications. the other 14 were successively euthanized after 2 weeks (n = 3), 4 weeks (n = 4), 6 weeks (n = 4), and 8 weeks (n = 3) for induced membrane analyses. in the validation phase, 12 rats underwent both stages of the procedure using a pmma spacer and were randomly assigned to two groups, whether the induced membrane was preserved or removed before grafting. to address our final objective, we implanted either polypropylene or pmma spacers into the defect (masquelet technique stage 1; n = 11 rats per group) for the period established by the development phase. in each group, 6 of 11 rats were euthanized to compare the biological properties of polypropylene-induced membranes and pmma-induced membranes using histological qualitative analysis, semiquantitative assessment of the bone morphogenic protein-2 content by immunostaining, and qualitative assessment of the mesenchymal stromal cell (msc; cd31-, cd45-, cd90+, and cd73+ phenotypes) content by flow cytometry. quantitative measurements from serum bone turnover markers were also performed. the five remaining rats of each group were used for masquelet technique stage 2, in which rat bone allografts were implanted in the induced membrane cavity after the polypropylene or pmma spacers were removed. these rats recovered for 10 weeks before being euthanized for microct quantitative measurements and bone histology qualitative assessment to evaluate and compare the extent of bone regeneration between groups.results: induced membrane analyses together with serum bone turnover measurements indicated that a 4-week interval time between stages was the most favorable. removal of the induced membrane before grafting led to almost constant early implant failures with poor bone formation. four-week-old rats with polypropylene-triggered induced membranes displayed similar histologic organization as rats with pmma-driven induced membranes, without any difference in the cell density of the extracellular matrix (4933 ? 916 cells per mm2 for polypropylene versus 4923 ? 1284 cells per mm2 for pmma; p = 0.98). induced membrane-derived mscs were found in both groups with no difference (4 of 5 with polypropylene versus 3 of 3 with pmma; p > 0.99). induced membrane bone morphogenic protein-2 immunolabeling and serum bone turnover marker levels were comparable between the polypropylene and pmma groups. microct analysis found that bone regeneration in the polypropylene group seemed comparable with that in the pmma group (29 ? 26 mm3 for polypropylene versus 24 ? 18 mm3 for pmma; p > 0.99). finally, qualitative histological assessment revealed a satisfactory endochondral ossification maturation in both groups.conclusion: using a critical-sized femoral defect model in rats, we demonstrated that polypropylene spacers could induce membrane encapsulation with histologic characteristics and bone regenerative capacities that seem like those of pmma spacers.clinical relevance: in a same bone site, polymers with close physical properties seem to lead to similar foreign body reactions and induce encapsulating membranes with comparable bone healing properties. polypropylene spacers made from disposable syringes could be a valuable alternative to pmma. these results support the possibility of a cementless masquelet technique in cases of pmma shortage caused by a lack of resources.   \n",
              "2                                                                                                                                                                                                                                                                                                                                                                                                                                                                                                                                                                                                                                                                                                                                                                                                                                                                                                                                                                                                                                                                                                                                                                                                                                                                                                                                                                                                                                                                                                                                                                                                                                                                                                                                                                                                                                                                                                                                                                                                                                                                                                                                                                                                                                                                                                                                                                                                                                                                                                                        amelioration of hypertension by oryeongsan through improvements of body fluid and sodium balance: roles of the renin-angiotensin system and atrial natriuretic peptide system. oryeongsan (wulingsan in china and goreisan in japan), a formula composed of five herbal medicines, has long been used for the treatment of imbalance of the body fluid homeostasis in asian countries. however, the mechanism by which oryeongsan (ors) improves the impaired body fluid and salt metabolism is not clearly defined. the present study was performed to define the role of the cardiorenal humoral system in the ors-induced changes in blood pressure and renal function in hypertension. experiments were performed in normotensive and two-kidney, one-clip hypertensive rats. changes in the fluid and salt balance were measured in rats individually housed in metabolic cages. changes in the systemic and local renin-angiotensin system (ras) and cardiac natriuretic peptide hormone system (nps) were evaluated. ors water extract was administered by oral gavage (100 mg/kg daily) for 3 weeks. ors induced diuresis and natriuresis along with an increase in glomerular filtration rate and downregulation of the na+/h+ exchanger 3 (nhe3) and aquaporin 2 expression in the renal cortex and medulla, respectively. furthermore, treatment with ors significantly decreased systolic blood pressure with contraction of body sodium and water accumulation in hypertensive rats. ors-induced changes were accompanied by modulation of the ras and nps, downregulation of the systemic ras and cardiorenal expression of angiotensin-converting enzyme (ace) and angiotensin ii subtype 1 (at1) receptor, and upregulation of the plasma anp concentration and cardiorenal expression of anp, ace2, mas receptor, and at2 receptor. these findings indicate that ors induces beneficial effects on the high blood pressure through modulation of the ras and nps of the cardiorenal system, suppression of the prohypertensive ace-at1 receptor pathway and nhe3, accentuation of the antihypertensive ace2-mas axis/at2 receptor pathway in the kidney, suppression of the systemic ras, and elevation of the plasma anp levels and its synthesis in the heart. the present study provides a biological basis for the use of ors in the treatment of impaired volume and pressure homeostasis. copyright ? 2022 you mee ahn et al.   \n",
              "3                                                                                                                                                                                                                                                                                                                                                                                                                                                                                                                                                                                                                                                                                                                                                                                                                                                                                                                                                                                                                                                                                                                                                                                                                                                                                                                                                                                                                                                                                                                                                                                                                                                                                                                                                                                                                                                                                                                                                                                                                                                                                                                                                                                                                                                                                                                                                                                                                                                                                                                                                                                                                                                                                                                                                       the effect of sodium profiling and feedback technologies on plasma conductivity and ionic mass balance: a study in hypotension-prone dialysis patients. background: sodium profiling improves haemodynamic tolerance in haemodialysis (hd) patients but may also influence sodium homeostasis. changes in blood volume and plasma conductivity (pc) during hd can be modelled by feedback technology, but their effects on sodium homeostasis are not widely studied., methods: this randomized crossover study compared pc and ionic mass balance (imb) as surrogate markers of sodium balance between standard hd [dialysate conductivity (dc) 14.0 ms/cm], sodium profiling (dc 15.0-->14.0 ms/cm), blood volume (bv)-controlled and pc-controlled feedback (target: post-hd pc: 14.0 ms/cm) in 10 hd patients with frequent hypotension., results: 440 treatments were studied. pre-dialytic pc was significantly higher during sp (14.4+/-0.2 ms/cm) compared to standard hd (14.2+/-0.3 ms/cm), and was not different between the other manoeuvres: pc-controlled (14.1+/-0.3 ms/cm), and bv-controlled feedback (14.2+/-0.2 ms/cm). except for the first treatment, during which imb was lower during the sodium profile, imb did not differ significantly between the various manoeuvres and was strongly dependent upon ultrafiltration volume and the difference between pre-dialytic pc and dc. symptomatic hypotensive episodes occurred least frequently during bv-controlled feedback (8%) compared to the other manoeuvres (standard hd, 16%; sodium profile, 14%; pc-controlled feedback, 17%), but differences were not significant. inter-dialytic weight gain and pre-dialytic systolic blood pressure did not differ., conclusions: pre-dialytic pc increased during the sodium profile, and did not differ between bv- or pc-controlled feedback compared to standard hd. thus, it appears that both bv- and pc-controlled feedback can be safely prescribed without substantial salt- and water-loading, at least in the short term. analysis of imb is useful to assess differences in sodium balance between single treatment sessions but appears of less value in a steady-state situation.   \n",
              "4                                                                                                                                                                                                                                                                                                                                                                                                                                                                                                                                                                                                                                                                                                                                                                                                                                                                                                                                                                                                                                                                                                                                                                                                                                                                                                                                                                                                                                                                                                                                                                                                                                                                                                                                                                                                                                                                                                                                                                                                                                                                                                                                                                                                                                                                                                                                                                                                                                                                                                                                                                                                                                                                                                 differential effects of inhibitors of ptz-induced kindling on glutamate transporters and enzyme expression epilepsy is a neurological disorder resulting from abnormal neuronal firing in the brain. glutamate transporters and the glutamate-glutamine cycle play crucial roles in the development of seizures. in the present study, the correlation of epilepsy with glutamate transporters and enzymes was investigated. herein, male wistar rats were randomly allocated into four groups (six animals/group); 35 mg/kg pentylenetetrazole (ptz) was used to induce a kindling model of epilepsy. once the kindling model was established, animals were treated for 15 days with either valproic acid (vpa, 350 mg/kg) or ceftriaxone (cef, 200 mg/kg) in addition to the control group receiving saline. after treatment, electrocorticography (ecog) was performed to record the electrical activity of the cerebral cortex. the glutamate reuptake time (t80) was also determined in situ using an in vivo voltammetry. the expression levels of glutamate transporters and enzymes in the m1 and ca3 areas of the brain were determined using a real-time polymerase chain reaction (rt-pcr). ecog measurements showed that the mean spike number of the ptz + vpa and ptz + cef groups was significantly lower (p < 0.05) than that of the ptz group. compared with the ptz group, vpa or cef treatment decreased the glutamate reuptake time (t80). the expression levels of eaac1, glt-1, glast, glutamine synthetase (gs), and glutaminase were increased in the ptz group. treatment with vpa or cef enhanced the expression levels of glt-1, glast, eaac1, and gs, whereas the glutaminase expression level was reduced. the current results suggest that vpa or cef decreases seizure activity by increasing glutamate reuptake by upregulating glt-1 and glast expression, implying a possible mechanism for treating epilepsy. also, we have suggested a novel mechanism for the antiepileptic activity of vpa via decreasing glutaminase expression levels. to our knowledge, this is the first study to measure the glutamate reuptake time in situ during the seizure (i.e., real-time measurement).copyright ? 2021 john wiley & sons australia, ltd.   \n",
              "\n",
              "                                                                                                                                                                                                                                                                                                                                                                                                                                                                                                                                                                                                                                                                                                                                                                                                                                                                                                                                                                                                                                                                                                                                                                                                                                                                                                                                                                                                                                                                                                                                                                                                                                                                                                                                                                                                                                                                                                                                                                                                                                                                                                                                                                                                                                                                                                                                                                                                                                                                                                                                                                                                                                                                                                                                                                                                                                                                                                                                                                                                                                                                                                                                                                                                                                                                                                                                                                                                                                                                                                                                                                                                                                                                                                                                                                                                                                                                                                                                                                                                                                                                                                                                                                                                                                                                                                                                                                                                                                                                                                                                                                                                                                                                                                                                                                                                                                                                                         lemma  \\\n",
              "0                                                                                                                                                                                                                                                                                                                                                                                                                                                                                                                                                                                                                                                                                                                                                                                                                                                                                                                                                                                                                                                                                                                                                                                                                                                                                                                                                                                                                                                                                                                                                                                                                                                                                                                                                                                                                                                                                                                                                                                                                                                                                                                                                                                                                                                                                                                                                                                                                                                                                                                                                                                                                                                                                                                                                                                                                                                                                                                                                                                                                                                                                                                                                                                                                                                                                                                                                                                                                                                                                                                                                                                                                                                                                                                                                                                                                                                                                                                                                                                                                                                                                                                               [ prognostic value of n - terminal pro - bnp - type natriuretic peptide in patient with stable coronary heart disease -- secondary publication ] . we assess the relationship between nt - probnp level and all - cause mortality in patient with stable coronary heart disease . nt - probnp be measure in 1,034 patient refer for elective coronary angiography . in a multivariable cox regression analysis , the hazard ratio for death from any cause for patient with nt - probnp level in the fourth quartile as compare with those in the first quartile be 2.4 ( 95 % ci 1.5 - 4.0 ) . nt - probnp provide prognostic information on all - cause mortality independent of conventional cardiovascular risk factor and leave ventricular dysfunction .   \n",
              "1  the masquelet technique : can disposable polypropylene syrinx be an alternative to standard pmma spacer ? a rat bone defect model . background : usually , the two - stage masquelet induce - membrane technique for extremity reconstruction begin with a polymethylmethacrylate ( pmma ) cement spacer - drive membrane , follow by an autologous cancellous bone graft implant into the membrane cavity to promote healing of large bone defect . in exceptional case , spacer make of polypropylene disposable syrinx be successfully use instead of the usual pmma spacer because of a pmma cement shortage cause by a lack of resource . however , this approach lack clinical evidence and require experimental validation before be recommend as an alternative to the conventional technique.questions/purpose : to ( 1 ) develop and ( 2 ) validate a critical - sized femoral defect model in rat for two stage of the masquelet technique and to ( 3 ) compare the biological and bone healing property of polypropylene - induce membrane and pmma - induce membrane in this model.method : fifty male sprague dawley rat age 8 week old receive a 6 - mm femur defect , which be stabilize with an external fixator that be convert into an internal device . in the development phase , the defect be fill with pmma in 16 rat to determine the most favorable timing for bone grafting . two rat be exclude since they die of anesthetic complication . the other 14 be successively euthanize after 2 week ( n = 3 ) , 4 week ( n = 4 ) , 6 week ( n = 4 ) , and 8 week ( n = 3 ) for induce membrane analysis . in the validation phase , 12 rat undergo both stage of the procedure use a pmma spacer and be randomly assign to two group , whether the induce membrane be preserve or remove before grafting . to address our final objective , we implant either polypropylene or pmma spacer into the defect ( masquelet technique stage 1 ; n = 11 rat per group ) for the period establish by the development phase . in each group , 6 of 11 rat be euthanized to compare the biological property of polypropylene - induce membrane and pmma - induce membrane use histological qualitative analysis , semiquantitative assessment of the bone morphogenic protein-2 content by immunostaine , and qualitative assessment of the mesenchymal stromal cell ( msc ; cd31- , cd45- , cd90 + , and cd73 + phenotype ) content by flow cytometry . quantitative measurement from serum bone turnover marker be also perform . the five remain rat of each group be use for masquelet technique stage 2 , in which rat bone allograft be implant in the induce membrane cavity after the polypropylene or pmma spacer be remove . these rat recover for 10 week before be euthanize for microct quantitative measurement and bone histology qualitative assessment to evaluate and compare the extent of bone regeneration between groups.result : induce membrane analyse together with serum bone turnover measurement indicate that a 4 - week interval time between stage be the most favorable . removal of the induce membrane before grafting lead to almost constant early implant failure with poor bone formation . four - week - old rat with polypropylene - trigger induce membrane display similar histologic organization as rat with pmma - drive induce membrane , without any difference in the cell density of the extracellular matrix ( 4933 ? 916 cell per mm2 for polypropylene versus 4923 ? 1284 cell per mm2 for pmma ; p = 0.98 ) . induce membrane - derive msc be find in both group with no difference ( 4 of 5 with polypropylene versus 3 of 3 with pmma ; p > 0.99 ) . induce membrane bone morphogenic protein-2 immunolabele and serum bone turnover marker level be comparable between the polypropylene and pmma group . microct analysis find that bone regeneration in the polypropylene group seem comparable with that in the pmma group ( 29 ? 26 mm3 for polypropylene versus 24 ? 18 mm3 for pmma ; p > 0.99 ) . finally , qualitative histological assessment reveal a satisfactory endochondral ossification maturation in both groups.conclusion : use a critical - sized femoral defect model in rat , we demonstrate that polypropylene spacer could induce membrane encapsulation with histologic characteristic and bone regenerative capacity that seem like those of pmma spacers.clinical relevance : in a same bone site , polymer with close physical property seem to lead to similar foreign body reaction and induce encapsulate membrane with comparable bone healing property . polypropylene spacer make from disposable syrinx could be a valuable alternative to pmma . these result support the possibility of a cementless masquelet technique in case of pmma shortage cause by a lack of resource .   \n",
              "2                                                                                                                                                                                                                                                                                                                                                                                                                                                                                                                                                                                                                                                                                                                                                                                                                                                                                                                                                                                                                                                                                                                                                                                                                                                                                                                                                                                                                                                                                                                                                                                                                                                                                                                                                                                                                                                                                                                                                                                                                                                                                                                                                                                                                                                                                                                                                                                                                                  amelioration of hypertension by oryeongsan through improvement of body fluid and sodium balance : role of the renin - angiotensin system and atrial natriuretic peptide system . oryeongsan ( wulingsan in china and goreisan in japan ) , a formula compose of five herbal medicine , have long be use for the treatment of imbalance of the body fluid homeostasis in asian country . however , the mechanism by which oryeongsan ( ors ) improve the impaired body fluid and salt metabolism be not clearly define . the present study be perform to define the role of the cardiorenal humoral system in the ors - induce change in blood pressure and renal function in hypertension . experiment be perform in normotensive and two - kidney , one - clip hypertensive rat . change in the fluid and salt balance be measure in rat individually house in metabolic cage . change in the systemic and local renin - angiotensin system ( ras ) and cardiac natriuretic peptide hormone system ( nps ) be evaluate . or water extract be administer by oral gavage ( 100 mg / kg daily ) for 3 week . or induce diuresis and natriuresis along with an increase in glomerular filtration rate and downregulation of the na+/h+ exchanger 3 ( nhe3 ) and aquaporin 2 expression in the renal cortex and medulla , respectively . furthermore , treatment with or significantly decrease systolic blood pressure with contraction of body sodium and water accumulation in hypertensive rat . or - induce change be accompany by modulation of the ras and nps , downregulation of the systemic ras and cardiorenal expression of angiotensin - convert enzyme ( ace ) and angiotensin ii subtype 1 ( at1 ) receptor , and upregulation of the plasma anp concentration and cardiorenal expression of anp , ace2 , mas receptor , and at2 receptor . these finding indicate that or induce beneficial effect on the high blood pressure through modulation of the ras and nps of the cardiorenal system , suppression of the prohypertensive ace - at1 receptor pathway and nhe3 , accentuation of the antihypertensive ace2 - mas axis / at2 receptor pathway in the kidney , suppression of the systemic ras , and elevation of the plasma anp level and its synthesis in the heart . the present study provide a biological basis for the use of or in the treatment of impair volume and pressure homeostasis . copyright ? 2022 you mee ahn et al .   \n",
              "3                                                                                                                                                                                                                                                                                                                                                                                                                                                                                                                                                                                                                                                                                                                                                                                                                                                                                                                                                                                                                                                                                                                                                                                                                                                                                                                                                                                                                                                                                                                                                                                                                                                                                                                                                                                                                                                                                                                                                                                                                                                                                                                                                                                                                                                                                                                                                                                                                                                                                                                                                                                                                               the effect of sodium profiling and feedback technology on plasma conductivity and ionic mass balance : a study in hypotension - prone dialysis patient . background : sodium profiling improve haemodynamic tolerance in haemodialysis ( hd ) patient but may also influence sodium homeostasis . change in blood volume and plasma conductivity ( pc ) during hd can be model by feedback technology , but their effect on sodium homeostasis be not widely study . , method : this randomize crossover study compare pc and ionic mass balance ( imb ) as surrogate marker of sodium balance between standard hd [ dialysate conductivity ( dc ) 14.0 ms / cm ] , sodium profiling ( dc 15.0 - ->14.0 ms / cm ) , blood volume ( bv)-controlle and pc - control feedback ( target : post - hd pc : 14.0 ms / cm ) in 10 hd patient with frequent hypotension . , result : 440 treatment be study . pre - dialytic pc be significantly high during sp ( 14.4+/-0.2 ms / cm ) compare to standard hd ( 14.2+/-0.3 ms / cm ) , and be not different between the other manoeuvre : pc - control ( 14.1+/-0.3 ms / cm ) , and bv - control feedback ( 14.2+/-0.2 ms / cm ) . except for the first treatment , during which imb be low during the sodium profile , imb do not differ significantly between the various manoeuvre and be strongly dependent upon ultrafiltration volume and the difference between pre - dialytic pc and dc . symptomatic hypotensive episode occur least frequently during bv - control feedback ( 8 % ) compare to the other manoeuvre ( standard hd , 16 % ; sodium profile , 14 % ; pc - control feedback , 17 % ) , but difference be not significant . inter - dialytic weight gain and pre - dialytic systolic blood pressure do not differ . , conclusion : pre - dialytic pc increase during the sodium profile , and do not differ between bv- or pc - control feedback compare to standard hd . thus , it appear that both bv- and pc - control feedback can be safely prescribe without substantial salt- and water - loading , at least in the short term . analysis of imb be useful to assess difference in sodium balance between single treatment session but appear of less value in a steady - state situation .   \n",
              "4                                                                                                                                                                                                                                                                                                                                                                                                                                                                                                                                                                                                                                                                                                                                                                                                                                                                                                                                                                                                                                                                                                                                                                                                                                                                                                                                                                                                                                                                                                                                                                                                                                                                                                                                                                                                                                                                                                                                                                                                                                                                                                                                                                                                                                                                                                                                                                                                                                                                                                                                                                                                                          differential effect of inhibitor of ptz - induce kindling on glutamate transporter and enzyme expression epilepsy be a neurological disorder result from abnormal neuronal firing in the brain . glutamate transporter and the glutamate - glutamine cycle play crucial role in the development of seizure . in the present study , the correlation of epilepsy with glutamate transporter and enzyme be investigate . herein , male wistar rat be randomly allocate into four group ( six animal / group ) ; 35 mg / kg pentylenetetrazole ( ptz ) be use to induce a kindling model of epilepsy . once the kindling model be establish , animal be treat for 15 day with either valproic acid ( vpa , 350 mg / kg ) or ceftriaxone ( cef , 200 mg / kg ) in addition to the control group receive saline . after treatment , electrocorticography ( ecog ) be perform to record the electrical activity of the cerebral cortex . the glutamate reuptake time ( t80 ) be also determine in situ use an in vivo voltammetry . the expression level of glutamate transporter and enzyme in the m1 and ca3 area of the brain be determine use a real - time polymerase chain reaction ( rt - pcr ) . ecog measurement show that the mean spike number of the ptz + vpa and ptz + cef group be significantly low ( p < 0.05 ) than that of the ptz group . compare with the ptz group , vpa or cef treatment decrease the glutamate reuptake time ( t80 ) . the expression level of eaac1 , glt-1 , glast , glutamine synthetase ( gs ) , and glutaminase be increase in the ptz group . treatment with vpa or cef enhance the expression level of glt-1 , glast , eaac1 , and gs , whereas the glutaminase expression level be reduce . the current result suggest that vpa or cef decrease seizure activity by increase glutamate reuptake by upregulate glt-1 and glast expression , imply a possible mechanism for treat epilepsy . also , we have suggest a novel mechanism for the antiepileptic activity of vpa via decrease glutaminase expression level . to our knowledge , this be the first study to measure the glutamate reuptake time in situ during the seizure ( i.e. , real - time measurement).copyright ? 2021 john wiley & sons australia , ltd .   \n",
              "\n",
              "                                                                                                                                                                                                                                                                                                                                                                                                                                                                                                                                                                                                                                                                                                                                                                                                                                                                                                                                                                                                                                                                                                                                                                                                                                                                                                                                                                                                                                                                                                                                                                                                                                                                                                                                                                                                                                                                                                                                                                                                                                                                                                                                                                                                                                                                                                                                                                                                                                                                                                                                                                                                                                                                                                                                                                                                                                                                                                                                                                                                                                                                                                                                                                                                                                                                                                                                                                                                                                                                                                                                                                                                                                                                                                                                                                                                                                                           stopwords  \n",
              "0                                                                                                                                                                                                                                                                                                                                                                                                                                                                                                                                                                                                                                                                                                                                                                                                                                                                                                                                                                                                                                                                                                                                                                                                                                                                                                                                                                                                                                                                                                                                                                                                                                                                                                                                                                                                                                                                                                                                                                                                                                                                                                                                                                                                                                                                                                                                                                                                                                                                                                                                                                                                                                                                                                                                                                                                                                                                                                                                                                                                                                                                                                                                                                                                                                           [ prognostic value n - terminal pro - bnp - type natriuretic peptide patient stable coronary heart disease -- secondary publication ] . assess relationship nt - probnp level - cause mortality patient stable coronary heart disease . nt - probnp measure 1,034 patient refer elective coronary angiography . multivariable cox regression analysis , hazard ratio death cause patient nt - probnp level fourth quartile compare quartile 2.4 ( 95 % ci 1.5 - 4.0 ) . nt - probnp provide prognostic information - cause mortality independent conventional cardiovascular risk factor leave ventricular dysfunction .  \n",
              "1  masquelet technique : disposable polypropylene syrinx alternative standard pmma spacer ? rat bone defect model . background : usually , - stage masquelet induce - membrane technique extremity reconstruction begin polymethylmethacrylate ( pmma ) cement spacer - drive membrane , follow autologous cancellous bone graft implant membrane cavity promote healing large bone defect . exceptional case , spacer polypropylene disposable syrinx successfully use instead usual pmma spacer pmma cement shortage cause lack resource . , approach lack clinical evidence require experimental validation recommend alternative conventional technique.questions/purpose : ( 1 ) develop ( 2 ) validate critical - sized femoral defect model rat stage masquelet technique ( 3 ) compare biological bone healing property polypropylene - induce membrane pmma - induce membrane model.method : male sprague dawley rat age 8 week old receive 6 - mm femur defect , stabilize external fixator convert internal device . development phase , defect fill pmma 16 rat determine favorable timing bone grafting . rat exclude die anesthetic complication . 14 successively euthanize 2 week ( n = 3 ) , 4 week ( n = 4 ) , 6 week ( n = 4 ) , 8 week ( n = 3 ) induce membrane analysis . validation phase , 12 rat undergo stage procedure use pmma spacer randomly assign group , induce membrane preserve remove grafting . address final objective , implant polypropylene pmma spacer defect ( masquelet technique stage 1 ; n = 11 rat group ) period establish development phase . group , 6 11 rat euthanized compare biological property polypropylene - induce membrane pmma - induce membrane use histological qualitative analysis , semiquantitative assessment bone morphogenic protein-2 content immunostaine , qualitative assessment mesenchymal stromal cell ( msc ; cd31- , cd45- , cd90 + , cd73 + phenotype ) content flow cytometry . quantitative measurement serum bone turnover marker perform . remain rat group use masquelet technique stage 2 , rat bone allograft implant induce membrane cavity polypropylene pmma spacer remove . rat recover 10 week euthanize microct quantitative measurement bone histology qualitative assessment evaluate compare extent bone regeneration groups.result : induce membrane analyse serum bone turnover measurement indicate 4 - week interval time stage favorable . removal induce membrane grafting lead constant early implant failure poor bone formation . - week - old rat polypropylene - trigger induce membrane display similar histologic organization rat pmma - drive induce membrane , difference cell density extracellular matrix ( 4933 ? 916 cell mm2 polypropylene versus 4923 ? 1284 cell mm2 pmma ; p = 0.98 ) . induce membrane - derive msc find group difference ( 4 5 polypropylene versus 3 3 pmma ; p > 0.99 ) . induce membrane bone morphogenic protein-2 immunolabele serum bone turnover marker level comparable polypropylene pmma group . microct analysis find bone regeneration polypropylene group comparable pmma group ( 29 ? 26 mm3 polypropylene versus 24 ? 18 mm3 pmma ; p > 0.99 ) . finally , qualitative histological assessment reveal satisfactory endochondral ossification maturation groups.conclusion : use critical - sized femoral defect model rat , demonstrate polypropylene spacer induce membrane encapsulation histologic characteristic bone regenerative capacity like pmma spacers.clinical relevance : bone site , polymer close physical property lead similar foreign body reaction induce encapsulate membrane comparable bone healing property . polypropylene spacer disposable syrinx valuable alternative pmma . result support possibility cementless masquelet technique case pmma shortage cause lack resource .  \n",
              "2                                                                                                                                                                                                                                                                                                                                                                                                                                                                                                                                                                                                                                                                                                                                                                                                                                                                                                                                                                                                                                                                                                                                                                                                                                                                                                                                                                                                                                                                                                                                                                                                                                                                                                                                                                                                                                                                                                                            amelioration hypertension oryeongsan improvement body fluid sodium balance : role renin - angiotensin system atrial natriuretic peptide system . oryeongsan ( wulingsan china goreisan japan ) , formula compose herbal medicine , long use treatment imbalance body fluid homeostasis asian country . , mechanism oryeongsan ( ors ) improve impaired body fluid salt metabolism clearly define . present study perform define role cardiorenal humoral system ors - induce change blood pressure renal function hypertension . experiment perform normotensive - kidney , - clip hypertensive rat . change fluid salt balance measure rat individually house metabolic cage . change systemic local renin - angiotensin system ( ras ) cardiac natriuretic peptide hormone system ( nps ) evaluate . water extract administer oral gavage ( 100 mg / kg daily ) 3 week . induce diuresis natriuresis increase glomerular filtration rate downregulation na+/h+ exchanger 3 ( nhe3 ) aquaporin 2 expression renal cortex medulla , respectively . furthermore , treatment significantly decrease systolic blood pressure contraction body sodium water accumulation hypertensive rat . - induce change accompany modulation ras nps , downregulation systemic ras cardiorenal expression angiotensin - convert enzyme ( ace ) angiotensin ii subtype 1 ( at1 ) receptor , upregulation plasma anp concentration cardiorenal expression anp , ace2 , mas receptor , at2 receptor . finding indicate induce beneficial effect high blood pressure modulation ras nps cardiorenal system , suppression prohypertensive ace - at1 receptor pathway nhe3 , accentuation antihypertensive ace2 - mas axis / at2 receptor pathway kidney , suppression systemic ras , elevation plasma anp level synthesis heart . present study provide biological basis use treatment impair volume pressure homeostasis . copyright ? 2022 mee ahn et al .  \n",
              "3                                                                                                                                                                                                                                                                                                                                                                                                                                                                                                                                                                                                                                                                                                                                                                                                                                                                                                                                                                                                                                                                                                                                                                                                                                                                                                                                                                                                                                                                                                                                                                                                                                                                                                                                                                                                                                                                                                                                                                                                                                                                         effect sodium profiling feedback technology plasma conductivity ionic mass balance : study hypotension - prone dialysis patient . background : sodium profiling improve haemodynamic tolerance haemodialysis ( hd ) patient influence sodium homeostasis . change blood volume plasma conductivity ( pc ) hd model feedback technology , effect sodium homeostasis widely study . , method : randomize crossover study compare pc ionic mass balance ( imb ) surrogate marker sodium balance standard hd [ dialysate conductivity ( dc ) 14.0 ms / cm ] , sodium profiling ( dc 15.0 - ->14.0 ms / cm ) , blood volume ( bv)-controlle pc - control feedback ( target : post - hd pc : 14.0 ms / cm ) 10 hd patient frequent hypotension . , result : 440 treatment study . pre - dialytic pc significantly high sp ( 14.4+/-0.2 ms / cm ) compare standard hd ( 14.2+/-0.3 ms / cm ) , different manoeuvre : pc - control ( 14.1+/-0.3 ms / cm ) , bv - control feedback ( 14.2+/-0.2 ms / cm ) . treatment , imb low sodium profile , imb differ significantly manoeuvre strongly dependent ultrafiltration volume difference pre - dialytic pc dc . symptomatic hypotensive episode occur frequently bv - control feedback ( 8 % ) compare manoeuvre ( standard hd , 16 % ; sodium profile , 14 % ; pc - control feedback , 17 % ) , difference significant . inter - dialytic weight gain pre - dialytic systolic blood pressure differ . , conclusion : pre - dialytic pc increase sodium profile , differ bv- pc - control feedback compare standard hd . , appear bv- pc - control feedback safely prescribe substantial salt- water - loading , short term . analysis imb useful assess difference sodium balance single treatment session appear value steady - state situation .  \n",
              "4                                                                                                                                                                                                                                                                                                                                                                                                                                                                                                                                                                                                                                                                                                                                                                                                                                                                                                                                                                                                                                                                                                                                                                                                                                                                                                                                                                                                                                                                                                                                                                                                                                                                                                                                                                                                                                                                                                                                                                                                                                                                   differential effect inhibitor ptz - induce kindling glutamate transporter enzyme expression epilepsy neurological disorder result abnormal neuronal firing brain . glutamate transporter glutamate - glutamine cycle play crucial role development seizure . present study , correlation epilepsy glutamate transporter enzyme investigate . , male wistar rat randomly allocate group ( animal / group ) ; 35 mg / kg pentylenetetrazole ( ptz ) use induce kindling model epilepsy . kindling model establish , animal treat 15 day valproic acid ( vpa , 350 mg / kg ) ceftriaxone ( cef , 200 mg / kg ) addition control group receive saline . treatment , electrocorticography ( ecog ) perform record electrical activity cerebral cortex . glutamate reuptake time ( t80 ) determine situ use vivo voltammetry . expression level glutamate transporter enzyme m1 ca3 area brain determine use real - time polymerase chain reaction ( rt - pcr ) . ecog measurement mean spike number ptz + vpa ptz + cef group significantly low ( p < 0.05 ) ptz group . compare ptz group , vpa cef treatment decrease glutamate reuptake time ( t80 ) . expression level eaac1 , glt-1 , glast , glutamine synthetase ( gs ) , glutaminase increase ptz group . treatment vpa cef enhance expression level glt-1 , glast , eaac1 , gs , glutaminase expression level reduce . current result suggest vpa cef decrease seizure activity increase glutamate reuptake upregulate glt-1 glast expression , imply possible mechanism treat epilepsy . , suggest novel mechanism antiepileptic activity vpa decrease glutaminase expression level . knowledge , study measure glutamate reuptake time situ seizure ( i.e. , real - time measurement).copyright ? 2021 john wiley & sons australia , ltd .  "
            ],
            "text/html": [
              "\n",
              "  <div id=\"df-ad6b8099-f809-4c54-8e17-65cc557b24ad\" class=\"colab-df-container\">\n",
              "    <div>\n",
              "<style scoped>\n",
              "    .dataframe tbody tr th:only-of-type {\n",
              "        vertical-align: middle;\n",
              "    }\n",
              "\n",
              "    .dataframe tbody tr th {\n",
              "        vertical-align: top;\n",
              "    }\n",
              "\n",
              "    .dataframe thead th {\n",
              "        text-align: right;\n",
              "    }\n",
              "</style>\n",
              "<table border=\"1\" class=\"dataframe\">\n",
              "  <thead>\n",
              "    <tr style=\"text-align: right;\">\n",
              "      <th></th>\n",
              "      <th>title</th>\n",
              "      <th>abstract</th>\n",
              "      <th>label</th>\n",
              "      <th>title_orig</th>\n",
              "      <th>titleabstract</th>\n",
              "      <th>lemma</th>\n",
              "      <th>stopwords</th>\n",
              "    </tr>\n",
              "  </thead>\n",
              "  <tbody>\n",
              "    <tr>\n",
              "      <th>0</th>\n",
              "      <td>[Prognostic value of N-terminal pro-BNP-type natriuretic peptide in patients with stable coronary heart disease--secondary publication].</td>\n",
              "      <td>We assessed the relationship between NT-proBNP levels and all-cause mortality in patients with stable coronary heart disease. NT-proBNP was measured in 1,034 patients referred for elective coronary angiography. In a multivariable Cox regression analysis, the hazard ratio for death from any cause for patients with NT-proBNP levels in the fourth quartile as compared with those in the first quartile was 2.4 (95% CI 1.5-4.0). NT-proBNP provides prognostic information on all-cause mortality independent of conventional cardiovascular risk factors and left ventricular dysfunction.</td>\n",
              "      <td>1</td>\n",
              "      <td>[Prognostic value of N-terminal pro-BNP-type natriuretic peptide in patients with stable coronary heart disease--secondary publication].</td>\n",
              "      <td>[prognostic value of n-terminal pro-bnp-type natriuretic peptide in patients with stable coronary heart disease--secondary publication]. we assessed the relationship between nt-probnp levels and all-cause mortality in patients with stable coronary heart disease. nt-probnp was measured in 1,034 patients referred for elective coronary angiography. in a multivariable cox regression analysis, the hazard ratio for death from any cause for patients with nt-probnp levels in the fourth quartile as compared with those in the first quartile was 2.4 (95% ci 1.5-4.0). nt-probnp provides prognostic information on all-cause mortality independent of conventional cardiovascular risk factors and left ventricular dysfunction.</td>\n",
              "      <td>[ prognostic value of n - terminal pro - bnp - type natriuretic peptide in patient with stable coronary heart disease -- secondary publication ] . we assess the relationship between nt - probnp level and all - cause mortality in patient with stable coronary heart disease . nt - probnp be measure in 1,034 patient refer for elective coronary angiography . in a multivariable cox regression analysis , the hazard ratio for death from any cause for patient with nt - probnp level in the fourth quartile as compare with those in the first quartile be 2.4 ( 95 % ci 1.5 - 4.0 ) . nt - probnp provide prognostic information on all - cause mortality independent of conventional cardiovascular risk factor and leave ventricular dysfunction .</td>\n",
              "      <td>[ prognostic value n - terminal pro - bnp - type natriuretic peptide patient stable coronary heart disease -- secondary publication ] . assess relationship nt - probnp level - cause mortality patient stable coronary heart disease . nt - probnp measure 1,034 patient refer elective coronary angiography . multivariable cox regression analysis , hazard ratio death cause patient nt - probnp level fourth quartile compare quartile 2.4 ( 95 % ci 1.5 - 4.0 ) . nt - probnp provide prognostic information - cause mortality independent conventional cardiovascular risk factor leave ventricular dysfunction .</td>\n",
              "    </tr>\n",
              "    <tr>\n",
              "      <th>1</th>\n",
              "      <td>The Masquelet Technique: Can Disposable Polypropylene Syringes be an Alternative to Standard PMMA Spacers? A Rat Bone Defect Model.</td>\n",
              "      <td>Background: Usually, the two-stage Masquelet induced-membrane technique for extremity reconstruction begins with a polymethylmethacrylate (PMMA) cement spacer-driven membrane, followed by an autologous cancellous bone graft implanted into the membrane cavity to promote healing of large bone defects. In exceptional cases, spacers made of polypropylene disposable syringes were successfully used instead of the usual PMMA spacers because of a PMMA cement shortage caused by a lack of resources. However, this approach lacks clinical evidence and requires experimental validation before being recommended as an alternative to the conventional technique.Questions/purposes: To (1) develop and (2) validate a critical-sized femoral defect model in rats for two stages of the Masquelet technique and to (3) compare the biological and bone healing properties of polypropylene-induced membranes and PMMA-induced membranes in this model.Methods: Fifty male Sprague Dawley rats aged 8 weeks old received a 6-mm femur defect, which was stabilized with an external fixator that was converted into an internal device. In the development phase, the defect was filled with PMMA in 16 rats to determine the most favorable timing for bone grafting. Two rats were excluded since they died of anesthetic complications. The other 14 were successively euthanized after 2 weeks (n = 3), 4 weeks (n = 4), 6 weeks (n = 4), and 8 weeks (n = 3) for induced membrane analyses. In the validation phase, 12 rats underwent both stages of the procedure using a PMMA spacer and were randomly assigned to two groups, whether the induced membrane was preserved or removed before grafting. To address our final objective, we implanted either polypropylene or PMMA spacers into the defect (Masquelet technique Stage 1; n = 11 rats per group) for the period established by the development phase. In each group, 6 of 11 rats were euthanized to compare the biological properties of polypropylene-induced membranes and PMMA-induced membranes using histological qualitative analysis, semiquantitative assessment of the bone morphogenic protein-2 content by immunostaining, and qualitative assessment of the mesenchymal stromal cell (MSC; CD31-, CD45-, CD90+, and CD73+ phenotypes) content by flow cytometry. Quantitative measurements from serum bone turnover markers were also performed. The five remaining rats of each group were used for Masquelet technique Stage 2, in which rat bone allografts were implanted in the induced membrane cavity after the polypropylene or PMMA spacers were removed. These rats recovered for 10 weeks before being euthanized for microCT quantitative measurements and bone histology qualitative assessment to evaluate and compare the extent of bone regeneration between groups.Results: Induced membrane analyses together with serum bone turnover measurements indicated that a 4-week interval time between stages was the most favorable. Removal of the induced membrane before grafting led to almost constant early implant failures with poor bone formation. Four-week-old rats with polypropylene-triggered induced membranes displayed similar histologic organization as rats with PMMA-driven induced membranes, without any difference in the cell density of the extracellular matrix (4933 ? 916 cells per mm2 for polypropylene versus 4923 ? 1284 cells per mm2 for PMMA; p = 0.98). Induced membrane-derived MSCs were found in both groups with no difference (4 of 5 with polypropylene versus 3 of 3 with PMMA; p &gt; 0.99). Induced membrane bone morphogenic protein-2 immunolabeling and serum bone turnover marker levels were comparable between the polypropylene and PMMA groups. MicroCT analysis found that bone regeneration in the polypropylene group seemed comparable with that in the PMMA group (29 ? 26 mm3 for polypropylene versus 24 ? 18 mm3 for PMMA; p &gt; 0.99). Finally, qualitative histological assessment revealed a satisfactory endochondral ossification maturation in both groups.Conclusion: Using a critical-sized femoral defect model in rats, we demonstrated that polypropylene spacers could induce membrane encapsulation with histologic characteristics and bone regenerative capacities that seem like those of PMMA spacers.Clinical Relevance: In a same bone site, polymers with close physical properties seem to lead to similar foreign body reactions and induce encapsulating membranes with comparable bone healing properties. Polypropylene spacers made from disposable syringes could be a valuable alternative to PMMA. These results support the possibility of a cementless Masquelet technique in cases of PMMA shortage caused by a lack of resources.</td>\n",
              "      <td>0</td>\n",
              "      <td>The Masquelet Technique: Can Disposable Polypropylene Syringes be an Alternative to Standard PMMA Spacers? A Rat Bone Defect Model.</td>\n",
              "      <td>the masquelet technique: can disposable polypropylene syringes be an alternative to standard pmma spacers? a rat bone defect model. background: usually, the two-stage masquelet induced-membrane technique for extremity reconstruction begins with a polymethylmethacrylate (pmma) cement spacer-driven membrane, followed by an autologous cancellous bone graft implanted into the membrane cavity to promote healing of large bone defects. in exceptional cases, spacers made of polypropylene disposable syringes were successfully used instead of the usual pmma spacers because of a pmma cement shortage caused by a lack of resources. however, this approach lacks clinical evidence and requires experimental validation before being recommended as an alternative to the conventional technique.questions/purposes: to (1) develop and (2) validate a critical-sized femoral defect model in rats for two stages of the masquelet technique and to (3) compare the biological and bone healing properties of polypropylene-induced membranes and pmma-induced membranes in this model.methods: fifty male sprague dawley rats aged 8 weeks old received a 6-mm femur defect, which was stabilized with an external fixator that was converted into an internal device. in the development phase, the defect was filled with pmma in 16 rats to determine the most favorable timing for bone grafting. two rats were excluded since they died of anesthetic complications. the other 14 were successively euthanized after 2 weeks (n = 3), 4 weeks (n = 4), 6 weeks (n = 4), and 8 weeks (n = 3) for induced membrane analyses. in the validation phase, 12 rats underwent both stages of the procedure using a pmma spacer and were randomly assigned to two groups, whether the induced membrane was preserved or removed before grafting. to address our final objective, we implanted either polypropylene or pmma spacers into the defect (masquelet technique stage 1; n = 11 rats per group) for the period established by the development phase. in each group, 6 of 11 rats were euthanized to compare the biological properties of polypropylene-induced membranes and pmma-induced membranes using histological qualitative analysis, semiquantitative assessment of the bone morphogenic protein-2 content by immunostaining, and qualitative assessment of the mesenchymal stromal cell (msc; cd31-, cd45-, cd90+, and cd73+ phenotypes) content by flow cytometry. quantitative measurements from serum bone turnover markers were also performed. the five remaining rats of each group were used for masquelet technique stage 2, in which rat bone allografts were implanted in the induced membrane cavity after the polypropylene or pmma spacers were removed. these rats recovered for 10 weeks before being euthanized for microct quantitative measurements and bone histology qualitative assessment to evaluate and compare the extent of bone regeneration between groups.results: induced membrane analyses together with serum bone turnover measurements indicated that a 4-week interval time between stages was the most favorable. removal of the induced membrane before grafting led to almost constant early implant failures with poor bone formation. four-week-old rats with polypropylene-triggered induced membranes displayed similar histologic organization as rats with pmma-driven induced membranes, without any difference in the cell density of the extracellular matrix (4933 ? 916 cells per mm2 for polypropylene versus 4923 ? 1284 cells per mm2 for pmma; p = 0.98). induced membrane-derived mscs were found in both groups with no difference (4 of 5 with polypropylene versus 3 of 3 with pmma; p &gt; 0.99). induced membrane bone morphogenic protein-2 immunolabeling and serum bone turnover marker levels were comparable between the polypropylene and pmma groups. microct analysis found that bone regeneration in the polypropylene group seemed comparable with that in the pmma group (29 ? 26 mm3 for polypropylene versus 24 ? 18 mm3 for pmma; p &gt; 0.99). finally, qualitative histological assessment revealed a satisfactory endochondral ossification maturation in both groups.conclusion: using a critical-sized femoral defect model in rats, we demonstrated that polypropylene spacers could induce membrane encapsulation with histologic characteristics and bone regenerative capacities that seem like those of pmma spacers.clinical relevance: in a same bone site, polymers with close physical properties seem to lead to similar foreign body reactions and induce encapsulating membranes with comparable bone healing properties. polypropylene spacers made from disposable syringes could be a valuable alternative to pmma. these results support the possibility of a cementless masquelet technique in cases of pmma shortage caused by a lack of resources.</td>\n",
              "      <td>the masquelet technique : can disposable polypropylene syrinx be an alternative to standard pmma spacer ? a rat bone defect model . background : usually , the two - stage masquelet induce - membrane technique for extremity reconstruction begin with a polymethylmethacrylate ( pmma ) cement spacer - drive membrane , follow by an autologous cancellous bone graft implant into the membrane cavity to promote healing of large bone defect . in exceptional case , spacer make of polypropylene disposable syrinx be successfully use instead of the usual pmma spacer because of a pmma cement shortage cause by a lack of resource . however , this approach lack clinical evidence and require experimental validation before be recommend as an alternative to the conventional technique.questions/purpose : to ( 1 ) develop and ( 2 ) validate a critical - sized femoral defect model in rat for two stage of the masquelet technique and to ( 3 ) compare the biological and bone healing property of polypropylene - induce membrane and pmma - induce membrane in this model.method : fifty male sprague dawley rat age 8 week old receive a 6 - mm femur defect , which be stabilize with an external fixator that be convert into an internal device . in the development phase , the defect be fill with pmma in 16 rat to determine the most favorable timing for bone grafting . two rat be exclude since they die of anesthetic complication . the other 14 be successively euthanize after 2 week ( n = 3 ) , 4 week ( n = 4 ) , 6 week ( n = 4 ) , and 8 week ( n = 3 ) for induce membrane analysis . in the validation phase , 12 rat undergo both stage of the procedure use a pmma spacer and be randomly assign to two group , whether the induce membrane be preserve or remove before grafting . to address our final objective , we implant either polypropylene or pmma spacer into the defect ( masquelet technique stage 1 ; n = 11 rat per group ) for the period establish by the development phase . in each group , 6 of 11 rat be euthanized to compare the biological property of polypropylene - induce membrane and pmma - induce membrane use histological qualitative analysis , semiquantitative assessment of the bone morphogenic protein-2 content by immunostaine , and qualitative assessment of the mesenchymal stromal cell ( msc ; cd31- , cd45- , cd90 + , and cd73 + phenotype ) content by flow cytometry . quantitative measurement from serum bone turnover marker be also perform . the five remain rat of each group be use for masquelet technique stage 2 , in which rat bone allograft be implant in the induce membrane cavity after the polypropylene or pmma spacer be remove . these rat recover for 10 week before be euthanize for microct quantitative measurement and bone histology qualitative assessment to evaluate and compare the extent of bone regeneration between groups.result : induce membrane analyse together with serum bone turnover measurement indicate that a 4 - week interval time between stage be the most favorable . removal of the induce membrane before grafting lead to almost constant early implant failure with poor bone formation . four - week - old rat with polypropylene - trigger induce membrane display similar histologic organization as rat with pmma - drive induce membrane , without any difference in the cell density of the extracellular matrix ( 4933 ? 916 cell per mm2 for polypropylene versus 4923 ? 1284 cell per mm2 for pmma ; p = 0.98 ) . induce membrane - derive msc be find in both group with no difference ( 4 of 5 with polypropylene versus 3 of 3 with pmma ; p &gt; 0.99 ) . induce membrane bone morphogenic protein-2 immunolabele and serum bone turnover marker level be comparable between the polypropylene and pmma group . microct analysis find that bone regeneration in the polypropylene group seem comparable with that in the pmma group ( 29 ? 26 mm3 for polypropylene versus 24 ? 18 mm3 for pmma ; p &gt; 0.99 ) . finally , qualitative histological assessment reveal a satisfactory endochondral ossification maturation in both groups.conclusion : use a critical - sized femoral defect model in rat , we demonstrate that polypropylene spacer could induce membrane encapsulation with histologic characteristic and bone regenerative capacity that seem like those of pmma spacers.clinical relevance : in a same bone site , polymer with close physical property seem to lead to similar foreign body reaction and induce encapsulate membrane with comparable bone healing property . polypropylene spacer make from disposable syrinx could be a valuable alternative to pmma . these result support the possibility of a cementless masquelet technique in case of pmma shortage cause by a lack of resource .</td>\n",
              "      <td>masquelet technique : disposable polypropylene syrinx alternative standard pmma spacer ? rat bone defect model . background : usually , - stage masquelet induce - membrane technique extremity reconstruction begin polymethylmethacrylate ( pmma ) cement spacer - drive membrane , follow autologous cancellous bone graft implant membrane cavity promote healing large bone defect . exceptional case , spacer polypropylene disposable syrinx successfully use instead usual pmma spacer pmma cement shortage cause lack resource . , approach lack clinical evidence require experimental validation recommend alternative conventional technique.questions/purpose : ( 1 ) develop ( 2 ) validate critical - sized femoral defect model rat stage masquelet technique ( 3 ) compare biological bone healing property polypropylene - induce membrane pmma - induce membrane model.method : male sprague dawley rat age 8 week old receive 6 - mm femur defect , stabilize external fixator convert internal device . development phase , defect fill pmma 16 rat determine favorable timing bone grafting . rat exclude die anesthetic complication . 14 successively euthanize 2 week ( n = 3 ) , 4 week ( n = 4 ) , 6 week ( n = 4 ) , 8 week ( n = 3 ) induce membrane analysis . validation phase , 12 rat undergo stage procedure use pmma spacer randomly assign group , induce membrane preserve remove grafting . address final objective , implant polypropylene pmma spacer defect ( masquelet technique stage 1 ; n = 11 rat group ) period establish development phase . group , 6 11 rat euthanized compare biological property polypropylene - induce membrane pmma - induce membrane use histological qualitative analysis , semiquantitative assessment bone morphogenic protein-2 content immunostaine , qualitative assessment mesenchymal stromal cell ( msc ; cd31- , cd45- , cd90 + , cd73 + phenotype ) content flow cytometry . quantitative measurement serum bone turnover marker perform . remain rat group use masquelet technique stage 2 , rat bone allograft implant induce membrane cavity polypropylene pmma spacer remove . rat recover 10 week euthanize microct quantitative measurement bone histology qualitative assessment evaluate compare extent bone regeneration groups.result : induce membrane analyse serum bone turnover measurement indicate 4 - week interval time stage favorable . removal induce membrane grafting lead constant early implant failure poor bone formation . - week - old rat polypropylene - trigger induce membrane display similar histologic organization rat pmma - drive induce membrane , difference cell density extracellular matrix ( 4933 ? 916 cell mm2 polypropylene versus 4923 ? 1284 cell mm2 pmma ; p = 0.98 ) . induce membrane - derive msc find group difference ( 4 5 polypropylene versus 3 3 pmma ; p &gt; 0.99 ) . induce membrane bone morphogenic protein-2 immunolabele serum bone turnover marker level comparable polypropylene pmma group . microct analysis find bone regeneration polypropylene group comparable pmma group ( 29 ? 26 mm3 polypropylene versus 24 ? 18 mm3 pmma ; p &gt; 0.99 ) . finally , qualitative histological assessment reveal satisfactory endochondral ossification maturation groups.conclusion : use critical - sized femoral defect model rat , demonstrate polypropylene spacer induce membrane encapsulation histologic characteristic bone regenerative capacity like pmma spacers.clinical relevance : bone site , polymer close physical property lead similar foreign body reaction induce encapsulate membrane comparable bone healing property . polypropylene spacer disposable syrinx valuable alternative pmma . result support possibility cementless masquelet technique case pmma shortage cause lack resource .</td>\n",
              "    </tr>\n",
              "    <tr>\n",
              "      <th>2</th>\n",
              "      <td>Amelioration of Hypertension by Oryeongsan through Improvements of Body Fluid and Sodium Balance: Roles of the Renin-Angiotensin System and Atrial Natriuretic Peptide System.</td>\n",
              "      <td>Oryeongsan (Wulingsan in China and Goreisan in Japan), a formula composed of five herbal medicines, has long been used for the treatment of imbalance of the body fluid homeostasis in Asian countries. However, the mechanism by which Oryeongsan (ORS) improves the impaired body fluid and salt metabolism is not clearly defined. The present study was performed to define the role of the cardiorenal humoral system in the ORS-induced changes in blood pressure and renal function in hypertension. Experiments were performed in normotensive and two-kidney, one-clip hypertensive rats. Changes in the fluid and salt balance were measured in rats individually housed in metabolic cages. Changes in the systemic and local renin-angiotensin system (RAS) and cardiac natriuretic peptide hormone system (NPS) were evaluated. ORS water extract was administered by oral gavage (100 mg/kg daily) for 3 weeks. ORS induced diuresis and natriuresis along with an increase in glomerular filtration rate and downregulation of the Na+/H+ exchanger 3 (NHE3) and aquaporin 2 expression in the renal cortex and medulla, respectively. Furthermore, treatment with ORS significantly decreased systolic blood pressure with contraction of body sodium and water accumulation in hypertensive rats. ORS-induced changes were accompanied by modulation of the RAS and NPS, downregulation of the systemic RAS and cardiorenal expression of angiotensin-converting enzyme (ACE) and angiotensin II subtype 1 (AT1) receptor, and upregulation of the plasma ANP concentration and cardiorenal expression of ANP, ACE2, Mas receptor, and AT2 receptor. These findings indicate that ORS induces beneficial effects on the high blood pressure through modulation of the RAS and NPS of the cardiorenal system, suppression of the prohypertensive ACE-AT1 receptor pathway and NHE3, accentuation of the antihypertensive ACE2-Mas axis/AT2 receptor pathway in the kidney, suppression of the systemic RAS, and elevation of the plasma ANP levels and its synthesis in the heart. The present study provides a biological basis for the use of ORS in the treatment of impaired volume and pressure homeostasis. Copyright ? 2022 You Mee Ahn et al.</td>\n",
              "      <td>0</td>\n",
              "      <td>Amelioration of Hypertension by Oryeongsan through Improvements of Body Fluid and Sodium Balance: Roles of the Renin-Angiotensin System and Atrial Natriuretic Peptide System.</td>\n",
              "      <td>amelioration of hypertension by oryeongsan through improvements of body fluid and sodium balance: roles of the renin-angiotensin system and atrial natriuretic peptide system. oryeongsan (wulingsan in china and goreisan in japan), a formula composed of five herbal medicines, has long been used for the treatment of imbalance of the body fluid homeostasis in asian countries. however, the mechanism by which oryeongsan (ors) improves the impaired body fluid and salt metabolism is not clearly defined. the present study was performed to define the role of the cardiorenal humoral system in the ors-induced changes in blood pressure and renal function in hypertension. experiments were performed in normotensive and two-kidney, one-clip hypertensive rats. changes in the fluid and salt balance were measured in rats individually housed in metabolic cages. changes in the systemic and local renin-angiotensin system (ras) and cardiac natriuretic peptide hormone system (nps) were evaluated. ors water extract was administered by oral gavage (100 mg/kg daily) for 3 weeks. ors induced diuresis and natriuresis along with an increase in glomerular filtration rate and downregulation of the na+/h+ exchanger 3 (nhe3) and aquaporin 2 expression in the renal cortex and medulla, respectively. furthermore, treatment with ors significantly decreased systolic blood pressure with contraction of body sodium and water accumulation in hypertensive rats. ors-induced changes were accompanied by modulation of the ras and nps, downregulation of the systemic ras and cardiorenal expression of angiotensin-converting enzyme (ace) and angiotensin ii subtype 1 (at1) receptor, and upregulation of the plasma anp concentration and cardiorenal expression of anp, ace2, mas receptor, and at2 receptor. these findings indicate that ors induces beneficial effects on the high blood pressure through modulation of the ras and nps of the cardiorenal system, suppression of the prohypertensive ace-at1 receptor pathway and nhe3, accentuation of the antihypertensive ace2-mas axis/at2 receptor pathway in the kidney, suppression of the systemic ras, and elevation of the plasma anp levels and its synthesis in the heart. the present study provides a biological basis for the use of ors in the treatment of impaired volume and pressure homeostasis. copyright ? 2022 you mee ahn et al.</td>\n",
              "      <td>amelioration of hypertension by oryeongsan through improvement of body fluid and sodium balance : role of the renin - angiotensin system and atrial natriuretic peptide system . oryeongsan ( wulingsan in china and goreisan in japan ) , a formula compose of five herbal medicine , have long be use for the treatment of imbalance of the body fluid homeostasis in asian country . however , the mechanism by which oryeongsan ( ors ) improve the impaired body fluid and salt metabolism be not clearly define . the present study be perform to define the role of the cardiorenal humoral system in the ors - induce change in blood pressure and renal function in hypertension . experiment be perform in normotensive and two - kidney , one - clip hypertensive rat . change in the fluid and salt balance be measure in rat individually house in metabolic cage . change in the systemic and local renin - angiotensin system ( ras ) and cardiac natriuretic peptide hormone system ( nps ) be evaluate . or water extract be administer by oral gavage ( 100 mg / kg daily ) for 3 week . or induce diuresis and natriuresis along with an increase in glomerular filtration rate and downregulation of the na+/h+ exchanger 3 ( nhe3 ) and aquaporin 2 expression in the renal cortex and medulla , respectively . furthermore , treatment with or significantly decrease systolic blood pressure with contraction of body sodium and water accumulation in hypertensive rat . or - induce change be accompany by modulation of the ras and nps , downregulation of the systemic ras and cardiorenal expression of angiotensin - convert enzyme ( ace ) and angiotensin ii subtype 1 ( at1 ) receptor , and upregulation of the plasma anp concentration and cardiorenal expression of anp , ace2 , mas receptor , and at2 receptor . these finding indicate that or induce beneficial effect on the high blood pressure through modulation of the ras and nps of the cardiorenal system , suppression of the prohypertensive ace - at1 receptor pathway and nhe3 , accentuation of the antihypertensive ace2 - mas axis / at2 receptor pathway in the kidney , suppression of the systemic ras , and elevation of the plasma anp level and its synthesis in the heart . the present study provide a biological basis for the use of or in the treatment of impair volume and pressure homeostasis . copyright ? 2022 you mee ahn et al .</td>\n",
              "      <td>amelioration hypertension oryeongsan improvement body fluid sodium balance : role renin - angiotensin system atrial natriuretic peptide system . oryeongsan ( wulingsan china goreisan japan ) , formula compose herbal medicine , long use treatment imbalance body fluid homeostasis asian country . , mechanism oryeongsan ( ors ) improve impaired body fluid salt metabolism clearly define . present study perform define role cardiorenal humoral system ors - induce change blood pressure renal function hypertension . experiment perform normotensive - kidney , - clip hypertensive rat . change fluid salt balance measure rat individually house metabolic cage . change systemic local renin - angiotensin system ( ras ) cardiac natriuretic peptide hormone system ( nps ) evaluate . water extract administer oral gavage ( 100 mg / kg daily ) 3 week . induce diuresis natriuresis increase glomerular filtration rate downregulation na+/h+ exchanger 3 ( nhe3 ) aquaporin 2 expression renal cortex medulla , respectively . furthermore , treatment significantly decrease systolic blood pressure contraction body sodium water accumulation hypertensive rat . - induce change accompany modulation ras nps , downregulation systemic ras cardiorenal expression angiotensin - convert enzyme ( ace ) angiotensin ii subtype 1 ( at1 ) receptor , upregulation plasma anp concentration cardiorenal expression anp , ace2 , mas receptor , at2 receptor . finding indicate induce beneficial effect high blood pressure modulation ras nps cardiorenal system , suppression prohypertensive ace - at1 receptor pathway nhe3 , accentuation antihypertensive ace2 - mas axis / at2 receptor pathway kidney , suppression systemic ras , elevation plasma anp level synthesis heart . present study provide biological basis use treatment impair volume pressure homeostasis . copyright ? 2022 mee ahn et al .</td>\n",
              "    </tr>\n",
              "    <tr>\n",
              "      <th>3</th>\n",
              "      <td>The effect of sodium profiling and feedback technologies on plasma conductivity and ionic mass balance: a study in hypotension-prone dialysis patients.</td>\n",
              "      <td>BACKGROUND: Sodium profiling improves haemodynamic tolerance in haemodialysis (HD) patients but may also influence sodium homeostasis. Changes in blood volume and plasma conductivity (PC) during HD can be modelled by feedback technology, but their effects on sodium homeostasis are not widely studied., METHODS: This randomized crossover study compared PC and ionic mass balance (IMB) as surrogate markers of sodium balance between standard HD [dialysate conductivity (DC) 14.0 mS/cm], sodium profiling (DC 15.0--&gt;14.0 mS/cm), blood volume (BV)-controlled and PC-controlled feedback (target: post-HD PC: 14.0 mS/cm) in 10 HD patients with frequent hypotension., RESULTS: 440 treatments were studied. Pre-dialytic PC was significantly higher during SP (14.4+/-0.2 mS/cm) compared to standard HD (14.2+/-0.3 mS/cm), and was not different between the other manoeuvres: PC-controlled (14.1+/-0.3 mS/cm), and BV-controlled feedback (14.2+/-0.2 mS/cm). Except for the first treatment, during which IMB was lower during the sodium profile, IMB did not differ significantly between the various manoeuvres and was strongly dependent upon ultrafiltration volume and the difference between pre-dialytic PC and DC. Symptomatic hypotensive episodes occurred least frequently during BV-controlled feedback (8%) compared to the other manoeuvres (standard HD, 16%; sodium profile, 14%; PC-controlled feedback, 17%), but differences were not significant. Inter-dialytic weight gain and pre-dialytic systolic blood pressure did not differ., CONCLUSIONS: Pre-dialytic PC increased during the sodium profile, and did not differ between BV- or PC-controlled feedback compared to standard HD. Thus, it appears that both BV- and PC-controlled feedback can be safely prescribed without substantial salt- and water-loading, at least in the short term. Analysis of IMB is useful to assess differences in sodium balance between single treatment sessions but appears of less value in a steady-state situation.</td>\n",
              "      <td>1</td>\n",
              "      <td>The effect of sodium profiling and feedback technologies on plasma conductivity and ionic mass balance: a study in hypotension-prone dialysis patients.</td>\n",
              "      <td>the effect of sodium profiling and feedback technologies on plasma conductivity and ionic mass balance: a study in hypotension-prone dialysis patients. background: sodium profiling improves haemodynamic tolerance in haemodialysis (hd) patients but may also influence sodium homeostasis. changes in blood volume and plasma conductivity (pc) during hd can be modelled by feedback technology, but their effects on sodium homeostasis are not widely studied., methods: this randomized crossover study compared pc and ionic mass balance (imb) as surrogate markers of sodium balance between standard hd [dialysate conductivity (dc) 14.0 ms/cm], sodium profiling (dc 15.0--&gt;14.0 ms/cm), blood volume (bv)-controlled and pc-controlled feedback (target: post-hd pc: 14.0 ms/cm) in 10 hd patients with frequent hypotension., results: 440 treatments were studied. pre-dialytic pc was significantly higher during sp (14.4+/-0.2 ms/cm) compared to standard hd (14.2+/-0.3 ms/cm), and was not different between the other manoeuvres: pc-controlled (14.1+/-0.3 ms/cm), and bv-controlled feedback (14.2+/-0.2 ms/cm). except for the first treatment, during which imb was lower during the sodium profile, imb did not differ significantly between the various manoeuvres and was strongly dependent upon ultrafiltration volume and the difference between pre-dialytic pc and dc. symptomatic hypotensive episodes occurred least frequently during bv-controlled feedback (8%) compared to the other manoeuvres (standard hd, 16%; sodium profile, 14%; pc-controlled feedback, 17%), but differences were not significant. inter-dialytic weight gain and pre-dialytic systolic blood pressure did not differ., conclusions: pre-dialytic pc increased during the sodium profile, and did not differ between bv- or pc-controlled feedback compared to standard hd. thus, it appears that both bv- and pc-controlled feedback can be safely prescribed without substantial salt- and water-loading, at least in the short term. analysis of imb is useful to assess differences in sodium balance between single treatment sessions but appears of less value in a steady-state situation.</td>\n",
              "      <td>the effect of sodium profiling and feedback technology on plasma conductivity and ionic mass balance : a study in hypotension - prone dialysis patient . background : sodium profiling improve haemodynamic tolerance in haemodialysis ( hd ) patient but may also influence sodium homeostasis . change in blood volume and plasma conductivity ( pc ) during hd can be model by feedback technology , but their effect on sodium homeostasis be not widely study . , method : this randomize crossover study compare pc and ionic mass balance ( imb ) as surrogate marker of sodium balance between standard hd [ dialysate conductivity ( dc ) 14.0 ms / cm ] , sodium profiling ( dc 15.0 - -&gt;14.0 ms / cm ) , blood volume ( bv)-controlle and pc - control feedback ( target : post - hd pc : 14.0 ms / cm ) in 10 hd patient with frequent hypotension . , result : 440 treatment be study . pre - dialytic pc be significantly high during sp ( 14.4+/-0.2 ms / cm ) compare to standard hd ( 14.2+/-0.3 ms / cm ) , and be not different between the other manoeuvre : pc - control ( 14.1+/-0.3 ms / cm ) , and bv - control feedback ( 14.2+/-0.2 ms / cm ) . except for the first treatment , during which imb be low during the sodium profile , imb do not differ significantly between the various manoeuvre and be strongly dependent upon ultrafiltration volume and the difference between pre - dialytic pc and dc . symptomatic hypotensive episode occur least frequently during bv - control feedback ( 8 % ) compare to the other manoeuvre ( standard hd , 16 % ; sodium profile , 14 % ; pc - control feedback , 17 % ) , but difference be not significant . inter - dialytic weight gain and pre - dialytic systolic blood pressure do not differ . , conclusion : pre - dialytic pc increase during the sodium profile , and do not differ between bv- or pc - control feedback compare to standard hd . thus , it appear that both bv- and pc - control feedback can be safely prescribe without substantial salt- and water - loading , at least in the short term . analysis of imb be useful to assess difference in sodium balance between single treatment session but appear of less value in a steady - state situation .</td>\n",
              "      <td>effect sodium profiling feedback technology plasma conductivity ionic mass balance : study hypotension - prone dialysis patient . background : sodium profiling improve haemodynamic tolerance haemodialysis ( hd ) patient influence sodium homeostasis . change blood volume plasma conductivity ( pc ) hd model feedback technology , effect sodium homeostasis widely study . , method : randomize crossover study compare pc ionic mass balance ( imb ) surrogate marker sodium balance standard hd [ dialysate conductivity ( dc ) 14.0 ms / cm ] , sodium profiling ( dc 15.0 - -&gt;14.0 ms / cm ) , blood volume ( bv)-controlle pc - control feedback ( target : post - hd pc : 14.0 ms / cm ) 10 hd patient frequent hypotension . , result : 440 treatment study . pre - dialytic pc significantly high sp ( 14.4+/-0.2 ms / cm ) compare standard hd ( 14.2+/-0.3 ms / cm ) , different manoeuvre : pc - control ( 14.1+/-0.3 ms / cm ) , bv - control feedback ( 14.2+/-0.2 ms / cm ) . treatment , imb low sodium profile , imb differ significantly manoeuvre strongly dependent ultrafiltration volume difference pre - dialytic pc dc . symptomatic hypotensive episode occur frequently bv - control feedback ( 8 % ) compare manoeuvre ( standard hd , 16 % ; sodium profile , 14 % ; pc - control feedback , 17 % ) , difference significant . inter - dialytic weight gain pre - dialytic systolic blood pressure differ . , conclusion : pre - dialytic pc increase sodium profile , differ bv- pc - control feedback compare standard hd . , appear bv- pc - control feedback safely prescribe substantial salt- water - loading , short term . analysis imb useful assess difference sodium balance single treatment session appear value steady - state situation .</td>\n",
              "    </tr>\n",
              "    <tr>\n",
              "      <th>4</th>\n",
              "      <td>Differential effects of inhibitors of PTZ-induced kindling on glutamate transporters and enzyme expression</td>\n",
              "      <td>Epilepsy is a neurological disorder resulting from abnormal neuronal firing in the brain. Glutamate transporters and the glutamate-glutamine cycle play crucial roles in the development of seizures. In the present study, the correlation of epilepsy with glutamate transporters and enzymes was investigated. Herein, male Wistar rats were randomly allocated into four groups (six animals/group); 35 mg/kg pentylenetetrazole (PTZ) was used to induce a kindling model of epilepsy. Once the kindling model was established, animals were treated for 15 days with either valproic acid (VPA, 350 mg/kg) or ceftriaxone (CEF, 200 mg/kg) in addition to the control group receiving saline. After treatment, electrocorticography (ECoG) was performed to record the electrical activity of the cerebral cortex. The glutamate reuptake time (T80) was also determined in situ using an in vivo voltammetry. The expression levels of glutamate transporters and enzymes in the M1 and CA3 areas of the brain were determined using a real-time polymerase chain reaction (RT-PCR). ECoG measurements showed that the mean spike number of the PTZ + VPA and PTZ + CEF groups was significantly lower (p &lt; 0.05) than that of the PTZ group. Compared with the PTZ group, VPA or CEF treatment decreased the glutamate reuptake time (T80). The expression levels of EAAC1, GLT-1, GLAST, glutamine synthetase (GS), and glutaminase were increased in the PTZ group. Treatment with VPA or CEF enhanced the expression levels of GLT-1, GLAST, EAAC1, and GS, whereas the glutaminase expression level was reduced. The current results suggest that VPA or CEF decreases seizure activity by increasing glutamate reuptake by upregulating GLT-1 and GLAST expression, implying a possible mechanism for treating epilepsy. Also, we have suggested a novel mechanism for the antiepileptic activity of VPA via decreasing glutaminase expression levels. To our knowledge, this is the first study to measure the glutamate reuptake time in situ during the seizure (i.e., real-time measurement).Copyright ? 2021 John Wiley &amp; Sons Australia, Ltd.</td>\n",
              "      <td>0</td>\n",
              "      <td>Differential effects of inhibitors of PTZ-induced kindling on glutamate transporters and enzyme expression</td>\n",
              "      <td>differential effects of inhibitors of ptz-induced kindling on glutamate transporters and enzyme expression epilepsy is a neurological disorder resulting from abnormal neuronal firing in the brain. glutamate transporters and the glutamate-glutamine cycle play crucial roles in the development of seizures. in the present study, the correlation of epilepsy with glutamate transporters and enzymes was investigated. herein, male wistar rats were randomly allocated into four groups (six animals/group); 35 mg/kg pentylenetetrazole (ptz) was used to induce a kindling model of epilepsy. once the kindling model was established, animals were treated for 15 days with either valproic acid (vpa, 350 mg/kg) or ceftriaxone (cef, 200 mg/kg) in addition to the control group receiving saline. after treatment, electrocorticography (ecog) was performed to record the electrical activity of the cerebral cortex. the glutamate reuptake time (t80) was also determined in situ using an in vivo voltammetry. the expression levels of glutamate transporters and enzymes in the m1 and ca3 areas of the brain were determined using a real-time polymerase chain reaction (rt-pcr). ecog measurements showed that the mean spike number of the ptz + vpa and ptz + cef groups was significantly lower (p &lt; 0.05) than that of the ptz group. compared with the ptz group, vpa or cef treatment decreased the glutamate reuptake time (t80). the expression levels of eaac1, glt-1, glast, glutamine synthetase (gs), and glutaminase were increased in the ptz group. treatment with vpa or cef enhanced the expression levels of glt-1, glast, eaac1, and gs, whereas the glutaminase expression level was reduced. the current results suggest that vpa or cef decreases seizure activity by increasing glutamate reuptake by upregulating glt-1 and glast expression, implying a possible mechanism for treating epilepsy. also, we have suggested a novel mechanism for the antiepileptic activity of vpa via decreasing glutaminase expression levels. to our knowledge, this is the first study to measure the glutamate reuptake time in situ during the seizure (i.e., real-time measurement).copyright ? 2021 john wiley &amp; sons australia, ltd.</td>\n",
              "      <td>differential effect of inhibitor of ptz - induce kindling on glutamate transporter and enzyme expression epilepsy be a neurological disorder result from abnormal neuronal firing in the brain . glutamate transporter and the glutamate - glutamine cycle play crucial role in the development of seizure . in the present study , the correlation of epilepsy with glutamate transporter and enzyme be investigate . herein , male wistar rat be randomly allocate into four group ( six animal / group ) ; 35 mg / kg pentylenetetrazole ( ptz ) be use to induce a kindling model of epilepsy . once the kindling model be establish , animal be treat for 15 day with either valproic acid ( vpa , 350 mg / kg ) or ceftriaxone ( cef , 200 mg / kg ) in addition to the control group receive saline . after treatment , electrocorticography ( ecog ) be perform to record the electrical activity of the cerebral cortex . the glutamate reuptake time ( t80 ) be also determine in situ use an in vivo voltammetry . the expression level of glutamate transporter and enzyme in the m1 and ca3 area of the brain be determine use a real - time polymerase chain reaction ( rt - pcr ) . ecog measurement show that the mean spike number of the ptz + vpa and ptz + cef group be significantly low ( p &lt; 0.05 ) than that of the ptz group . compare with the ptz group , vpa or cef treatment decrease the glutamate reuptake time ( t80 ) . the expression level of eaac1 , glt-1 , glast , glutamine synthetase ( gs ) , and glutaminase be increase in the ptz group . treatment with vpa or cef enhance the expression level of glt-1 , glast , eaac1 , and gs , whereas the glutaminase expression level be reduce . the current result suggest that vpa or cef decrease seizure activity by increase glutamate reuptake by upregulate glt-1 and glast expression , imply a possible mechanism for treat epilepsy . also , we have suggest a novel mechanism for the antiepileptic activity of vpa via decrease glutaminase expression level . to our knowledge , this be the first study to measure the glutamate reuptake time in situ during the seizure ( i.e. , real - time measurement).copyright ? 2021 john wiley &amp; sons australia , ltd .</td>\n",
              "      <td>differential effect inhibitor ptz - induce kindling glutamate transporter enzyme expression epilepsy neurological disorder result abnormal neuronal firing brain . glutamate transporter glutamate - glutamine cycle play crucial role development seizure . present study , correlation epilepsy glutamate transporter enzyme investigate . , male wistar rat randomly allocate group ( animal / group ) ; 35 mg / kg pentylenetetrazole ( ptz ) use induce kindling model epilepsy . kindling model establish , animal treat 15 day valproic acid ( vpa , 350 mg / kg ) ceftriaxone ( cef , 200 mg / kg ) addition control group receive saline . treatment , electrocorticography ( ecog ) perform record electrical activity cerebral cortex . glutamate reuptake time ( t80 ) determine situ use vivo voltammetry . expression level glutamate transporter enzyme m1 ca3 area brain determine use real - time polymerase chain reaction ( rt - pcr ) . ecog measurement mean spike number ptz + vpa ptz + cef group significantly low ( p &lt; 0.05 ) ptz group . compare ptz group , vpa cef treatment decrease glutamate reuptake time ( t80 ) . expression level eaac1 , glt-1 , glast , glutamine synthetase ( gs ) , glutaminase increase ptz group . treatment vpa cef enhance expression level glt-1 , glast , eaac1 , gs , glutaminase expression level reduce . current result suggest vpa cef decrease seizure activity increase glutamate reuptake upregulate glt-1 glast expression , imply possible mechanism treat epilepsy . , suggest novel mechanism antiepileptic activity vpa decrease glutaminase expression level . knowledge , study measure glutamate reuptake time situ seizure ( i.e. , real - time measurement).copyright ? 2021 john wiley &amp; sons australia , ltd .</td>\n",
              "    </tr>\n",
              "  </tbody>\n",
              "</table>\n",
              "</div>\n",
              "    <div class=\"colab-df-buttons\">\n",
              "\n",
              "  <div class=\"colab-df-container\">\n",
              "    <button class=\"colab-df-convert\" onclick=\"convertToInteractive('df-ad6b8099-f809-4c54-8e17-65cc557b24ad')\"\n",
              "            title=\"Convert this dataframe to an interactive table.\"\n",
              "            style=\"display:none;\">\n",
              "\n",
              "  <svg xmlns=\"http://www.w3.org/2000/svg\" height=\"24px\" viewBox=\"0 -960 960 960\">\n",
              "    <path d=\"M120-120v-720h720v720H120Zm60-500h600v-160H180v160Zm220 220h160v-160H400v160Zm0 220h160v-160H400v160ZM180-400h160v-160H180v160Zm440 0h160v-160H620v160ZM180-180h160v-160H180v160Zm440 0h160v-160H620v160Z\"/>\n",
              "  </svg>\n",
              "    </button>\n",
              "\n",
              "  <style>\n",
              "    .colab-df-container {\n",
              "      display:flex;\n",
              "      gap: 12px;\n",
              "    }\n",
              "\n",
              "    .colab-df-convert {\n",
              "      background-color: #E8F0FE;\n",
              "      border: none;\n",
              "      border-radius: 50%;\n",
              "      cursor: pointer;\n",
              "      display: none;\n",
              "      fill: #1967D2;\n",
              "      height: 32px;\n",
              "      padding: 0 0 0 0;\n",
              "      width: 32px;\n",
              "    }\n",
              "\n",
              "    .colab-df-convert:hover {\n",
              "      background-color: #E2EBFA;\n",
              "      box-shadow: 0px 1px 2px rgba(60, 64, 67, 0.3), 0px 1px 3px 1px rgba(60, 64, 67, 0.15);\n",
              "      fill: #174EA6;\n",
              "    }\n",
              "\n",
              "    .colab-df-buttons div {\n",
              "      margin-bottom: 4px;\n",
              "    }\n",
              "\n",
              "    [theme=dark] .colab-df-convert {\n",
              "      background-color: #3B4455;\n",
              "      fill: #D2E3FC;\n",
              "    }\n",
              "\n",
              "    [theme=dark] .colab-df-convert:hover {\n",
              "      background-color: #434B5C;\n",
              "      box-shadow: 0px 1px 3px 1px rgba(0, 0, 0, 0.15);\n",
              "      filter: drop-shadow(0px 1px 2px rgba(0, 0, 0, 0.3));\n",
              "      fill: #FFFFFF;\n",
              "    }\n",
              "  </style>\n",
              "\n",
              "    <script>\n",
              "      const buttonEl =\n",
              "        document.querySelector('#df-ad6b8099-f809-4c54-8e17-65cc557b24ad button.colab-df-convert');\n",
              "      buttonEl.style.display =\n",
              "        google.colab.kernel.accessAllowed ? 'block' : 'none';\n",
              "\n",
              "      async function convertToInteractive(key) {\n",
              "        const element = document.querySelector('#df-ad6b8099-f809-4c54-8e17-65cc557b24ad');\n",
              "        const dataTable =\n",
              "          await google.colab.kernel.invokeFunction('convertToInteractive',\n",
              "                                                    [key], {});\n",
              "        if (!dataTable) return;\n",
              "\n",
              "        const docLinkHtml = 'Like what you see? Visit the ' +\n",
              "          '<a target=\"_blank\" href=https://colab.research.google.com/notebooks/data_table.ipynb>data table notebook</a>'\n",
              "          + ' to learn more about interactive tables.';\n",
              "        element.innerHTML = '';\n",
              "        dataTable['output_type'] = 'display_data';\n",
              "        await google.colab.output.renderOutput(dataTable, element);\n",
              "        const docLink = document.createElement('div');\n",
              "        docLink.innerHTML = docLinkHtml;\n",
              "        element.appendChild(docLink);\n",
              "      }\n",
              "    </script>\n",
              "  </div>\n",
              "\n",
              "\n",
              "<div id=\"df-d2b6a62e-bc77-44f0-a093-38083f6bd514\">\n",
              "  <button class=\"colab-df-quickchart\" onclick=\"quickchart('df-d2b6a62e-bc77-44f0-a093-38083f6bd514')\"\n",
              "            title=\"Suggest charts\"\n",
              "            style=\"display:none;\">\n",
              "\n",
              "<svg xmlns=\"http://www.w3.org/2000/svg\" height=\"24px\"viewBox=\"0 0 24 24\"\n",
              "     width=\"24px\">\n",
              "    <g>\n",
              "        <path d=\"M19 3H5c-1.1 0-2 .9-2 2v14c0 1.1.9 2 2 2h14c1.1 0 2-.9 2-2V5c0-1.1-.9-2-2-2zM9 17H7v-7h2v7zm4 0h-2V7h2v10zm4 0h-2v-4h2v4z\"/>\n",
              "    </g>\n",
              "</svg>\n",
              "  </button>\n",
              "\n",
              "<style>\n",
              "  .colab-df-quickchart {\n",
              "      --bg-color: #E8F0FE;\n",
              "      --fill-color: #1967D2;\n",
              "      --hover-bg-color: #E2EBFA;\n",
              "      --hover-fill-color: #174EA6;\n",
              "      --disabled-fill-color: #AAA;\n",
              "      --disabled-bg-color: #DDD;\n",
              "  }\n",
              "\n",
              "  [theme=dark] .colab-df-quickchart {\n",
              "      --bg-color: #3B4455;\n",
              "      --fill-color: #D2E3FC;\n",
              "      --hover-bg-color: #434B5C;\n",
              "      --hover-fill-color: #FFFFFF;\n",
              "      --disabled-bg-color: #3B4455;\n",
              "      --disabled-fill-color: #666;\n",
              "  }\n",
              "\n",
              "  .colab-df-quickchart {\n",
              "    background-color: var(--bg-color);\n",
              "    border: none;\n",
              "    border-radius: 50%;\n",
              "    cursor: pointer;\n",
              "    display: none;\n",
              "    fill: var(--fill-color);\n",
              "    height: 32px;\n",
              "    padding: 0;\n",
              "    width: 32px;\n",
              "  }\n",
              "\n",
              "  .colab-df-quickchart:hover {\n",
              "    background-color: var(--hover-bg-color);\n",
              "    box-shadow: 0 1px 2px rgba(60, 64, 67, 0.3), 0 1px 3px 1px rgba(60, 64, 67, 0.15);\n",
              "    fill: var(--button-hover-fill-color);\n",
              "  }\n",
              "\n",
              "  .colab-df-quickchart-complete:disabled,\n",
              "  .colab-df-quickchart-complete:disabled:hover {\n",
              "    background-color: var(--disabled-bg-color);\n",
              "    fill: var(--disabled-fill-color);\n",
              "    box-shadow: none;\n",
              "  }\n",
              "\n",
              "  .colab-df-spinner {\n",
              "    border: 2px solid var(--fill-color);\n",
              "    border-color: transparent;\n",
              "    border-bottom-color: var(--fill-color);\n",
              "    animation:\n",
              "      spin 1s steps(1) infinite;\n",
              "  }\n",
              "\n",
              "  @keyframes spin {\n",
              "    0% {\n",
              "      border-color: transparent;\n",
              "      border-bottom-color: var(--fill-color);\n",
              "      border-left-color: var(--fill-color);\n",
              "    }\n",
              "    20% {\n",
              "      border-color: transparent;\n",
              "      border-left-color: var(--fill-color);\n",
              "      border-top-color: var(--fill-color);\n",
              "    }\n",
              "    30% {\n",
              "      border-color: transparent;\n",
              "      border-left-color: var(--fill-color);\n",
              "      border-top-color: var(--fill-color);\n",
              "      border-right-color: var(--fill-color);\n",
              "    }\n",
              "    40% {\n",
              "      border-color: transparent;\n",
              "      border-right-color: var(--fill-color);\n",
              "      border-top-color: var(--fill-color);\n",
              "    }\n",
              "    60% {\n",
              "      border-color: transparent;\n",
              "      border-right-color: var(--fill-color);\n",
              "    }\n",
              "    80% {\n",
              "      border-color: transparent;\n",
              "      border-right-color: var(--fill-color);\n",
              "      border-bottom-color: var(--fill-color);\n",
              "    }\n",
              "    90% {\n",
              "      border-color: transparent;\n",
              "      border-bottom-color: var(--fill-color);\n",
              "    }\n",
              "  }\n",
              "</style>\n",
              "\n",
              "  <script>\n",
              "    async function quickchart(key) {\n",
              "      const quickchartButtonEl =\n",
              "        document.querySelector('#' + key + ' button');\n",
              "      quickchartButtonEl.disabled = true;  // To prevent multiple clicks.\n",
              "      quickchartButtonEl.classList.add('colab-df-spinner');\n",
              "      try {\n",
              "        const charts = await google.colab.kernel.invokeFunction(\n",
              "            'suggestCharts', [key], {});\n",
              "      } catch (error) {\n",
              "        console.error('Error during call to suggestCharts:', error);\n",
              "      }\n",
              "      quickchartButtonEl.classList.remove('colab-df-spinner');\n",
              "      quickchartButtonEl.classList.add('colab-df-quickchart-complete');\n",
              "    }\n",
              "    (() => {\n",
              "      let quickchartButtonEl =\n",
              "        document.querySelector('#df-d2b6a62e-bc77-44f0-a093-38083f6bd514 button');\n",
              "      quickchartButtonEl.style.display =\n",
              "        google.colab.kernel.accessAllowed ? 'block' : 'none';\n",
              "    })();\n",
              "  </script>\n",
              "</div>\n",
              "\n",
              "    </div>\n",
              "  </div>\n"
            ],
            "application/vnd.google.colaboratory.intrinsic+json": {
              "type": "dataframe",
              "variable_name": "shuffled_combined_df",
              "summary": "{\n  \"name\": \"shuffled_combined_df\",\n  \"rows\": 4148,\n  \"fields\": [\n    {\n      \"column\": \"title\",\n      \"properties\": {\n        \"dtype\": \"string\",\n        \"num_unique_values\": 4148,\n        \"samples\": [\n          \"Resting state fMRI connectivity analysis as a tool for detection of abnormalities in five different cognitive networks of the brain in Multiple Sclerosis patients.\",\n          \"Decrease in serum leptin by troglitazone is associated with preventing bone loss in type 2 diabetic patients.\",\n          \"Analysis of the frequencies and of the memory T cell phenotypes of human CD8+ T cells specific for influenza A viruses.\"\n        ],\n        \"semantic_type\": \"\",\n        \"description\": \"\"\n      }\n    },\n    {\n      \"column\": \"abstract\",\n      \"properties\": {\n        \"dtype\": \"string\",\n        \"num_unique_values\": 4145,\n        \"samples\": [\n          \"Introduction: Large animal-related injuries (LARI) are relatively uncommon, but, nevertheless, a public hazard. The objective of this study was to better understand LARI injury patterns and outcomes.Materials and Methods: We performed a retrospective review of the 2016 National Trauma Data Bank and used ICD-10 codes to identify patients injured by a large animal. The primary outcome was severe injury pattern, while secondary outcomes included mortality, hospital length of stay, ICU admission, and mechanical ventilation usage.Results: There were 6,662 LARI included in our analysis. Most LARI (66%) occurred while riding the animal, and the most common type of LARI was fall from horse (63%). The median ISS was 9 and the most severe injuries (AIS ? 3) were to the chest (19%), head (10%), and lower extremities (10%). The overall mortality was low at 0.8%. Compared to non-riders, riders sustained more severe injuries to the chest (21% vs. 16%, p<0.001) and spine (4% vs. 2%, p<0.001). Compared to motor vehicle collisions (MVC), riders sustained fewer severe injuries to the head (10% vs. 12%, p<0.001) and lower extremity (10% vs. 12%, p=0.01). Compared to auto-pedestrian accidents, non-riders sustained fewer severe injuries to the head (11% vs. 19%, p<0.001) and lower extremity (10% vs. 20%, p<0.001).Conclusion: Patients involved in a LARI are moderately injured with more complex injuries occurring in the chest, head, and lower extremities. Fall from horse was the most common LARI mechanism. Overall mortality was low. Compared to non-riders, riders were more likely to sustain severe injuries to the chest and spine. Severe injury patterns were similar when comparing riders to MVC and, given that most LARI are riding injuries, we recommend trauma teams approach LARI as they would an MVC.\",\n          \"BACKGROUND: Metformin appears to improve reproductive function in some women with polycystic ovary syndrome (PCOS). We wished to explore the effect of metformin in women with PCOS undergoing IVF., METHODS: A randomized, placebo-controlled, double-blind study was carried out between 2001 and 2004. Patients with PCOS undergoing IVF/ICSI treatment using a long GnRH agonist protocol were randomized to receive metformin (MET), 850 mg, or placebo (PLA) tablets twice daily from the start of the down-regulation process until the day of oocyte collection. The primary outcome was to be an improvement in the overall fertilization rate., RESULTS: One-hundred and one IVF/ICSI cycles were randomized to receive metformin (52) or to receive placebo (49). There was no difference in the total dose of rFSH required per cycle (median dose: MET = 1200 U, PLA = 1300 U; P = 0.937). The median number of oocytes retrieved per cycle (MET = 17.2, PLA = 16.2; P = 0.459) and the overall fertilization rates (MET = 52.9%, PLA = 54.9%; P = 0.641) did not differ. However, both the clinical pregnancy rates beyond 12 weeks gestation per cycle (MET = 38.5%, PLA = 16.3%; P = 0.023) and per embryo transfer (MET = 44.4%, PLA = 19.1%; P = 0.022) were significantly higher in those treated with metformin. Furthermore, a significant decrease in the incidence of severe ovarian hyperstimulation syndrome (OHSS) was observed (MET = 3.8%, PLA = 20.4%; P = 0.023), and this was still significant after adjustment for BMI, total rFSH dose and age (OR = 0.15; 95% CI: 0.03, 0.76; P = 0.022)., CONCLUSION: Short-term co-treatment with metformin for patients with PCOS undergoing IVF/ICSI cycles does not improve the response to stimulation but significantly improves the pregnancy outcome and reduces the risk of OHSS.\",\n          \"BACKGROUND: Galacto-oligosaccharides (GOS) are non-digestible food ingredients that promote the growth of beneficial bacteria in the gut. This study investigated the protective effect of the early-life GOS supplement on the piglets' gut function against the oxidative stress induced by lipopolysaccharide (LPS)-challenge., METHODS: Eighteen neonatal piglets were assigned to three groups including CON, LPS and LPS + GOS groups. The piglets in CON group and LPS group received physiological saline, while those in LPS + GOS group received GOS solution for 13 d after birth. On d 14, the piglets in LPS group and LPS + GOS group were injected with LPS solutions, while the piglets in CON group were injected with the same volume of physiological saline., RESULTS: The results showed that the early-life GOS supplement blocked the LPS-induced reactive oxygen species (ROS) secretion, malondialdehyde (MDA) production and the increase of pro-apoptotic factor expression. Meanwhile, the early-life GOS supplement improved the activities of antioxidant enzymes, disaccharidase enzymes activities, and digestive enzymes activities, and increased the mRNA abundance of the gene related to nutrient digestion and absorption and the relative protein expression of tight junction. The study also showed that the early-life GOS supplement improved the expression of Hemeoxygenase-1 (HO-1) and NAD(P)H/quinone acceptor oxidoreductase-1 (NQO-1), and activated the AMP-activated protein kinase (AMPK)., CONCLUSIONS: These results suggested that GOS enhanced the gut function, reduced the ROS production and pro-apoptotic factors gene expression, and activated the AMPK signaling pathway in LPS-challenged piglets. Copyright ? 2022. The Author(s).\"\n        ],\n        \"semantic_type\": \"\",\n        \"description\": \"\"\n      }\n    },\n    {\n      \"column\": \"label\",\n      \"properties\": {\n        \"dtype\": \"number\",\n        \"std\": 0,\n        \"min\": 0,\n        \"max\": 1,\n        \"num_unique_values\": 2,\n        \"samples\": [\n          0,\n          1\n        ],\n        \"semantic_type\": \"\",\n        \"description\": \"\"\n      }\n    },\n    {\n      \"column\": \"title_orig\",\n      \"properties\": {\n        \"dtype\": \"string\",\n        \"num_unique_values\": 4148,\n        \"samples\": [\n          \"Resting state fMRI connectivity analysis as a tool for detection of abnormalities in five different cognitive networks of the brain in Multiple Sclerosis patients.\",\n          \"Decrease in serum leptin by troglitazone is associated with preventing bone loss in type 2 diabetic patients.\"\n        ],\n        \"semantic_type\": \"\",\n        \"description\": \"\"\n      }\n    },\n    {\n      \"column\": \"titleabstract\",\n      \"properties\": {\n        \"dtype\": \"string\",\n        \"num_unique_values\": 4148,\n        \"samples\": [\n          \"resting state fmri connectivity analysis as a tool for detection of abnormalities in five different cognitive networks of the brain in multiple sclerosis patients. objectives: cognitive dysfunction is present in at least half of patients with multiple sclerosis. the purpose of this study was to examine functional connectivity abnormalities in patients with multiple sclerosis (ms) using resting state fmri (rsfmri)., methods: conventional mri, rsfmri and diffusion tensor imaging (dti) data was acquired from 10 patients with relapsing-remitting multiple sclerosis (rrms) and 20 healthy controls. cross-correlation of the resting state average signal among the voxels in each brain region of the five cognitive networks: default mode network (dmn), attention, verbal memory, memory, and visuospatial working memory network, was calculated. voxelwise analyses were used to investigate fractional anisotropy (fa) of white matter tracts. the normalized gray matter (gm), white matter and thalamus volumes were calculated., results: compared to controls, significant deficit in ms patients at each of five networks, attention (p=0.026), dmn (p=0.004), verbal memory (p<0.001), memory (p=0.001), visuospatial working memory (p=0.003) was found. significant reduction (p=0.034) in the normalized gm volume and asymmetry in thalamus volume (p=0.041) was detected in ms patients compared to controls., conclusion: wide spread of functional abnormalities are present within different cognitive networks in patients with rrms, suggesting that dmn may not be sufficient for measurement of ms cognitive impairment. larger and longitudinal studies should ascertain whether rsfmri of cognitive networks and changes in gm and thalamus volume can be used as tools for assessment of cognition in clinical trials in ms.\",\n          \"decrease in serum leptin by troglitazone is associated with preventing bone loss in type 2 diabetic patients. the thiazolidinedione (tzd) class of antidiabetic drugs has been shown to inhibit the formation of bone-resorbing osteoclasts in vitro and to decrease bone resorption markers in vivo. these drugs also inhibit the expression of leptin in adipocytes. less leptin can be associated with higher bone mass, based on analyses of mice deficient in leptin action. effects of 1-year treatment with troglitazone, a member of the tzds, on bone mineral density (bmd) and bone metabolism were examined in 25 japanese type 2 diabetic patients. glucose metabolism was improved, whereas body mass index and percent body fat did not change throughout the study. the percent change of bmd was negatively correlated with that of serum leptin, whereas it was not associated with changes of bone metabolic markers, type i collagen n-telopeptide (ntx), bone alkaline phosphatase (alp), body mass index, or hba1c. serum leptin decreased in 68% of subjects (responders) after 1-month treatment and was consistently lower than the basal level throughout the treatment. percent changes of bmd were significantly higher in the responders than in the nonresponders and in nondiabetic subjects at 6 and 12 months. ntx and bone alp decreased at 1 month but increased thereafter in either group of patients. thus, it is suggested that the decrease in serum leptin with no reduction in body fat mass by troglitazone is associated with preventing bone loss in type 2 diabetic patients. hence, tzds may have an advantage for diabetic patients who have risk factors for osteoporosis.\"\n        ],\n        \"semantic_type\": \"\",\n        \"description\": \"\"\n      }\n    },\n    {\n      \"column\": \"lemma\",\n      \"properties\": {\n        \"dtype\": \"string\",\n        \"num_unique_values\": 4148,\n        \"samples\": [\n          \"rest state fmri connectivity analysis as a tool for detection of abnormality in five different cognitive network of the brain in multiple sclerosis patient . objective : cognitive dysfunction be present in at least half of patient with multiple sclerosis . the purpose of this study be to examine functional connectivity abnormality in patient with multiple sclerosis ( ms ) use rest state fmri ( rsfmri ) . , method : conventional mri , rsfmri and diffusion tensor imaging ( dti ) datum be acquire from 10 patient with relapse - remit multiple sclerosis ( rrm ) and 20 healthy control . cross - correlation of the rest state average signal among the voxel in each brain region of the five cognitive network : default mode network ( dmn ) , attention , verbal memory , memory , and visuospatial working memory network , be calculate . voxelwise analysis be use to investigate fractional anisotropy ( fa ) of white matter tract . the normalize gray matter ( gm ) , white matter and thalamus volume be calculate . , result : compare to control , significant deficit in ms patient at each of five network , attention ( p=0.026 ) , dmn ( p=0.004 ) , verbal memory ( p<0.001 ) , memory ( p=0.001 ) , visuospatial working memory ( p=0.003 ) be find . significant reduction ( p=0.034 ) in the normalize gm volume and asymmetry in thalamus volume ( p=0.041 ) be detect in ms patient compare to control . , conclusion : wide spread of functional abnormality be present within different cognitive network in patient with rrm , suggest that dmn may not be sufficient for measurement of ms cognitive impairment . large and longitudinal study should ascertain whether rsfmri of cognitive network and change in gm and thalamus volume can be use as tool for assessment of cognition in clinical trial in ms .\",\n          \"decrease in serum leptin by troglitazone be associate with prevent bone loss in type 2 diabetic patient . the thiazolidinedione ( tzd ) class of antidiabetic drug have be show to inhibit the formation of bone - resorb osteoclast in vitro and to decrease bone resorption marker in vivo . these drug also inhibit the expression of leptin in adipocyte . less leptin can be associate with high bone mass , base on analysis of mouse deficient in leptin action . effect of 1 - year treatment with troglitazone , a member of the tzds , on bone mineral density ( bmd ) and bone metabolism be examine in 25 japanese type 2 diabetic patient . glucose metabolism be improve , whereas body mass index and percent body fat do not change throughout the study . the percent change of bmd be negatively correlate with that of serum leptin , whereas it be not associate with change of bone metabolic marker , type I collagen n - telopeptide ( ntx ) , bone alkaline phosphatase ( alp ) , body mass index , or hba1c . serum leptin decrease in 68 % of subject ( responder ) after 1 - month treatment and be consistently low than the basal level throughout the treatment . percent change of bmd be significantly high in the responder than in the nonresponder and in nondiabetic subject at 6 and 12 month . ntx and bone alp decrease at 1 month but increase thereafter in either group of patient . thus , it be suggest that the decrease in serum leptin with no reduction in body fat mass by troglitazone be associate with prevent bone loss in type 2 diabetic patient . hence , tzds may have an advantage for diabetic patient who have risk factor for osteoporosis .\"\n        ],\n        \"semantic_type\": \"\",\n        \"description\": \"\"\n      }\n    },\n    {\n      \"column\": \"stopwords\",\n      \"properties\": {\n        \"dtype\": \"string\",\n        \"num_unique_values\": 4148,\n        \"samples\": [\n          \"rest state fmri connectivity analysis tool detection abnormality different cognitive network brain multiple sclerosis patient . objective : cognitive dysfunction present half patient multiple sclerosis . purpose study examine functional connectivity abnormality patient multiple sclerosis ( ms ) use rest state fmri ( rsfmri ) . , method : conventional mri , rsfmri diffusion tensor imaging ( dti ) datum acquire 10 patient relapse - remit multiple sclerosis ( rrm ) 20 healthy control . cross - correlation rest state average signal voxel brain region cognitive network : default mode network ( dmn ) , attention , verbal memory , memory , visuospatial working memory network , calculate . voxelwise analysis use investigate fractional anisotropy ( fa ) white matter tract . normalize gray matter ( gm ) , white matter thalamus volume calculate . , result : compare control , significant deficit ms patient network , attention ( p=0.026 ) , dmn ( p=0.004 ) , verbal memory ( p<0.001 ) , memory ( p=0.001 ) , visuospatial working memory ( p=0.003 ) find . significant reduction ( p=0.034 ) normalize gm volume asymmetry thalamus volume ( p=0.041 ) detect ms patient compare control . , conclusion : wide spread functional abnormality present different cognitive network patient rrm , suggest dmn sufficient measurement ms cognitive impairment . large longitudinal study ascertain rsfmri cognitive network change gm thalamus volume use tool assessment cognition clinical trial ms .\",\n          \"decrease serum leptin troglitazone associate prevent bone loss type 2 diabetic patient . thiazolidinedione ( tzd ) class antidiabetic drug inhibit formation bone - resorb osteoclast vitro decrease bone resorption marker vivo . drug inhibit expression leptin adipocyte . leptin associate high bone mass , base analysis mouse deficient leptin action . effect 1 - year treatment troglitazone , member tzds , bone mineral density ( bmd ) bone metabolism examine 25 japanese type 2 diabetic patient . glucose metabolism improve , body mass index percent body fat change study . percent change bmd negatively correlate serum leptin , associate change bone metabolic marker , type collagen n - telopeptide ( ntx ) , bone alkaline phosphatase ( alp ) , body mass index , hba1c . serum leptin decrease 68 % subject ( responder ) 1 - month treatment consistently low basal level treatment . percent change bmd significantly high responder nonresponder nondiabetic subject 6 12 month . ntx bone alp decrease 1 month increase group patient . , suggest decrease serum leptin reduction body fat mass troglitazone associate prevent bone loss type 2 diabetic patient . , tzds advantage diabetic patient risk factor osteoporosis .\"\n        ],\n        \"semantic_type\": \"\",\n        \"description\": \"\"\n      }\n    }\n  ]\n}"
            }
          },
          "metadata": {},
          "execution_count": 89
        }
      ]
    },
    {
      "cell_type": "markdown",
      "source": [
        "**Train-Test Split: Splits the data into training and test sets.**"
      ],
      "metadata": {
        "id": "OO5KOq9VyZmA"
      }
    },
    {
      "cell_type": "code",
      "source": [
        "# Dividing the dataset\n",
        "X = shuffled_combined_df['stopwords']\n",
        "y = shuffled_combined_df['label']\n",
        "\n",
        "# X.head()\n",
        "\n",
        "# create a 80-20 split from it\n",
        "\n",
        "train_X, test_X, train_y, test_y = train_test_split(X, y, test_size=0.2, random_state=42)\n",
        "\n",
        "train_X.shape, test_X.shape"
      ],
      "metadata": {
        "id": "PKEgVxD-GIZh",
        "outputId": "08e9fd6d-f040-4ac7-db90-c538faf8c606",
        "colab": {
          "base_uri": "https://localhost:8080/"
        }
      },
      "execution_count": null,
      "outputs": [
        {
          "output_type": "execute_result",
          "data": {
            "text/plain": [
              "((3318,), (830,))"
            ]
          },
          "metadata": {},
          "execution_count": 94
        }
      ]
    },
    {
      "cell_type": "code",
      "source": [
        "from math import pi\n",
        "classifier = Pipeline([\n",
        "    ('Vectorizer_tfidf', TfidfVectorizer()),\n",
        "    ('Random Forest', RandomForestClassifier(n_jobs = 1, random_state = 42)) # n_estimators = 100, max_depth = 10, min_samples_split = 2, min_samples_leaf = 1\n",
        " ])\n",
        "\n",
        "classifier.fit(train_X, train_y)\n",
        "# vectorizer = TfidfVectorizer(max_features=1000)\n",
        "# X_train_tfidf = vectorizer.fit_transform(TRAIN_PATH)\n",
        "# X_test_tfidf = vectorizer.transform(TEST_PATH)"
      ],
      "metadata": {
        "id": "0kSC_RhKczrO",
        "outputId": "30987b6c-49d5-49ff-f5dd-2009b5f1b3fb",
        "colab": {
          "base_uri": "https://localhost:8080/",
          "height": 125
        }
      },
      "execution_count": null,
      "outputs": [
        {
          "output_type": "execute_result",
          "data": {
            "text/plain": [
              "Pipeline(steps=[('Vectorizer_tfidf', TfidfVectorizer()),\n",
              "                ('Random Forest',\n",
              "                 RandomForestClassifier(n_jobs=1, random_state=42))])"
            ],
            "text/html": [
              "<style>#sk-container-id-1 {color: black;background-color: white;}#sk-container-id-1 pre{padding: 0;}#sk-container-id-1 div.sk-toggleable {background-color: white;}#sk-container-id-1 label.sk-toggleable__label {cursor: pointer;display: block;width: 100%;margin-bottom: 0;padding: 0.3em;box-sizing: border-box;text-align: center;}#sk-container-id-1 label.sk-toggleable__label-arrow:before {content: \"▸\";float: left;margin-right: 0.25em;color: #696969;}#sk-container-id-1 label.sk-toggleable__label-arrow:hover:before {color: black;}#sk-container-id-1 div.sk-estimator:hover label.sk-toggleable__label-arrow:before {color: black;}#sk-container-id-1 div.sk-toggleable__content {max-height: 0;max-width: 0;overflow: hidden;text-align: left;background-color: #f0f8ff;}#sk-container-id-1 div.sk-toggleable__content pre {margin: 0.2em;color: black;border-radius: 0.25em;background-color: #f0f8ff;}#sk-container-id-1 input.sk-toggleable__control:checked~div.sk-toggleable__content {max-height: 200px;max-width: 100%;overflow: auto;}#sk-container-id-1 input.sk-toggleable__control:checked~label.sk-toggleable__label-arrow:before {content: \"▾\";}#sk-container-id-1 div.sk-estimator input.sk-toggleable__control:checked~label.sk-toggleable__label {background-color: #d4ebff;}#sk-container-id-1 div.sk-label input.sk-toggleable__control:checked~label.sk-toggleable__label {background-color: #d4ebff;}#sk-container-id-1 input.sk-hidden--visually {border: 0;clip: rect(1px 1px 1px 1px);clip: rect(1px, 1px, 1px, 1px);height: 1px;margin: -1px;overflow: hidden;padding: 0;position: absolute;width: 1px;}#sk-container-id-1 div.sk-estimator {font-family: monospace;background-color: #f0f8ff;border: 1px dotted black;border-radius: 0.25em;box-sizing: border-box;margin-bottom: 0.5em;}#sk-container-id-1 div.sk-estimator:hover {background-color: #d4ebff;}#sk-container-id-1 div.sk-parallel-item::after {content: \"\";width: 100%;border-bottom: 1px solid gray;flex-grow: 1;}#sk-container-id-1 div.sk-label:hover label.sk-toggleable__label {background-color: #d4ebff;}#sk-container-id-1 div.sk-serial::before {content: \"\";position: absolute;border-left: 1px solid gray;box-sizing: border-box;top: 0;bottom: 0;left: 50%;z-index: 0;}#sk-container-id-1 div.sk-serial {display: flex;flex-direction: column;align-items: center;background-color: white;padding-right: 0.2em;padding-left: 0.2em;position: relative;}#sk-container-id-1 div.sk-item {position: relative;z-index: 1;}#sk-container-id-1 div.sk-parallel {display: flex;align-items: stretch;justify-content: center;background-color: white;position: relative;}#sk-container-id-1 div.sk-item::before, #sk-container-id-1 div.sk-parallel-item::before {content: \"\";position: absolute;border-left: 1px solid gray;box-sizing: border-box;top: 0;bottom: 0;left: 50%;z-index: -1;}#sk-container-id-1 div.sk-parallel-item {display: flex;flex-direction: column;z-index: 1;position: relative;background-color: white;}#sk-container-id-1 div.sk-parallel-item:first-child::after {align-self: flex-end;width: 50%;}#sk-container-id-1 div.sk-parallel-item:last-child::after {align-self: flex-start;width: 50%;}#sk-container-id-1 div.sk-parallel-item:only-child::after {width: 0;}#sk-container-id-1 div.sk-dashed-wrapped {border: 1px dashed gray;margin: 0 0.4em 0.5em 0.4em;box-sizing: border-box;padding-bottom: 0.4em;background-color: white;}#sk-container-id-1 div.sk-label label {font-family: monospace;font-weight: bold;display: inline-block;line-height: 1.2em;}#sk-container-id-1 div.sk-label-container {text-align: center;}#sk-container-id-1 div.sk-container {/* jupyter's `normalize.less` sets `[hidden] { display: none; }` but bootstrap.min.css set `[hidden] { display: none !important; }` so we also need the `!important` here to be able to override the default hidden behavior on the sphinx rendered scikit-learn.org. See: https://github.com/scikit-learn/scikit-learn/issues/21755 */display: inline-block !important;position: relative;}#sk-container-id-1 div.sk-text-repr-fallback {display: none;}</style><div id=\"sk-container-id-1\" class=\"sk-top-container\"><div class=\"sk-text-repr-fallback\"><pre>Pipeline(steps=[(&#x27;Vectorizer_tfidf&#x27;, TfidfVectorizer()),\n",
              "                (&#x27;Random Forest&#x27;,\n",
              "                 RandomForestClassifier(n_jobs=1, random_state=42))])</pre><b>In a Jupyter environment, please rerun this cell to show the HTML representation or trust the notebook. <br />On GitHub, the HTML representation is unable to render, please try loading this page with nbviewer.org.</b></div><div class=\"sk-container\" hidden><div class=\"sk-item sk-dashed-wrapped\"><div class=\"sk-label-container\"><div class=\"sk-label sk-toggleable\"><input class=\"sk-toggleable__control sk-hidden--visually\" id=\"sk-estimator-id-1\" type=\"checkbox\" ><label for=\"sk-estimator-id-1\" class=\"sk-toggleable__label sk-toggleable__label-arrow\">Pipeline</label><div class=\"sk-toggleable__content\"><pre>Pipeline(steps=[(&#x27;Vectorizer_tfidf&#x27;, TfidfVectorizer()),\n",
              "                (&#x27;Random Forest&#x27;,\n",
              "                 RandomForestClassifier(n_jobs=1, random_state=42))])</pre></div></div></div><div class=\"sk-serial\"><div class=\"sk-item\"><div class=\"sk-estimator sk-toggleable\"><input class=\"sk-toggleable__control sk-hidden--visually\" id=\"sk-estimator-id-2\" type=\"checkbox\" ><label for=\"sk-estimator-id-2\" class=\"sk-toggleable__label sk-toggleable__label-arrow\">TfidfVectorizer</label><div class=\"sk-toggleable__content\"><pre>TfidfVectorizer()</pre></div></div></div><div class=\"sk-item\"><div class=\"sk-estimator sk-toggleable\"><input class=\"sk-toggleable__control sk-hidden--visually\" id=\"sk-estimator-id-3\" type=\"checkbox\" ><label for=\"sk-estimator-id-3\" class=\"sk-toggleable__label sk-toggleable__label-arrow\">RandomForestClassifier</label><div class=\"sk-toggleable__content\"><pre>RandomForestClassifier(n_jobs=1, random_state=42)</pre></div></div></div></div></div></div></div>"
            ]
          },
          "metadata": {},
          "execution_count": 99
        }
      ]
    },
    {
      "cell_type": "code",
      "source": [
        "classifier.score(test_X, test_y) * 100"
      ],
      "metadata": {
        "id": "EMbFzQ8mDI7q",
        "outputId": "33e1e47a-8270-40a7-ab3a-6c7a0060d5f0",
        "colab": {
          "base_uri": "https://localhost:8080/"
        }
      },
      "execution_count": null,
      "outputs": [
        {
          "output_type": "execute_result",
          "data": {
            "text/plain": [
              "96.02409638554217"
            ]
          },
          "metadata": {},
          "execution_count": 100
        }
      ]
    },
    {
      "cell_type": "code",
      "source": [],
      "metadata": {
        "id": "5MswC83CeS4z"
      },
      "execution_count": null,
      "outputs": []
    }
  ]
}